{
  "nbformat": 4,
  "nbformat_minor": 0,
  "metadata": {
    "colab": {
      "provenance": []
    },
    "kernelspec": {
      "name": "python3",
      "display_name": "Python 3"
    },
    "language_info": {
      "name": "python"
    }
  },
  "cells": [
    {
      "cell_type": "code",
      "source": [
        "from google.colab import drive\n",
        "drive.mount('/content/drive')"
      ],
      "metadata": {
        "colab": {
          "base_uri": "https://localhost:8080/"
        },
        "id": "7F1fH49VL3tc",
        "outputId": "b00c3510-cdb7-4414-8239-b657c0ee79f5"
      },
      "execution_count": null,
      "outputs": [
        {
          "output_type": "stream",
          "name": "stdout",
          "text": [
            "Drive already mounted at /content/drive; to attempt to forcibly remount, call drive.mount(\"/content/drive\", force_remount=True).\n"
          ]
        }
      ]
    },
    {
      "cell_type": "code",
      "execution_count": null,
      "metadata": {
        "colab": {
          "base_uri": "https://localhost:8080/"
        },
        "id": "oYv2RdZjKbuI",
        "outputId": "1766b6cb-0710-462d-fed3-97d3d972c425"
      },
      "outputs": [
        {
          "output_type": "stream",
          "name": "stdout",
          "text": [
            "Câu tương tự nhất: Tôi yêu lập trình\n"
          ]
        }
      ],
      "source": [
        "import numpy as np\n",
        "from gensim.models import KeyedVectors\n",
        "\n",
        "# Bước 1: Tải mô hình FastText\n",
        "model_path = '/content/drive/MyDrive/midtermdata/cc.vi.300.vec'  # Đường dẫn tới file vector FastText\n",
        "model = KeyedVectors.load_word2vec_format(model_path, limit=50000)  # Giới hạn số lượng từ tải vào để giảm thời gian tải\n",
        "\n",
        "# Hàm để tính vector trung bình cho một câu\n",
        "def sentence_to_vector(sentence, model):\n",
        "    words = sentence.split()\n",
        "    word_vectors = [model[word] for word in words if word in model]\n",
        "    if len(word_vectors) == 0:\n",
        "        return np.zeros(model.vector_size)\n",
        "    return np.mean(word_vectors, axis=0)\n",
        "\n",
        "# Bước 2: Tính độ tương tự giữa các câu\n",
        "def find_most_similar_sentence(input_sentence, sentence_set, model):\n",
        "    input_vector = sentence_to_vector(input_sentence, model)\n",
        "    max_similarity = -1\n",
        "    most_similar_sentence = None\n",
        "    for sentence in sentence_set:\n",
        "        sentence_vector = sentence_to_vector(sentence, model)\n",
        "        similarity = np.dot(input_vector, sentence_vector) / (np.linalg.norm(input_vector) * np.linalg.norm(sentence_vector))\n",
        "        if similarity > max_similarity:\n",
        "            max_similarity = similarity\n",
        "            most_similar_sentence = sentence\n",
        "    return most_similar_sentence\n",
        "\n",
        "\n"
      ]
    },
    {
      "cell_type": "code",
      "source": [
        "# Giả sử có tập câu S và câu X như sau\n",
        "S = ['Câu này rất hay', 'Hôm nay trời đẹp quá', 'Tôi yêu lập trình',\n",
        "     'Ngày mai trời có mưa', 'Con chó có bộ lông vàng', 'Chị tôi làm nghề kế toán']\n",
        "X = 'Thời tiết nóng quá'\n",
        "\n",
        "# Bước 3: Tìm câu tương tự nhất\n",
        "most_similar_sentence = find_most_similar_sentence(X, S, model)\n",
        "print(\"Câu tương tự nhất:\", most_similar_sentence)"
      ],
      "metadata": {
        "colab": {
          "base_uri": "https://localhost:8080/"
        },
        "id": "ecJscD5MNMW2",
        "outputId": "2411d68f-88fa-4ad1-88bc-f59477ba2417"
      },
      "execution_count": null,
      "outputs": [
        {
          "output_type": "stream",
          "name": "stdout",
          "text": [
            "Câu tương tự nhất: Hôm nay trời đẹp quá\n"
          ]
        }
      ]
    },
    {
      "cell_type": "code",
      "source": [
        "most_similar_sentence = find_most_similar_sentence(\"Tôi thích code\", S, model)\n",
        "print(\"Câu tương tự nhất:\", most_similar_sentence)"
      ],
      "metadata": {
        "colab": {
          "base_uri": "https://localhost:8080/"
        },
        "id": "cfytZMcUO1XH",
        "outputId": "20585f07-62d8-40b1-b5ca-21cc04e2f675"
      },
      "execution_count": null,
      "outputs": [
        {
          "output_type": "stream",
          "name": "stdout",
          "text": [
            "Câu tương tự nhất: Tôi yêu lập trình\n"
          ]
        }
      ]
    },
    {
      "cell_type": "code",
      "source": [
        "most_similar_sentence = find_most_similar_sentence(\"Con mèo nhà tôi có đôi mắt xanh\", S, model)\n",
        "print(\"Câu tương tự nhất:\", most_similar_sentence)"
      ],
      "metadata": {
        "colab": {
          "base_uri": "https://localhost:8080/"
        },
        "id": "BCVe5ljFPXLg",
        "outputId": "a7253d3f-c26e-493d-eacd-e2f81ad847b6"
      },
      "execution_count": null,
      "outputs": [
        {
          "output_type": "stream",
          "name": "stdout",
          "text": [
            "Câu tương tự nhất: Con chó có bộ lông vàng\n"
          ]
        }
      ]
    }
  ]
}