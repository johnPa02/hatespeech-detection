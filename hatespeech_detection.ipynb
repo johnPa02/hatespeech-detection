{
  "nbformat": 4,
  "nbformat_minor": 0,
  "metadata": {
    "colab": {
      "provenance": [],
      "gpuType": "T4"
    },
    "kernelspec": {
      "name": "python3",
      "display_name": "Python 3"
    },
    "language_info": {
      "name": "python"
    },
    "accelerator": "GPU"
  },
  "cells": [
    {
      "cell_type": "markdown",
      "source": [
        "#1. Introduction"
      ],
      "metadata": {
        "id": "iz3R9ZK89gYg"
      }
    },
    {
      "cell_type": "code",
      "source": [
        "from google.colab import drive\n",
        "drive.mount('/content/drive')"
      ],
      "metadata": {
        "colab": {
          "base_uri": "https://localhost:8080/"
        },
        "id": "cfU-BBPo9oE_",
        "outputId": "80bc7937-ecf1-4225-af4a-ae62cf891b8b"
      },
      "execution_count": null,
      "outputs": [
        {
          "output_type": "stream",
          "name": "stdout",
          "text": [
            "Mounted at /content/drive\n"
          ]
        }
      ]
    },
    {
      "cell_type": "markdown",
      "source": [
        "# 2. EDA"
      ],
      "metadata": {
        "id": "zFlpaRRe9wSm"
      }
    },
    {
      "cell_type": "markdown",
      "source": [
        "## Install and import necessary packages"
      ],
      "metadata": {
        "id": "CDkJV4xQCEwP"
      }
    },
    {
      "cell_type": "code",
      "source": [
        "!pip install pyvi\n",
        "!pip install emoji"
      ],
      "metadata": {
        "colab": {
          "base_uri": "https://localhost:8080/"
        },
        "id": "FLEQXJEUBzTL",
        "outputId": "cb04a69c-d791-437f-f5fc-465f5860e154"
      },
      "execution_count": null,
      "outputs": [
        {
          "output_type": "stream",
          "name": "stdout",
          "text": [
            "Collecting pyvi\n",
            "  Downloading pyvi-0.1.1-py2.py3-none-any.whl (8.5 MB)\n",
            "\u001b[2K     \u001b[90m━━━━━━━━━━━━━━━━━━━━━━━━━━━━━━━━━━━━━━━━\u001b[0m \u001b[32m8.5/8.5 MB\u001b[0m \u001b[31m28.1 MB/s\u001b[0m eta \u001b[36m0:00:00\u001b[0m\n",
            "\u001b[?25hRequirement already satisfied: scikit-learn in /usr/local/lib/python3.10/dist-packages (from pyvi) (1.2.2)\n",
            "Collecting sklearn-crfsuite (from pyvi)\n",
            "  Downloading sklearn_crfsuite-0.3.6-py2.py3-none-any.whl (12 kB)\n",
            "Requirement already satisfied: numpy>=1.17.3 in /usr/local/lib/python3.10/dist-packages (from scikit-learn->pyvi) (1.25.2)\n",
            "Requirement already satisfied: scipy>=1.3.2 in /usr/local/lib/python3.10/dist-packages (from scikit-learn->pyvi) (1.11.4)\n",
            "Requirement already satisfied: joblib>=1.1.1 in /usr/local/lib/python3.10/dist-packages (from scikit-learn->pyvi) (1.3.2)\n",
            "Requirement already satisfied: threadpoolctl>=2.0.0 in /usr/local/lib/python3.10/dist-packages (from scikit-learn->pyvi) (3.4.0)\n",
            "Collecting python-crfsuite>=0.8.3 (from sklearn-crfsuite->pyvi)\n",
            "  Downloading python_crfsuite-0.9.10-cp310-cp310-manylinux_2_17_x86_64.manylinux2014_x86_64.whl (1.1 MB)\n",
            "\u001b[2K     \u001b[90m━━━━━━━━━━━━━━━━━━━━━━━━━━━━━━━━━━━━━━━━\u001b[0m \u001b[32m1.1/1.1 MB\u001b[0m \u001b[31m68.0 MB/s\u001b[0m eta \u001b[36m0:00:00\u001b[0m\n",
            "\u001b[?25hRequirement already satisfied: six in /usr/local/lib/python3.10/dist-packages (from sklearn-crfsuite->pyvi) (1.16.0)\n",
            "Requirement already satisfied: tabulate in /usr/local/lib/python3.10/dist-packages (from sklearn-crfsuite->pyvi) (0.9.0)\n",
            "Requirement already satisfied: tqdm>=2.0 in /usr/local/lib/python3.10/dist-packages (from sklearn-crfsuite->pyvi) (4.66.2)\n",
            "Installing collected packages: python-crfsuite, sklearn-crfsuite, pyvi\n",
            "Successfully installed python-crfsuite-0.9.10 pyvi-0.1.1 sklearn-crfsuite-0.3.6\n",
            "Collecting emoji\n",
            "  Downloading emoji-2.11.0-py2.py3-none-any.whl (433 kB)\n",
            "\u001b[2K     \u001b[90m━━━━━━━━━━━━━━━━━━━━━━━━━━━━━━━━━━━━━━━━\u001b[0m \u001b[32m433.8/433.8 kB\u001b[0m \u001b[31m3.5 MB/s\u001b[0m eta \u001b[36m0:00:00\u001b[0m\n",
            "\u001b[?25hInstalling collected packages: emoji\n",
            "Successfully installed emoji-2.11.0\n"
          ]
        }
      ]
    },
    {
      "cell_type": "code",
      "source": [
        "import os\n",
        "import pandas as pd\n",
        "from sklearn.model_selection import train_test_split\n",
        "import matplotlib.pyplot as plt\n",
        "import seaborn as sn\n",
        "import numpy as np\n",
        "import re\n",
        "import emoji\n",
        "from wordcloud import WordCloud\n",
        "from pyvi.ViTokenizer import ViTokenizer\n",
        "from keras.preprocessing import text, sequence\n",
        "from keras.utils import to_categorical\n",
        "from sklearn.metrics import f1_score, confusion_matrix, accuracy_score\n",
        "from keras.layers import Input, Dense, Embedding, Conv2D, MaxPool2D\n",
        "from keras.layers import Reshape, Flatten, Dropout, Concatenate\n",
        "from keras.callbacks import ModelCheckpoint\n",
        "from keras.optimizers import Adam\n",
        "from keras.models import Model\n",
        "DATA_PATH = \"/content/drive/MyDrive/midtermdata/\"\n",
        "\n",
        "os.listdir(DATA_PATH)"
      ],
      "metadata": {
        "colab": {
          "base_uri": "https://localhost:8080/"
        },
        "id": "o7a5Jyk8x4aQ",
        "outputId": "25c4e606-20a5-4c65-ce03-bcf73f236b61"
      },
      "execution_count": null,
      "outputs": [
        {
          "output_type": "execute_result",
          "data": {
            "text/plain": [
              "['cc.vi.300.vec',\n",
              " 'dev.csv',\n",
              " 'test.csv',\n",
              " 'train.csv',\n",
              " 'facebook_comment_2k7.csv',\n",
              " 'facebook_comment_2k7.gsheet',\n",
              " 'train.gsheet',\n",
              " 'vietnamese-stopwords-dash.txt',\n",
              " 'VnCoreNLP-1.1.1.jar',\n",
              " 'Text_CNN_model_v1.h5',\n",
              " 'GRU_model_v1.h5',\n",
              " 'transformer_model']"
            ]
          },
          "metadata": {},
          "execution_count": 4
        }
      ]
    },
    {
      "cell_type": "markdown",
      "source": [
        "## Load data 2k7\n",
        "\n",
        "Mục đích xây dựng model phát hiện 3 nhãn riêng biệt: harrassment, hatespeech, normal nên các nhãn chỉ cần có chứa harrassment sẽ là harrassment, có hatespeech sẽ được xem là hatespeech, còn lại là normal.\n",
        "\n",
        "Trong vihsd: CLEAN (0), OFFENSIVE (1), and HATE (2)\n",
        "\n",
        "Trong tập 2k7 hiện tại: harassment = HATE, hatespeech = OFFENSIVE, normal = CLEAN nên nhãn cho tập dữ liệu kết hợp là:\n",
        "'normal': 0, 'hate_speech': 1, 'harassment': 2"
      ],
      "metadata": {
        "id": "ljntnATdCRH0"
      }
    },
    {
      "cell_type": "code",
      "source": [
        "# Load the dataset\n",
        "FILE_PATH = \"facebook_comment_2k7.csv\"\n",
        "df2k7 = pd.read_csv(DATA_PATH + FILE_PATH)\n",
        "df2k7 = df2k7.drop(columns=['id', 'Unnamed: 0'], errors='ignore')\n",
        "def adjust_label(label):\n",
        "    if 'harassment' in label:\n",
        "        return 2\n",
        "    elif 'hate_speech' in label:\n",
        "        return 1\n",
        "    else:\n",
        "        return 0\n",
        "\n",
        "df2k7['label'] = df2k7['label'].apply(adjust_label)"
      ],
      "metadata": {
        "id": "WpvTVhXN7mYM"
      },
      "execution_count": null,
      "outputs": []
    },
    {
      "cell_type": "code",
      "source": [
        "df2k7['label'].unique()"
      ],
      "metadata": {
        "colab": {
          "base_uri": "https://localhost:8080/"
        },
        "id": "MhJTBctsGhi7",
        "outputId": "10486d7f-fd21-4a1f-cfbf-8a90994c9695"
      },
      "execution_count": null,
      "outputs": [
        {
          "output_type": "execute_result",
          "data": {
            "text/plain": [
              "array([2, 0, 1])"
            ]
          },
          "metadata": {},
          "execution_count": 6
        }
      ]
    },
    {
      "cell_type": "code",
      "source": [
        "len(df2k7)"
      ],
      "metadata": {
        "id": "vHwzs9ocGnTL"
      },
      "execution_count": null,
      "outputs": []
    },
    {
      "source": [
        "# @title Label Frequency\n",
        "\n",
        "df2k7['label'].value_counts().plot(kind='bar')"
      ],
      "cell_type": "code",
      "execution_count": null,
      "outputs": [],
      "metadata": {
        "id": "p1O4YlpjTRiA"
      }
    },
    {
      "cell_type": "markdown",
      "source": [
        "Do tính phức tạp và tinh vi của lời nói căm thù và hành vi quấy rối, tập dữ liệu với 2.700 nhận xét có thể không cung cấp đủ ví dụ để mô hình học máy tìm hiểu và khái quát hóa một cách hiệu quả, đặc biệt nếu những nhận xét này không được phân bố đồng đều giữa các class, như hình trên dữ liệu không cân bằng và có số lượng rất ít. Điều quan trọng là mô hình phải tiếp xúc với nhiều kiểu ngôn ngữ, sắc thái và ngữ cảnh khác nhau để hoạt động tốt trên dữ liệu trong thế giới thực và một tập dữ liệu hạn chế có thể không nắm bắt được toàn bộ cách ngôn từ kích động thù địch và hành vi quấy rối có thể biểu hiện trong ngôn ngữ.\n",
        "\n",
        "Do đó, việc đào tạo một mô hình trên tập dữ liệu này có thể dẫn đến một hệ thống không đủ mạnh để xử lý các biểu hiện đa dạng của lời nói căm thù và quấy rối trong các tình huống khác nhau, có khả năng dẫn đến tỷ lệ dương tính giả hoặc âm tính giả cao khi được triển khai trong môi trường trực tiếp.\n",
        "\n",
        "Để giảm thiểu điều này, hãy xem xét các kỹ thuật như tăng cường dữ liệu để mở rộng tổng hợp các lớp thiểu số, sử dụng các mô hình được đào tạo trước hoặc kết hợp các bộ dữ liệu bên ngoài. Cách tiếp cận này có thể mang lại cho mô hình trải nghiệm học tập phong phú hơn và cải thiện hiệu suất của mô hình trong việc phát hiện lời nói căm thù và hành vi quấy rối."
      ],
      "metadata": {
        "id": "90vq_S_sUUoy"
      }
    },
    {
      "cell_type": "markdown",
      "source": [
        "## Kết hợp tập dữ liệu ViHSD"
      ],
      "metadata": {
        "id": "XcGeXJUjVYtd"
      }
    },
    {
      "cell_type": "markdown",
      "source": [
        "Chia tập 2k7 thành train, val, test với tỉ lệ 7:1:2"
      ],
      "metadata": {
        "id": "ztjIOSGqnNeh"
      }
    },
    {
      "cell_type": "code",
      "source": [
        "# Split the data into train+val and test sets with stratification\n",
        "train_val, test = train_test_split(df2k7, test_size=0.2, stratify=df2k7['label'], random_state=42)\n",
        "train, val = train_test_split(train_val, test_size=0.125, stratify=train_val['label'], random_state=42)"
      ],
      "metadata": {
        "id": "HPPPLNKtnlXU"
      },
      "execution_count": null,
      "outputs": []
    },
    {
      "cell_type": "code",
      "source": [
        "# Load the VIHSD dataset\n",
        "vihsd_train_path = DATA_PATH + 'train.csv'\n",
        "vihsd_dev_path = DATA_PATH + 'dev.csv'\n",
        "vihsd_test_path = DATA_PATH + 'test.csv'\n",
        "\n",
        "vihsd_train = pd.read_csv(vihsd_train_path)\n",
        "vihsd_dev = pd.read_csv(vihsd_dev_path)\n",
        "vihsd_test = pd.read_csv(vihsd_test_path)"
      ],
      "metadata": {
        "id": "nW0YSfL-nt7Y"
      },
      "execution_count": null,
      "outputs": []
    },
    {
      "cell_type": "code",
      "source": [
        "vihsd_train.head()"
      ],
      "metadata": {
        "colab": {
          "base_uri": "https://localhost:8080/",
          "height": 206
        },
        "id": "clKV_7R2oaep",
        "outputId": "43a2002d-d38c-4e9c-dd43-c7ad82607027"
      },
      "execution_count": null,
      "outputs": [
        {
          "output_type": "execute_result",
          "data": {
            "text/plain": [
              "                                           free_text  label_id\n",
              "0  Em được làm fan cứng luôn rồi nè ❤️ reaction q...         0\n",
              "1  Đúng là bọn mắt híp lò xo thụt :))) bên việt n...         2\n",
              "2           Đậu Văn Cường giờ giống thằng sida hơn à         0\n",
              "3  CÔN ĐỒ CỤC SÚC VÔ NHÂN TÍNH ĐỀ NGHI VN. NHÀ NƯ...         2\n",
              "4  Từ lý thuyết đến thực hành là cả 1 câu chuyện ...         0"
            ],
            "text/html": [
              "\n",
              "  <div id=\"df-c5620345-bb33-433c-a029-73a4b9cf6277\" class=\"colab-df-container\">\n",
              "    <div>\n",
              "<style scoped>\n",
              "    .dataframe tbody tr th:only-of-type {\n",
              "        vertical-align: middle;\n",
              "    }\n",
              "\n",
              "    .dataframe tbody tr th {\n",
              "        vertical-align: top;\n",
              "    }\n",
              "\n",
              "    .dataframe thead th {\n",
              "        text-align: right;\n",
              "    }\n",
              "</style>\n",
              "<table border=\"1\" class=\"dataframe\">\n",
              "  <thead>\n",
              "    <tr style=\"text-align: right;\">\n",
              "      <th></th>\n",
              "      <th>free_text</th>\n",
              "      <th>label_id</th>\n",
              "    </tr>\n",
              "  </thead>\n",
              "  <tbody>\n",
              "    <tr>\n",
              "      <th>0</th>\n",
              "      <td>Em được làm fan cứng luôn rồi nè ❤️ reaction q...</td>\n",
              "      <td>0</td>\n",
              "    </tr>\n",
              "    <tr>\n",
              "      <th>1</th>\n",
              "      <td>Đúng là bọn mắt híp lò xo thụt :))) bên việt n...</td>\n",
              "      <td>2</td>\n",
              "    </tr>\n",
              "    <tr>\n",
              "      <th>2</th>\n",
              "      <td>Đậu Văn Cường giờ giống thằng sida hơn à</td>\n",
              "      <td>0</td>\n",
              "    </tr>\n",
              "    <tr>\n",
              "      <th>3</th>\n",
              "      <td>CÔN ĐỒ CỤC SÚC VÔ NHÂN TÍNH ĐỀ NGHI VN. NHÀ NƯ...</td>\n",
              "      <td>2</td>\n",
              "    </tr>\n",
              "    <tr>\n",
              "      <th>4</th>\n",
              "      <td>Từ lý thuyết đến thực hành là cả 1 câu chuyện ...</td>\n",
              "      <td>0</td>\n",
              "    </tr>\n",
              "  </tbody>\n",
              "</table>\n",
              "</div>\n",
              "    <div class=\"colab-df-buttons\">\n",
              "\n",
              "  <div class=\"colab-df-container\">\n",
              "    <button class=\"colab-df-convert\" onclick=\"convertToInteractive('df-c5620345-bb33-433c-a029-73a4b9cf6277')\"\n",
              "            title=\"Convert this dataframe to an interactive table.\"\n",
              "            style=\"display:none;\">\n",
              "\n",
              "  <svg xmlns=\"http://www.w3.org/2000/svg\" height=\"24px\" viewBox=\"0 -960 960 960\">\n",
              "    <path d=\"M120-120v-720h720v720H120Zm60-500h600v-160H180v160Zm220 220h160v-160H400v160Zm0 220h160v-160H400v160ZM180-400h160v-160H180v160Zm440 0h160v-160H620v160ZM180-180h160v-160H180v160Zm440 0h160v-160H620v160Z\"/>\n",
              "  </svg>\n",
              "    </button>\n",
              "\n",
              "  <style>\n",
              "    .colab-df-container {\n",
              "      display:flex;\n",
              "      gap: 12px;\n",
              "    }\n",
              "\n",
              "    .colab-df-convert {\n",
              "      background-color: #E8F0FE;\n",
              "      border: none;\n",
              "      border-radius: 50%;\n",
              "      cursor: pointer;\n",
              "      display: none;\n",
              "      fill: #1967D2;\n",
              "      height: 32px;\n",
              "      padding: 0 0 0 0;\n",
              "      width: 32px;\n",
              "    }\n",
              "\n",
              "    .colab-df-convert:hover {\n",
              "      background-color: #E2EBFA;\n",
              "      box-shadow: 0px 1px 2px rgba(60, 64, 67, 0.3), 0px 1px 3px 1px rgba(60, 64, 67, 0.15);\n",
              "      fill: #174EA6;\n",
              "    }\n",
              "\n",
              "    .colab-df-buttons div {\n",
              "      margin-bottom: 4px;\n",
              "    }\n",
              "\n",
              "    [theme=dark] .colab-df-convert {\n",
              "      background-color: #3B4455;\n",
              "      fill: #D2E3FC;\n",
              "    }\n",
              "\n",
              "    [theme=dark] .colab-df-convert:hover {\n",
              "      background-color: #434B5C;\n",
              "      box-shadow: 0px 1px 3px 1px rgba(0, 0, 0, 0.15);\n",
              "      filter: drop-shadow(0px 1px 2px rgba(0, 0, 0, 0.3));\n",
              "      fill: #FFFFFF;\n",
              "    }\n",
              "  </style>\n",
              "\n",
              "    <script>\n",
              "      const buttonEl =\n",
              "        document.querySelector('#df-c5620345-bb33-433c-a029-73a4b9cf6277 button.colab-df-convert');\n",
              "      buttonEl.style.display =\n",
              "        google.colab.kernel.accessAllowed ? 'block' : 'none';\n",
              "\n",
              "      async function convertToInteractive(key) {\n",
              "        const element = document.querySelector('#df-c5620345-bb33-433c-a029-73a4b9cf6277');\n",
              "        const dataTable =\n",
              "          await google.colab.kernel.invokeFunction('convertToInteractive',\n",
              "                                                    [key], {});\n",
              "        if (!dataTable) return;\n",
              "\n",
              "        const docLinkHtml = 'Like what you see? Visit the ' +\n",
              "          '<a target=\"_blank\" href=https://colab.research.google.com/notebooks/data_table.ipynb>data table notebook</a>'\n",
              "          + ' to learn more about interactive tables.';\n",
              "        element.innerHTML = '';\n",
              "        dataTable['output_type'] = 'display_data';\n",
              "        await google.colab.output.renderOutput(dataTable, element);\n",
              "        const docLink = document.createElement('div');\n",
              "        docLink.innerHTML = docLinkHtml;\n",
              "        element.appendChild(docLink);\n",
              "      }\n",
              "    </script>\n",
              "  </div>\n",
              "\n",
              "\n",
              "<div id=\"df-be61f96e-b1fa-40f7-af51-cc6005b4c37b\">\n",
              "  <button class=\"colab-df-quickchart\" onclick=\"quickchart('df-be61f96e-b1fa-40f7-af51-cc6005b4c37b')\"\n",
              "            title=\"Suggest charts\"\n",
              "            style=\"display:none;\">\n",
              "\n",
              "<svg xmlns=\"http://www.w3.org/2000/svg\" height=\"24px\"viewBox=\"0 0 24 24\"\n",
              "     width=\"24px\">\n",
              "    <g>\n",
              "        <path d=\"M19 3H5c-1.1 0-2 .9-2 2v14c0 1.1.9 2 2 2h14c1.1 0 2-.9 2-2V5c0-1.1-.9-2-2-2zM9 17H7v-7h2v7zm4 0h-2V7h2v10zm4 0h-2v-4h2v4z\"/>\n",
              "    </g>\n",
              "</svg>\n",
              "  </button>\n",
              "\n",
              "<style>\n",
              "  .colab-df-quickchart {\n",
              "      --bg-color: #E8F0FE;\n",
              "      --fill-color: #1967D2;\n",
              "      --hover-bg-color: #E2EBFA;\n",
              "      --hover-fill-color: #174EA6;\n",
              "      --disabled-fill-color: #AAA;\n",
              "      --disabled-bg-color: #DDD;\n",
              "  }\n",
              "\n",
              "  [theme=dark] .colab-df-quickchart {\n",
              "      --bg-color: #3B4455;\n",
              "      --fill-color: #D2E3FC;\n",
              "      --hover-bg-color: #434B5C;\n",
              "      --hover-fill-color: #FFFFFF;\n",
              "      --disabled-bg-color: #3B4455;\n",
              "      --disabled-fill-color: #666;\n",
              "  }\n",
              "\n",
              "  .colab-df-quickchart {\n",
              "    background-color: var(--bg-color);\n",
              "    border: none;\n",
              "    border-radius: 50%;\n",
              "    cursor: pointer;\n",
              "    display: none;\n",
              "    fill: var(--fill-color);\n",
              "    height: 32px;\n",
              "    padding: 0;\n",
              "    width: 32px;\n",
              "  }\n",
              "\n",
              "  .colab-df-quickchart:hover {\n",
              "    background-color: var(--hover-bg-color);\n",
              "    box-shadow: 0 1px 2px rgba(60, 64, 67, 0.3), 0 1px 3px 1px rgba(60, 64, 67, 0.15);\n",
              "    fill: var(--button-hover-fill-color);\n",
              "  }\n",
              "\n",
              "  .colab-df-quickchart-complete:disabled,\n",
              "  .colab-df-quickchart-complete:disabled:hover {\n",
              "    background-color: var(--disabled-bg-color);\n",
              "    fill: var(--disabled-fill-color);\n",
              "    box-shadow: none;\n",
              "  }\n",
              "\n",
              "  .colab-df-spinner {\n",
              "    border: 2px solid var(--fill-color);\n",
              "    border-color: transparent;\n",
              "    border-bottom-color: var(--fill-color);\n",
              "    animation:\n",
              "      spin 1s steps(1) infinite;\n",
              "  }\n",
              "\n",
              "  @keyframes spin {\n",
              "    0% {\n",
              "      border-color: transparent;\n",
              "      border-bottom-color: var(--fill-color);\n",
              "      border-left-color: var(--fill-color);\n",
              "    }\n",
              "    20% {\n",
              "      border-color: transparent;\n",
              "      border-left-color: var(--fill-color);\n",
              "      border-top-color: var(--fill-color);\n",
              "    }\n",
              "    30% {\n",
              "      border-color: transparent;\n",
              "      border-left-color: var(--fill-color);\n",
              "      border-top-color: var(--fill-color);\n",
              "      border-right-color: var(--fill-color);\n",
              "    }\n",
              "    40% {\n",
              "      border-color: transparent;\n",
              "      border-right-color: var(--fill-color);\n",
              "      border-top-color: var(--fill-color);\n",
              "    }\n",
              "    60% {\n",
              "      border-color: transparent;\n",
              "      border-right-color: var(--fill-color);\n",
              "    }\n",
              "    80% {\n",
              "      border-color: transparent;\n",
              "      border-right-color: var(--fill-color);\n",
              "      border-bottom-color: var(--fill-color);\n",
              "    }\n",
              "    90% {\n",
              "      border-color: transparent;\n",
              "      border-bottom-color: var(--fill-color);\n",
              "    }\n",
              "  }\n",
              "</style>\n",
              "\n",
              "  <script>\n",
              "    async function quickchart(key) {\n",
              "      const quickchartButtonEl =\n",
              "        document.querySelector('#' + key + ' button');\n",
              "      quickchartButtonEl.disabled = true;  // To prevent multiple clicks.\n",
              "      quickchartButtonEl.classList.add('colab-df-spinner');\n",
              "      try {\n",
              "        const charts = await google.colab.kernel.invokeFunction(\n",
              "            'suggestCharts', [key], {});\n",
              "      } catch (error) {\n",
              "        console.error('Error during call to suggestCharts:', error);\n",
              "      }\n",
              "      quickchartButtonEl.classList.remove('colab-df-spinner');\n",
              "      quickchartButtonEl.classList.add('colab-df-quickchart-complete');\n",
              "    }\n",
              "    (() => {\n",
              "      let quickchartButtonEl =\n",
              "        document.querySelector('#df-be61f96e-b1fa-40f7-af51-cc6005b4c37b button');\n",
              "      quickchartButtonEl.style.display =\n",
              "        google.colab.kernel.accessAllowed ? 'block' : 'none';\n",
              "    })();\n",
              "  </script>\n",
              "</div>\n",
              "\n",
              "    </div>\n",
              "  </div>\n"
            ],
            "application/vnd.google.colaboratory.intrinsic+json": {
              "type": "dataframe",
              "variable_name": "vihsd_train",
              "summary": "{\n  \"name\": \"vihsd_train\",\n  \"rows\": 24048,\n  \"fields\": [\n    {\n      \"column\": \"free_text\",\n      \"properties\": {\n        \"dtype\": \"string\",\n        \"num_unique_values\": 22557,\n        \"samples\": [\n          \"@Qu\\u1ed1c B\\u1ea3o L\\u01b0u l\\u00ean ph\\u01b0\\u1eddng l\\u00e0m vi\\u1ec7c l\\u00e0 bi\\u1ebft li\\u1ec1n nha, \\u0111\\u00f4i co \\u1edf \\u0111\\u00e2y chi cho m\\u1ec7t =]]\",\n          \"C\\u1ea3m th\\u1ea5y ch\\u1eedi l\\u0111ao l\\u00e0 1 th\\u00fa vui x\\u1ea3 stress do b\\u1ecdn n\\u00f3 qu\\u00e1 ngu v\\u00e0 nguy hi\\u1ec3m :)))\",\n          \"C\\u1eadu M\\u1ea1nh cao nh\\u00e2n\"\n        ],\n        \"semantic_type\": \"\",\n        \"description\": \"\"\n      }\n    },\n    {\n      \"column\": \"label_id\",\n      \"properties\": {\n        \"dtype\": \"number\",\n        \"std\": 0,\n        \"min\": 0,\n        \"max\": 2,\n        \"num_unique_values\": 3,\n        \"samples\": [\n          0,\n          2,\n          1\n        ],\n        \"semantic_type\": \"\",\n        \"description\": \"\"\n      }\n    }\n  ]\n}"
            }
          },
          "metadata": {},
          "execution_count": 9
        }
      ]
    },
    {
      "cell_type": "code",
      "source": [
        "combined_train = pd.concat([vihsd_train.rename(columns={'free_text': 'text'}), train.rename(columns={'label': 'label_id'})])\n",
        "combined_dev = pd.concat([vihsd_dev.rename(columns={'free_text': 'text'}), val.rename(columns={'label': 'label_id'})])\n",
        "combined_test = pd.concat([vihsd_test.rename(columns={'free_text': 'text'}), test.rename(columns={'label': 'label_id'})])\n",
        "\n",
        "# Shuffle each combined dataset\n",
        "combined_train = combined_train.sample(frac=1, random_state=42).reset_index(drop=True)\n",
        "combined_dev = combined_dev.sample(frac=1, random_state=42).reset_index(drop=True)\n",
        "combined_test = combined_test.sample(frac=1, random_state=42).reset_index(drop=True)"
      ],
      "metadata": {
        "id": "OmevyfSDophB"
      },
      "execution_count": null,
      "outputs": []
    },
    {
      "cell_type": "markdown",
      "source": [
        "Tập train của 2k7 trước và sau khi bổ sung thêm vihsd"
      ],
      "metadata": {
        "id": "zdfuQWaXpa3h"
      }
    },
    {
      "cell_type": "code",
      "source": [
        "len(train), len(vihsd_train), len(combined_train)"
      ],
      "metadata": {
        "colab": {
          "base_uri": "https://localhost:8080/"
        },
        "id": "pLn1v_tbpLli",
        "outputId": "d0b028ba-3798-418d-9f9b-51fe306fc663"
      },
      "execution_count": null,
      "outputs": [
        {
          "output_type": "execute_result",
          "data": {
            "text/plain": [
              "(1890, 24048, 25938)"
            ]
          },
          "metadata": {},
          "execution_count": 11
        }
      ]
    },
    {
      "cell_type": "code",
      "source": [
        "combined_train.head()"
      ],
      "metadata": {
        "id": "chX0bletpy0p"
      },
      "execution_count": null,
      "outputs": []
    },
    {
      "cell_type": "markdown",
      "source": [
        "Xóa các row bị NaN"
      ],
      "metadata": {
        "id": "xbsXCXIuYGMX"
      }
    },
    {
      "cell_type": "code",
      "source": [
        "combined_train.info()"
      ],
      "metadata": {
        "id": "Dv0q8fx5W7Go"
      },
      "execution_count": null,
      "outputs": []
    },
    {
      "cell_type": "code",
      "source": [
        "combined_train.dropna(inplace=True)"
      ],
      "metadata": {
        "id": "Qau6iF7-XJv7"
      },
      "execution_count": null,
      "outputs": []
    },
    {
      "cell_type": "markdown",
      "source": [
        "## The distributions of three labels on the train, val, and test sets"
      ],
      "metadata": {
        "id": "vVUi0BLRDWNz"
      }
    },
    {
      "cell_type": "code",
      "source": [
        "label_id_to_name = {0: 'NORMAL', 1: 'HATE', 2: 'HARASSMENT'}\n",
        "\n",
        "train_label_counts = combined_train['label_id'].map(label_id_to_name).value_counts()\n",
        "val_label_counts = combined_dev['label_id'].map(label_id_to_name).value_counts()\n",
        "test_label_counts = combined_test['label_id'].map(label_id_to_name).value_counts()\n",
        "\n",
        "fig, ax = plt.subplots(figsize=(6, 4))\n",
        "\n",
        "# Heights of the bars\n",
        "hate_speech_counts = [train_label_counts.get('HATE', 0), val_label_counts.get('HATE', 0), test_label_counts.get('HATE', 0)]\n",
        "harassment_counts = [train_label_counts.get('HARASSMENT', 0), val_label_counts.get('HARASSMENT', 0), test_label_counts.get('HARASSMENT', 0)]\n",
        "normal_counts = [train_label_counts.get('NORMAL', 0), val_label_counts.get('NORMAL', 0), test_label_counts.get('NORMAL', 0)]\n",
        "\n",
        "# The x position of bars\n",
        "barWidth = 0.25\n",
        "r1 = np.arange(len(hate_speech_counts))\n",
        "r2 = [x + barWidth for x in r1]\n",
        "r3 = [x + barWidth for x in r2]\n",
        "\n",
        "# Plotting the bars\n",
        "plt.bar(r1, hate_speech_counts, color='grey', width=barWidth, edgecolor='grey', label='HATE SPEECH')\n",
        "plt.bar(r2, harassment_counts, color='black', width=barWidth, edgecolor='black', label='HARASSMENT')\n",
        "plt.bar(r3, normal_counts, color='white', width=barWidth, edgecolor='black', hatch='/', label='NORMAL')\n",
        "\n",
        "# Adding the annotations for counts on top of the bars\n",
        "def add_labels(x, counts):\n",
        "    for i in range(len(x)):\n",
        "        plt.text(x[i], counts[i] + max(counts) * 0.01, f'{counts[i]:,.0f}', ha='center')\n",
        "add_labels(r1, hate_speech_counts)\n",
        "add_labels(r2, harassment_counts)\n",
        "add_labels(r3, normal_counts)\n",
        "\n",
        "# General layout\n",
        "plt.xticks([r + barWidth for r in range(len(hate_speech_counts))], ['TRAIN', 'VAL', 'TEST'])\n",
        "plt.ylabel('Number of comments')\n",
        "plt.yscale('log')\n",
        "plt.title('Distribution of Comments by Label (Actual Counts)')\n",
        "plt.legend()\n",
        "\n",
        "plt.grid(which='both', axis='y', linestyle='--', linewidth=0.7)\n",
        "\n",
        "plt.tight_layout()\n",
        "plt.show()"
      ],
      "metadata": {
        "colab": {
          "base_uri": "https://localhost:8080/",
          "height": 407
        },
        "id": "tajxUrg0Dnrn",
        "outputId": "4f34d57f-e2df-4bbf-a682-2fd45a72ac4b"
      },
      "execution_count": null,
      "outputs": [
        {
          "output_type": "display_data",
          "data": {
            "text/plain": [
              "<Figure size 600x400 with 1 Axes>"
            ],
            "image/png": "[encoded data removed]"
          },
          "metadata": {}
        }
      ]
    },
    {
      "cell_type": "markdown",
      "source": [
        "Biểu đồ cho thấy sự mất cân bằng đáng kể trong tập dữ liệu, với số lượng nhận xét 'normal' vượt xa số lượng nhận xét về 'hate_speech' và 'harassment'.\n",
        "\n",
        "1. **Mất cân bằng**: Các mô hình có xu hướng thiên về class đa số, có khả năng dẫn đến việc xác định kém các class thiểu số.\n",
        "2. **Overfitting**: Dữ liệu hạn chế về 'hate_speech' và 'harassment' có thể khiến mô hình overfitting dữ liệu đào tạo, cản trở khả năng khái quát hóa của mô hình.\n",
        "3. Có thể không có đủ sự đa dạng trong các ví dụ về hate_speech và harassment để nắm bắt được các sắc thái của nội dung đó.\n",
        "4. **Metric**: Accuracy không phải là số liệu đáng tin cậy do tính mất cân bằng nên sẽ dùng điểm F1 mang lại nhiều thông tin hơn."
      ],
      "metadata": {
        "id": "oQprowX8sLvc"
      }
    },
    {
      "cell_type": "code",
      "source": [
        "# Vietnamese stopwords list\n",
        "STOPWORDS = 'vietnamese-stopwords-dash.txt'\n",
        "with open(DATA_PATH + STOPWORDS, \"r\") as ins:\n",
        "    stopwords = []\n",
        "    for line in ins:\n",
        "        dd = line.strip('\\n')\n",
        "        stopwords.append(dd)\n",
        "    stopwords = set(stopwords)"
      ],
      "metadata": {
        "id": "NZ8phgLx5Je0"
      },
      "execution_count": null,
      "outputs": []
    },
    {
      "cell_type": "code",
      "source": [
        "\n",
        "# Function to generate word clouds\n",
        "def generate_word_cloud(text_series, title):\n",
        "    text = ' '.join(text_series)\n",
        "    wordcloud = WordCloud(stopwords=stopwords, background_color=\"white\", width=800, height=400).generate(text)\n",
        "    plt.figure(figsize=(6, 4))\n",
        "    plt.imshow(wordcloud, interpolation='bilinear')\n",
        "    plt.axis(\"off\")\n",
        "    plt.title(title)\n",
        "    plt.show()\n",
        "\n",
        "# Generate word clouds for each class\n",
        "for label in combined_train['label_id'].unique():\n",
        "    generate_word_cloud(combined_train[combined_train['label_id'] == label]['text'].astype(str), f'Word Cloud for {label_id_to_name[label]} Comments')\n"
      ],
      "metadata": {
        "colab": {
          "base_uri": "https://localhost:8080/",
          "height": 193
        },
        "id": "J0hB3l_4vxw7",
        "outputId": "5972811a-5604-4397-816e-d1a38f3e1198"
      },
      "execution_count": null,
      "outputs": [
        {
          "output_type": "error",
          "ename": "NameError",
          "evalue": "name 'label_id_to_name' is not defined",
          "traceback": [
            "\u001b[0;31m---------------------------------------------------------------------------\u001b[0m",
            "\u001b[0;31mNameError\u001b[0m                                 Traceback (most recent call last)",
            "\u001b[0;32m<ipython-input-46-0dbc9be7cf68>\u001b[0m in \u001b[0;36m<cell line: 21>\u001b[0;34m()\u001b[0m\n\u001b[1;32m     20\u001b[0m \u001b[0;31m# Generate word clouds for each class\u001b[0m\u001b[0;34m\u001b[0m\u001b[0;34m\u001b[0m\u001b[0m\n\u001b[1;32m     21\u001b[0m \u001b[0;32mfor\u001b[0m \u001b[0mlabel\u001b[0m \u001b[0;32min\u001b[0m \u001b[0mcombined_train\u001b[0m\u001b[0;34m[\u001b[0m\u001b[0;34m'label_id'\u001b[0m\u001b[0;34m]\u001b[0m\u001b[0;34m.\u001b[0m\u001b[0munique\u001b[0m\u001b[0;34m(\u001b[0m\u001b[0;34m)\u001b[0m\u001b[0;34m:\u001b[0m\u001b[0;34m\u001b[0m\u001b[0;34m\u001b[0m\u001b[0m\n\u001b[0;32m---> 22\u001b[0;31m     \u001b[0mgenerate_word_cloud\u001b[0m\u001b[0;34m(\u001b[0m\u001b[0mcombined_train\u001b[0m\u001b[0;34m[\u001b[0m\u001b[0mcombined_train\u001b[0m\u001b[0;34m[\u001b[0m\u001b[0;34m'label_id'\u001b[0m\u001b[0;34m]\u001b[0m \u001b[0;34m==\u001b[0m \u001b[0mlabel\u001b[0m\u001b[0;34m]\u001b[0m\u001b[0;34m[\u001b[0m\u001b[0;34m'text'\u001b[0m\u001b[0;34m]\u001b[0m\u001b[0;34m.\u001b[0m\u001b[0mastype\u001b[0m\u001b[0;34m(\u001b[0m\u001b[0mstr\u001b[0m\u001b[0;34m)\u001b[0m\u001b[0;34m,\u001b[0m \u001b[0;34mf'Word Cloud for {label_id_to_name[label]} Comments'\u001b[0m\u001b[0;34m)\u001b[0m\u001b[0;34m\u001b[0m\u001b[0;34m\u001b[0m\u001b[0m\n\u001b[0m",
            "\u001b[0;31mNameError\u001b[0m: name 'label_id_to_name' is not defined"
          ]
        }
      ]
    },
    {
      "cell_type": "code",
      "source": [
        "combined_train[(combined_train['label_id'] == 1) & (combined_train['text'].str.contains(' m '))].head()"
      ],
      "metadata": {
        "colab": {
          "base_uri": "https://localhost:8080/",
          "height": 206
        },
        "id": "D8-Rpktm17PW",
        "outputId": "0f88722f-f1ee-4238-9152-5e1cdc51c08e"
      },
      "execution_count": null,
      "outputs": [
        {
          "output_type": "execute_result",
          "data": {
            "text/plain": [
              "                                                   text  label_id\n",
              "598   Thanh Tuyền câm mẹ mồm đi,tốt đb,t bị chúng m ...         1\n",
              "693   Trời má lại đẹp Lan Tường m biết anh này không...         1\n",
              "750   Dăm ba con chó tín dụng đen tụi m dám tới nhà ...         1\n",
              "1276                                     Bố m đéo sợ ok         1\n",
              "1648  :))))) nay thi doc quyen :V d' cho tu nhan tha...         1"
            ],
            "text/html": [
              "\n",
              "  <div id=\"df-1502b394-9153-4706-a70b-ccea7db526c1\" class=\"colab-df-container\">\n",
              "    <div>\n",
              "<style scoped>\n",
              "    .dataframe tbody tr th:only-of-type {\n",
              "        vertical-align: middle;\n",
              "    }\n",
              "\n",
              "    .dataframe tbody tr th {\n",
              "        vertical-align: top;\n",
              "    }\n",
              "\n",
              "    .dataframe thead th {\n",
              "        text-align: right;\n",
              "    }\n",
              "</style>\n",
              "<table border=\"1\" class=\"dataframe\">\n",
              "  <thead>\n",
              "    <tr style=\"text-align: right;\">\n",
              "      <th></th>\n",
              "      <th>text</th>\n",
              "      <th>label_id</th>\n",
              "    </tr>\n",
              "  </thead>\n",
              "  <tbody>\n",
              "    <tr>\n",
              "      <th>598</th>\n",
              "      <td>Thanh Tuyền câm mẹ mồm đi,tốt đb,t bị chúng m ...</td>\n",
              "      <td>1</td>\n",
              "    </tr>\n",
              "    <tr>\n",
              "      <th>693</th>\n",
              "      <td>Trời má lại đẹp Lan Tường m biết anh này không...</td>\n",
              "      <td>1</td>\n",
              "    </tr>\n",
              "    <tr>\n",
              "      <th>750</th>\n",
              "      <td>Dăm ba con chó tín dụng đen tụi m dám tới nhà ...</td>\n",
              "      <td>1</td>\n",
              "    </tr>\n",
              "    <tr>\n",
              "      <th>1276</th>\n",
              "      <td>Bố m đéo sợ ok</td>\n",
              "      <td>1</td>\n",
              "    </tr>\n",
              "    <tr>\n",
              "      <th>1648</th>\n",
              "      <td>:))))) nay thi doc quyen :V d' cho tu nhan tha...</td>\n",
              "      <td>1</td>\n",
              "    </tr>\n",
              "  </tbody>\n",
              "</table>\n",
              "</div>\n",
              "    <div class=\"colab-df-buttons\">\n",
              "\n",
              "  <div class=\"colab-df-container\">\n",
              "    <button class=\"colab-df-convert\" onclick=\"convertToInteractive('df-1502b394-9153-4706-a70b-ccea7db526c1')\"\n",
              "            title=\"Convert this dataframe to an interactive table.\"\n",
              "            style=\"display:none;\">\n",
              "\n",
              "  <svg xmlns=\"http://www.w3.org/2000/svg\" height=\"24px\" viewBox=\"0 -960 960 960\">\n",
              "    <path d=\"M120-120v-720h720v720H120Zm60-500h600v-160H180v160Zm220 220h160v-160H400v160Zm0 220h160v-160H400v160ZM180-400h160v-160H180v160Zm440 0h160v-160H620v160ZM180-180h160v-160H180v160Zm440 0h160v-160H620v160Z\"/>\n",
              "  </svg>\n",
              "    </button>\n",
              "\n",
              "  <style>\n",
              "    .colab-df-container {\n",
              "      display:flex;\n",
              "      gap: 12px;\n",
              "    }\n",
              "\n",
              "    .colab-df-convert {\n",
              "      background-color: #E8F0FE;\n",
              "      border: none;\n",
              "      border-radius: 50%;\n",
              "      cursor: pointer;\n",
              "      display: none;\n",
              "      fill: #1967D2;\n",
              "      height: 32px;\n",
              "      padding: 0 0 0 0;\n",
              "      width: 32px;\n",
              "    }\n",
              "\n",
              "    .colab-df-convert:hover {\n",
              "      background-color: #E2EBFA;\n",
              "      box-shadow: 0px 1px 2px rgba(60, 64, 67, 0.3), 0px 1px 3px 1px rgba(60, 64, 67, 0.15);\n",
              "      fill: #174EA6;\n",
              "    }\n",
              "\n",
              "    .colab-df-buttons div {\n",
              "      margin-bottom: 4px;\n",
              "    }\n",
              "\n",
              "    [theme=dark] .colab-df-convert {\n",
              "      background-color: #3B4455;\n",
              "      fill: #D2E3FC;\n",
              "    }\n",
              "\n",
              "    [theme=dark] .colab-df-convert:hover {\n",
              "      background-color: #434B5C;\n",
              "      box-shadow: 0px 1px 3px 1px rgba(0, 0, 0, 0.15);\n",
              "      filter: drop-shadow(0px 1px 2px rgba(0, 0, 0, 0.3));\n",
              "      fill: #FFFFFF;\n",
              "    }\n",
              "  </style>\n",
              "\n",
              "    <script>\n",
              "      const buttonEl =\n",
              "        document.querySelector('#df-1502b394-9153-4706-a70b-ccea7db526c1 button.colab-df-convert');\n",
              "      buttonEl.style.display =\n",
              "        google.colab.kernel.accessAllowed ? 'block' : 'none';\n",
              "\n",
              "      async function convertToInteractive(key) {\n",
              "        const element = document.querySelector('#df-1502b394-9153-4706-a70b-ccea7db526c1');\n",
              "        const dataTable =\n",
              "          await google.colab.kernel.invokeFunction('convertToInteractive',\n",
              "                                                    [key], {});\n",
              "        if (!dataTable) return;\n",
              "\n",
              "        const docLinkHtml = 'Like what you see? Visit the ' +\n",
              "          '<a target=\"_blank\" href=https://colab.research.google.com/notebooks/data_table.ipynb>data table notebook</a>'\n",
              "          + ' to learn more about interactive tables.';\n",
              "        element.innerHTML = '';\n",
              "        dataTable['output_type'] = 'display_data';\n",
              "        await google.colab.output.renderOutput(dataTable, element);\n",
              "        const docLink = document.createElement('div');\n",
              "        docLink.innerHTML = docLinkHtml;\n",
              "        element.appendChild(docLink);\n",
              "      }\n",
              "    </script>\n",
              "  </div>\n",
              "\n",
              "\n",
              "<div id=\"df-56aaf92b-a6fe-4929-9f1c-d5cdd1490649\">\n",
              "  <button class=\"colab-df-quickchart\" onclick=\"quickchart('df-56aaf92b-a6fe-4929-9f1c-d5cdd1490649')\"\n",
              "            title=\"Suggest charts\"\n",
              "            style=\"display:none;\">\n",
              "\n",
              "<svg xmlns=\"http://www.w3.org/2000/svg\" height=\"24px\"viewBox=\"0 0 24 24\"\n",
              "     width=\"24px\">\n",
              "    <g>\n",
              "        <path d=\"M19 3H5c-1.1 0-2 .9-2 2v14c0 1.1.9 2 2 2h14c1.1 0 2-.9 2-2V5c0-1.1-.9-2-2-2zM9 17H7v-7h2v7zm4 0h-2V7h2v10zm4 0h-2v-4h2v4z\"/>\n",
              "    </g>\n",
              "</svg>\n",
              "  </button>\n",
              "\n",
              "<style>\n",
              "  .colab-df-quickchart {\n",
              "      --bg-color: #E8F0FE;\n",
              "      --fill-color: #1967D2;\n",
              "      --hover-bg-color: #E2EBFA;\n",
              "      --hover-fill-color: #174EA6;\n",
              "      --disabled-fill-color: #AAA;\n",
              "      --disabled-bg-color: #DDD;\n",
              "  }\n",
              "\n",
              "  [theme=dark] .colab-df-quickchart {\n",
              "      --bg-color: #3B4455;\n",
              "      --fill-color: #D2E3FC;\n",
              "      --hover-bg-color: #434B5C;\n",
              "      --hover-fill-color: #FFFFFF;\n",
              "      --disabled-bg-color: #3B4455;\n",
              "      --disabled-fill-color: #666;\n",
              "  }\n",
              "\n",
              "  .colab-df-quickchart {\n",
              "    background-color: var(--bg-color);\n",
              "    border: none;\n",
              "    border-radius: 50%;\n",
              "    cursor: pointer;\n",
              "    display: none;\n",
              "    fill: var(--fill-color);\n",
              "    height: 32px;\n",
              "    padding: 0;\n",
              "    width: 32px;\n",
              "  }\n",
              "\n",
              "  .colab-df-quickchart:hover {\n",
              "    background-color: var(--hover-bg-color);\n",
              "    box-shadow: 0 1px 2px rgba(60, 64, 67, 0.3), 0 1px 3px 1px rgba(60, 64, 67, 0.15);\n",
              "    fill: var(--button-hover-fill-color);\n",
              "  }\n",
              "\n",
              "  .colab-df-quickchart-complete:disabled,\n",
              "  .colab-df-quickchart-complete:disabled:hover {\n",
              "    background-color: var(--disabled-bg-color);\n",
              "    fill: var(--disabled-fill-color);\n",
              "    box-shadow: none;\n",
              "  }\n",
              "\n",
              "  .colab-df-spinner {\n",
              "    border: 2px solid var(--fill-color);\n",
              "    border-color: transparent;\n",
              "    border-bottom-color: var(--fill-color);\n",
              "    animation:\n",
              "      spin 1s steps(1) infinite;\n",
              "  }\n",
              "\n",
              "  @keyframes spin {\n",
              "    0% {\n",
              "      border-color: transparent;\n",
              "      border-bottom-color: var(--fill-color);\n",
              "      border-left-color: var(--fill-color);\n",
              "    }\n",
              "    20% {\n",
              "      border-color: transparent;\n",
              "      border-left-color: var(--fill-color);\n",
              "      border-top-color: var(--fill-color);\n",
              "    }\n",
              "    30% {\n",
              "      border-color: transparent;\n",
              "      border-left-color: var(--fill-color);\n",
              "      border-top-color: var(--fill-color);\n",
              "      border-right-color: var(--fill-color);\n",
              "    }\n",
              "    40% {\n",
              "      border-color: transparent;\n",
              "      border-right-color: var(--fill-color);\n",
              "      border-top-color: var(--fill-color);\n",
              "    }\n",
              "    60% {\n",
              "      border-color: transparent;\n",
              "      border-right-color: var(--fill-color);\n",
              "    }\n",
              "    80% {\n",
              "      border-color: transparent;\n",
              "      border-right-color: var(--fill-color);\n",
              "      border-bottom-color: var(--fill-color);\n",
              "    }\n",
              "    90% {\n",
              "      border-color: transparent;\n",
              "      border-bottom-color: var(--fill-color);\n",
              "    }\n",
              "  }\n",
              "</style>\n",
              "\n",
              "  <script>\n",
              "    async function quickchart(key) {\n",
              "      const quickchartButtonEl =\n",
              "        document.querySelector('#' + key + ' button');\n",
              "      quickchartButtonEl.disabled = true;  // To prevent multiple clicks.\n",
              "      quickchartButtonEl.classList.add('colab-df-spinner');\n",
              "      try {\n",
              "        const charts = await google.colab.kernel.invokeFunction(\n",
              "            'suggestCharts', [key], {});\n",
              "      } catch (error) {\n",
              "        console.error('Error during call to suggestCharts:', error);\n",
              "      }\n",
              "      quickchartButtonEl.classList.remove('colab-df-spinner');\n",
              "      quickchartButtonEl.classList.add('colab-df-quickchart-complete');\n",
              "    }\n",
              "    (() => {\n",
              "      let quickchartButtonEl =\n",
              "        document.querySelector('#df-56aaf92b-a6fe-4929-9f1c-d5cdd1490649 button');\n",
              "      quickchartButtonEl.style.display =\n",
              "        google.colab.kernel.accessAllowed ? 'block' : 'none';\n",
              "    })();\n",
              "  </script>\n",
              "</div>\n",
              "\n",
              "    </div>\n",
              "  </div>\n"
            ],
            "application/vnd.google.colaboratory.intrinsic+json": {
              "type": "dataframe",
              "summary": "{\n  \"name\": \"combined_train[(combined_train['label_id'] == 1) & (combined_train['text']\",\n  \"rows\": 5,\n  \"fields\": [\n    {\n      \"column\": \"text\",\n      \"properties\": {\n        \"dtype\": \"string\",\n        \"num_unique_values\": 5,\n        \"samples\": [\n          \"Tr\\u1eddi m\\u00e1 l\\u1ea1i \\u0111\\u1eb9p Lan T\\u01b0\\u1eddng m bi\\u1ebft anh n\\u00e0y kh\\u00f4ng ???? M\\u1edf mi\\u1ec7ng kh\\u00f4ng bi\\u1ebft l\\u00e0 v\\u1ea3 cho r\\u1edbt mu lu\\u00f4n nha\",\n          \":))))) nay thi doc quyen :V d' cho tu nhan tham gia om chet me chung m di :v de dan ganh d gi\",\n          \"D\\u0103m ba con ch\\u00f3 t\\u00edn d\\u1ee5ng \\u0111en t\\u1ee5i m d\\u00e1m t\\u1edbi nh\\u00e0 ai? L\\u00e1o lol quen. Ngu th\\u00ec ch\\u1ebft. To\\u00e0n b\\u1ecdn t\\u00e0u kh\\u1ef1a \\u0111\\u00f2i \\u0111e d\\u1ecda d\\u00e2n VN \\u00e0? Tu\\u1ed5i cc\"\n        ],\n        \"semantic_type\": \"\",\n        \"description\": \"\"\n      }\n    },\n    {\n      \"column\": \"label_id\",\n      \"properties\": {\n        \"dtype\": \"number\",\n        \"std\": 0,\n        \"min\": 1,\n        \"max\": 1,\n        \"num_unique_values\": 1,\n        \"samples\": [\n          1\n        ],\n        \"semantic_type\": \"\",\n        \"description\": \"\"\n      }\n    }\n  ]\n}"
            }
          },
          "metadata": {},
          "execution_count": 18
        }
      ]
    },
    {
      "cell_type": "code",
      "source": [
        "vihsd_train[(vihsd_train['label_id'] == 1) & (vihsd_train['free_text'].str.contains(' m '))].head(20)"
      ],
      "metadata": {
        "colab": {
          "base_uri": "https://localhost:8080/",
          "height": 551
        },
        "id": "S90Cc_4n81oG",
        "outputId": "d4251f0a-254f-46b4-e953-431e5a7e73c7"
      },
      "execution_count": null,
      "outputs": [
        {
          "output_type": "execute_result",
          "data": {
            "text/plain": [
              "                                               free_text  label_id\n",
              "2115   Nó thích mình nó đã yêu cmm luôn chứ bắt m đợi...         1\n",
              "4406                         PhẠm mạng m lag chứ chậm cc         1\n",
              "8601                          Đông Ca là địt cụ m ngủ đi         1\n",
              "13409     cc, t bắn 3 phát rồi đấy, ngon vcl ? m đui à ?         1\n",
              "14061                                     Bố m đéo sợ ok         1\n",
              "14087                   Vitamin Nhung cđ m chứ ai nữa 😁😁         1\n",
              "14931       Cũg chưa biết tin ai đc m ơi =)) đồn như lời         1\n",
              "15122  Cũng đồng ý vs ad nhưng bạn m từ khi tham gia ...         1\n",
              "15353                  Tụt mẹ m ra cho nhanh đỡ phải mặc         1\n",
              "15667                   Đinhh Thị Hoàii Thuu ngủ mẹ m đi         1\n",
              "17147  đéo phải cái gì thích thử là thử đc nhá,nhất l...         1\n",
              "17263  :))))) nay thi doc quyen :V d' cho tu nhan tha...         1\n",
              "17709  Dm tao còn nhớ lần t đi thi học sinh giỏi lớp ...         1\n",
              "18019                      Ghi thêm chữ đ*t chị m nx :))         1\n",
              "18300  ờ ờ . nợ thì chúng m nợ nhé. :T t đéo có nợ ai...         1\n",
              "20055  Ngọc Hải ê, biểu tượng cl của m thành trend bê...         1"
            ],
            "text/html": [
              "\n",
              "  <div id=\"df-6e7c51d4-9b10-4079-aec0-7069502589fe\" class=\"colab-df-container\">\n",
              "    <div>\n",
              "<style scoped>\n",
              "    .dataframe tbody tr th:only-of-type {\n",
              "        vertical-align: middle;\n",
              "    }\n",
              "\n",
              "    .dataframe tbody tr th {\n",
              "        vertical-align: top;\n",
              "    }\n",
              "\n",
              "    .dataframe thead th {\n",
              "        text-align: right;\n",
              "    }\n",
              "</style>\n",
              "<table border=\"1\" class=\"dataframe\">\n",
              "  <thead>\n",
              "    <tr style=\"text-align: right;\">\n",
              "      <th></th>\n",
              "      <th>free_text</th>\n",
              "      <th>label_id</th>\n",
              "    </tr>\n",
              "  </thead>\n",
              "  <tbody>\n",
              "    <tr>\n",
              "      <th>2115</th>\n",
              "      <td>Nó thích mình nó đã yêu cmm luôn chứ bắt m đợi...</td>\n",
              "      <td>1</td>\n",
              "    </tr>\n",
              "    <tr>\n",
              "      <th>4406</th>\n",
              "      <td>PhẠm mạng m lag chứ chậm cc</td>\n",
              "      <td>1</td>\n",
              "    </tr>\n",
              "    <tr>\n",
              "      <th>8601</th>\n",
              "      <td>Đông Ca là địt cụ m ngủ đi</td>\n",
              "      <td>1</td>\n",
              "    </tr>\n",
              "    <tr>\n",
              "      <th>13409</th>\n",
              "      <td>cc, t bắn 3 phát rồi đấy, ngon vcl ? m đui à ?</td>\n",
              "      <td>1</td>\n",
              "    </tr>\n",
              "    <tr>\n",
              "      <th>14061</th>\n",
              "      <td>Bố m đéo sợ ok</td>\n",
              "      <td>1</td>\n",
              "    </tr>\n",
              "    <tr>\n",
              "      <th>14087</th>\n",
              "      <td>Vitamin Nhung cđ m chứ ai nữa 😁😁</td>\n",
              "      <td>1</td>\n",
              "    </tr>\n",
              "    <tr>\n",
              "      <th>14931</th>\n",
              "      <td>Cũg chưa biết tin ai đc m ơi =)) đồn như lời</td>\n",
              "      <td>1</td>\n",
              "    </tr>\n",
              "    <tr>\n",
              "      <th>15122</th>\n",
              "      <td>Cũng đồng ý vs ad nhưng bạn m từ khi tham gia ...</td>\n",
              "      <td>1</td>\n",
              "    </tr>\n",
              "    <tr>\n",
              "      <th>15353</th>\n",
              "      <td>Tụt mẹ m ra cho nhanh đỡ phải mặc</td>\n",
              "      <td>1</td>\n",
              "    </tr>\n",
              "    <tr>\n",
              "      <th>15667</th>\n",
              "      <td>Đinhh Thị Hoàii Thuu ngủ mẹ m đi</td>\n",
              "      <td>1</td>\n",
              "    </tr>\n",
              "    <tr>\n",
              "      <th>17147</th>\n",
              "      <td>đéo phải cái gì thích thử là thử đc nhá,nhất l...</td>\n",
              "      <td>1</td>\n",
              "    </tr>\n",
              "    <tr>\n",
              "      <th>17263</th>\n",
              "      <td>:))))) nay thi doc quyen :V d' cho tu nhan tha...</td>\n",
              "      <td>1</td>\n",
              "    </tr>\n",
              "    <tr>\n",
              "      <th>17709</th>\n",
              "      <td>Dm tao còn nhớ lần t đi thi học sinh giỏi lớp ...</td>\n",
              "      <td>1</td>\n",
              "    </tr>\n",
              "    <tr>\n",
              "      <th>18019</th>\n",
              "      <td>Ghi thêm chữ đ*t chị m nx :))</td>\n",
              "      <td>1</td>\n",
              "    </tr>\n",
              "    <tr>\n",
              "      <th>18300</th>\n",
              "      <td>ờ ờ . nợ thì chúng m nợ nhé. :T t đéo có nợ ai...</td>\n",
              "      <td>1</td>\n",
              "    </tr>\n",
              "    <tr>\n",
              "      <th>20055</th>\n",
              "      <td>Ngọc Hải ê, biểu tượng cl của m thành trend bê...</td>\n",
              "      <td>1</td>\n",
              "    </tr>\n",
              "  </tbody>\n",
              "</table>\n",
              "</div>\n",
              "    <div class=\"colab-df-buttons\">\n",
              "\n",
              "  <div class=\"colab-df-container\">\n",
              "    <button class=\"colab-df-convert\" onclick=\"convertToInteractive('df-6e7c51d4-9b10-4079-aec0-7069502589fe')\"\n",
              "            title=\"Convert this dataframe to an interactive table.\"\n",
              "            style=\"display:none;\">\n",
              "\n",
              "  <svg xmlns=\"http://www.w3.org/2000/svg\" height=\"24px\" viewBox=\"0 -960 960 960\">\n",
              "    <path d=\"M120-120v-720h720v720H120Zm60-500h600v-160H180v160Zm220 220h160v-160H400v160Zm0 220h160v-160H400v160ZM180-400h160v-160H180v160Zm440 0h160v-160H620v160ZM180-180h160v-160H180v160Zm440 0h160v-160H620v160Z\"/>\n",
              "  </svg>\n",
              "    </button>\n",
              "\n",
              "  <style>\n",
              "    .colab-df-container {\n",
              "      display:flex;\n",
              "      gap: 12px;\n",
              "    }\n",
              "\n",
              "    .colab-df-convert {\n",
              "      background-color: #E8F0FE;\n",
              "      border: none;\n",
              "      border-radius: 50%;\n",
              "      cursor: pointer;\n",
              "      display: none;\n",
              "      fill: #1967D2;\n",
              "      height: 32px;\n",
              "      padding: 0 0 0 0;\n",
              "      width: 32px;\n",
              "    }\n",
              "\n",
              "    .colab-df-convert:hover {\n",
              "      background-color: #E2EBFA;\n",
              "      box-shadow: 0px 1px 2px rgba(60, 64, 67, 0.3), 0px 1px 3px 1px rgba(60, 64, 67, 0.15);\n",
              "      fill: #174EA6;\n",
              "    }\n",
              "\n",
              "    .colab-df-buttons div {\n",
              "      margin-bottom: 4px;\n",
              "    }\n",
              "\n",
              "    [theme=dark] .colab-df-convert {\n",
              "      background-color: #3B4455;\n",
              "      fill: #D2E3FC;\n",
              "    }\n",
              "\n",
              "    [theme=dark] .colab-df-convert:hover {\n",
              "      background-color: #434B5C;\n",
              "      box-shadow: 0px 1px 3px 1px rgba(0, 0, 0, 0.15);\n",
              "      filter: drop-shadow(0px 1px 2px rgba(0, 0, 0, 0.3));\n",
              "      fill: #FFFFFF;\n",
              "    }\n",
              "  </style>\n",
              "\n",
              "    <script>\n",
              "      const buttonEl =\n",
              "        document.querySelector('#df-6e7c51d4-9b10-4079-aec0-7069502589fe button.colab-df-convert');\n",
              "      buttonEl.style.display =\n",
              "        google.colab.kernel.accessAllowed ? 'block' : 'none';\n",
              "\n",
              "      async function convertToInteractive(key) {\n",
              "        const element = document.querySelector('#df-6e7c51d4-9b10-4079-aec0-7069502589fe');\n",
              "        const dataTable =\n",
              "          await google.colab.kernel.invokeFunction('convertToInteractive',\n",
              "                                                    [key], {});\n",
              "        if (!dataTable) return;\n",
              "\n",
              "        const docLinkHtml = 'Like what you see? Visit the ' +\n",
              "          '<a target=\"_blank\" href=https://colab.research.google.com/notebooks/data_table.ipynb>data table notebook</a>'\n",
              "          + ' to learn more about interactive tables.';\n",
              "        element.innerHTML = '';\n",
              "        dataTable['output_type'] = 'display_data';\n",
              "        await google.colab.output.renderOutput(dataTable, element);\n",
              "        const docLink = document.createElement('div');\n",
              "        docLink.innerHTML = docLinkHtml;\n",
              "        element.appendChild(docLink);\n",
              "      }\n",
              "    </script>\n",
              "  </div>\n",
              "\n",
              "\n",
              "<div id=\"df-f5a840c6-c096-47b3-8571-5f10cba95e0b\">\n",
              "  <button class=\"colab-df-quickchart\" onclick=\"quickchart('df-f5a840c6-c096-47b3-8571-5f10cba95e0b')\"\n",
              "            title=\"Suggest charts\"\n",
              "            style=\"display:none;\">\n",
              "\n",
              "<svg xmlns=\"http://www.w3.org/2000/svg\" height=\"24px\"viewBox=\"0 0 24 24\"\n",
              "     width=\"24px\">\n",
              "    <g>\n",
              "        <path d=\"M19 3H5c-1.1 0-2 .9-2 2v14c0 1.1.9 2 2 2h14c1.1 0 2-.9 2-2V5c0-1.1-.9-2-2-2zM9 17H7v-7h2v7zm4 0h-2V7h2v10zm4 0h-2v-4h2v4z\"/>\n",
              "    </g>\n",
              "</svg>\n",
              "  </button>\n",
              "\n",
              "<style>\n",
              "  .colab-df-quickchart {\n",
              "      --bg-color: #E8F0FE;\n",
              "      --fill-color: #1967D2;\n",
              "      --hover-bg-color: #E2EBFA;\n",
              "      --hover-fill-color: #174EA6;\n",
              "      --disabled-fill-color: #AAA;\n",
              "      --disabled-bg-color: #DDD;\n",
              "  }\n",
              "\n",
              "  [theme=dark] .colab-df-quickchart {\n",
              "      --bg-color: #3B4455;\n",
              "      --fill-color: #D2E3FC;\n",
              "      --hover-bg-color: #434B5C;\n",
              "      --hover-fill-color: #FFFFFF;\n",
              "      --disabled-bg-color: #3B4455;\n",
              "      --disabled-fill-color: #666;\n",
              "  }\n",
              "\n",
              "  .colab-df-quickchart {\n",
              "    background-color: var(--bg-color);\n",
              "    border: none;\n",
              "    border-radius: 50%;\n",
              "    cursor: pointer;\n",
              "    display: none;\n",
              "    fill: var(--fill-color);\n",
              "    height: 32px;\n",
              "    padding: 0;\n",
              "    width: 32px;\n",
              "  }\n",
              "\n",
              "  .colab-df-quickchart:hover {\n",
              "    background-color: var(--hover-bg-color);\n",
              "    box-shadow: 0 1px 2px rgba(60, 64, 67, 0.3), 0 1px 3px 1px rgba(60, 64, 67, 0.15);\n",
              "    fill: var(--button-hover-fill-color);\n",
              "  }\n",
              "\n",
              "  .colab-df-quickchart-complete:disabled,\n",
              "  .colab-df-quickchart-complete:disabled:hover {\n",
              "    background-color: var(--disabled-bg-color);\n",
              "    fill: var(--disabled-fill-color);\n",
              "    box-shadow: none;\n",
              "  }\n",
              "\n",
              "  .colab-df-spinner {\n",
              "    border: 2px solid var(--fill-color);\n",
              "    border-color: transparent;\n",
              "    border-bottom-color: var(--fill-color);\n",
              "    animation:\n",
              "      spin 1s steps(1) infinite;\n",
              "  }\n",
              "\n",
              "  @keyframes spin {\n",
              "    0% {\n",
              "      border-color: transparent;\n",
              "      border-bottom-color: var(--fill-color);\n",
              "      border-left-color: var(--fill-color);\n",
              "    }\n",
              "    20% {\n",
              "      border-color: transparent;\n",
              "      border-left-color: var(--fill-color);\n",
              "      border-top-color: var(--fill-color);\n",
              "    }\n",
              "    30% {\n",
              "      border-color: transparent;\n",
              "      border-left-color: var(--fill-color);\n",
              "      border-top-color: var(--fill-color);\n",
              "      border-right-color: var(--fill-color);\n",
              "    }\n",
              "    40% {\n",
              "      border-color: transparent;\n",
              "      border-right-color: var(--fill-color);\n",
              "      border-top-color: var(--fill-color);\n",
              "    }\n",
              "    60% {\n",
              "      border-color: transparent;\n",
              "      border-right-color: var(--fill-color);\n",
              "    }\n",
              "    80% {\n",
              "      border-color: transparent;\n",
              "      border-right-color: var(--fill-color);\n",
              "      border-bottom-color: var(--fill-color);\n",
              "    }\n",
              "    90% {\n",
              "      border-color: transparent;\n",
              "      border-bottom-color: var(--fill-color);\n",
              "    }\n",
              "  }\n",
              "</style>\n",
              "\n",
              "  <script>\n",
              "    async function quickchart(key) {\n",
              "      const quickchartButtonEl =\n",
              "        document.querySelector('#' + key + ' button');\n",
              "      quickchartButtonEl.disabled = true;  // To prevent multiple clicks.\n",
              "      quickchartButtonEl.classList.add('colab-df-spinner');\n",
              "      try {\n",
              "        const charts = await google.colab.kernel.invokeFunction(\n",
              "            'suggestCharts', [key], {});\n",
              "      } catch (error) {\n",
              "        console.error('Error during call to suggestCharts:', error);\n",
              "      }\n",
              "      quickchartButtonEl.classList.remove('colab-df-spinner');\n",
              "      quickchartButtonEl.classList.add('colab-df-quickchart-complete');\n",
              "    }\n",
              "    (() => {\n",
              "      let quickchartButtonEl =\n",
              "        document.querySelector('#df-f5a840c6-c096-47b3-8571-5f10cba95e0b button');\n",
              "      quickchartButtonEl.style.display =\n",
              "        google.colab.kernel.accessAllowed ? 'block' : 'none';\n",
              "    })();\n",
              "  </script>\n",
              "</div>\n",
              "\n",
              "    </div>\n",
              "  </div>\n"
            ],
            "application/vnd.google.colaboratory.intrinsic+json": {
              "type": "dataframe",
              "summary": "{\n  \"name\": \"vihsd_train[(vihsd_train['label_id'] == 1) & (vihsd_train['free_text']\",\n  \"rows\": 16,\n  \"fields\": [\n    {\n      \"column\": \"free_text\",\n      \"properties\": {\n        \"dtype\": \"string\",\n        \"num_unique_values\": 16,\n        \"samples\": [\n          \"N\\u00f3 th\\u00edch m\\u00ecnh n\\u00f3 \\u0111\\u00e3 y\\u00eau cmm lu\\u00f4n ch\\u1ee9 b\\u1eaft m \\u0111\\u1ee3i l\\u00e0m l\\u1ed3n g\\u00ec. \\u0110\\u1ee3i ch\\u1ec9 l\\u00e0 l\\u00ed do \\u0111\\u1ec3 n\\u00f3 t\\u00ecm xem c\\u00f3 k\\u00e8o n\\u00e0o ngon h\\u01a1n kh\\u00f4ng th\\u00f4i\",\n          \"Ph\\u1ea0m m\\u1ea1ng m lag ch\\u1ee9 ch\\u1eadm cc\",\n          \"Vitamin Nhung c\\u0111 m ch\\u1ee9 ai n\\u1eefa \\ud83d\\ude01\\ud83d\\ude01\"\n        ],\n        \"semantic_type\": \"\",\n        \"description\": \"\"\n      }\n    },\n    {\n      \"column\": \"label_id\",\n      \"properties\": {\n        \"dtype\": \"number\",\n        \"std\": 0,\n        \"min\": 1,\n        \"max\": 1,\n        \"num_unique_values\": 1,\n        \"samples\": [\n          1\n        ],\n        \"semantic_type\": \"\",\n        \"description\": \"\"\n      }\n    }\n  ]\n}"
            }
          },
          "metadata": {},
          "execution_count": 19
        }
      ]
    },
    {
      "cell_type": "markdown",
      "source": [
        "# Modeling"
      ],
      "metadata": {
        "id": "7RKBwWy697AI"
      }
    },
    {
      "cell_type": "markdown",
      "source": [
        "## Preprocessing\n",
        "\n"
      ],
      "metadata": {
        "id": "dOy1SIvACU98"
      }
    },
    {
      "cell_type": "markdown",
      "source": [
        "\n",
        "\n",
        "1.   Word-segmentating texts into words by the pyvi tool\n",
        "2.    Removing stopwords\n",
        "3. Changing all texts into lower cases\n",
        "4. Removing special characters such as hashtags, urls, and mention tags.\n",
        "\n",
        "\n",
        "\n",
        "\n"
      ],
      "metadata": {
        "id": "oBfVehbhEI1J"
      }
    },
    {
      "cell_type": "code",
      "source": [
        "def filter_stop_words(train_sentences, stop_words):\n",
        "    new_sent = [word for word in train_sentences.split() if word not in stop_words]\n",
        "    train_sentences = ' '.join(new_sent)\n",
        "\n",
        "    return train_sentences\n",
        "\n",
        "def remove_special_characters(text):\n",
        "    # Remove URLs\n",
        "    text = re.sub(r'http[s]?://(?:[a-zA-Z]|[0-9]|[$-_@.&+]|[!*\\\\(\\\\),]|(?:%[0-9a-fA-F][0-9a-fA-F]))+', '', text)\n",
        "    # Remove mentions\n",
        "    text = re.sub(r'@\\w+', '', text)\n",
        "    # Remove hashtags\n",
        "    text = re.sub(r'#\\w+', '', text)\n",
        "    return text\n",
        "\n",
        "def preprocess(text, tokenized = True, lowercased = True):\n",
        "    text = ViTokenizer.tokenize(text) if tokenized else text\n",
        "    text = filter_stop_words(text, stopwords)\n",
        "    text = remove_special_characters(text)\n",
        "    text = emoji.replace_emoji(text,\"\")\n",
        "    text = text.lower() if lowercased else text\n",
        "    return text\n",
        "\n",
        "def pre_process_features(X, y, tokenized=True, lowercased=True):\n",
        "    X_processed = [preprocess(str(p), tokenized=tokenized, lowercased=lowercased) for p in list(X)]\n",
        "    non_empty_indices = [idx for idx, ele in enumerate(X_processed) if ele]\n",
        "    X_processed = pd.Series(X_processed)[non_empty_indices].tolist()\n",
        "    y_processed = y.iloc[non_empty_indices].tolist()\n",
        "    return X_processed, y_processed\n"
      ],
      "metadata": {
        "id": "HCGZjflDCbRy"
      },
      "execution_count": null,
      "outputs": []
    },
    {
      "cell_type": "code",
      "source": [
        "train_X, train_y = pre_process_features(combined_train['text'], combined_train['label_id'], tokenized=True, lowercased = True)\n",
        "dev_X, dev_y = pre_process_features(combined_dev['text'], combined_dev['label_id'], tokenized=True, lowercased = True)\n",
        "test_X, test_y = pre_process_features(combined_test['text'], combined_test['label_id'], tokenized=True, lowercased = True)"
      ],
      "metadata": {
        "id": "KkbvDajmfRpb"
      },
      "execution_count": null,
      "outputs": []
    },
    {
      "cell_type": "markdown",
      "source": [
        "Tập train trước và sau khi pre_process"
      ],
      "metadata": {
        "id": "VEXZ-w9EvgV0"
      }
    },
    {
      "cell_type": "code",
      "source": [
        "train_X[:10]"
      ],
      "metadata": {
        "colab": {
          "base_uri": "https://localhost:8080/"
        },
        "id": "h3P212upgwGh",
        "outputId": "6fa6cd41-540e-4cc7-cf3f-1b1535e03dc5"
      },
      "execution_count": null,
      "outputs": [
        {
          "output_type": "execute_result",
          "data": {
            "text/plain": [
              "['Mn review gì đó như kiểu phim hay qtqd , các kiểu đi để mình còn hi_vọng 🤔',\n",
              " 'Cho mình xin đc nhé',\n",
              " 'Sống chậm thôi các má = ) )',\n",
              " 'Ai cho em cái link của bộ_tộc mixi gaming với em tìm không thấy : ( (',\n",
              " 'Haizzz_Nhung thì đáng trách thật nhưng tình_hình như này thì Việt_Nam vẫn có_thể tiếp_nhận thêm bệnh_nhân từ nước_ngoài về ( (',\n",
              " 'Ma ba rat la xinh xan con noi thiet',\n",
              " 'Hài ...!!',\n",
              " 'Thằng ad \" phản_động \" chỉ giỏi \" xuyên_tạc đường nối chính_sách của đãng và nhà lước , bôi_nhọ các anh_hùng nực nượng vũ_trang nhân_dân \" .Hết đặt mìn xe_đò thì đặt mìn bưu_điện , ném lựu_đạn vào chợ vào rạp_hát , pháo_kích vào nhà dân vào trường_học ko phải là khủng_bố khủng mẹ gì hết , phải gọi là \" đi nàm kách mệnh \" mới đúng .',\n",
              " 'Hóng quá đa : v',\n",
              " 'Phục_vụ giải_trí cho cả đại_đội múa cột giỏi chịu đòn tốt chuyên mở mini show mừng đảng mừng xuân mừng đất_nước đổi_mới : ) )']"
            ]
          },
          "metadata": {},
          "execution_count": 45
        }
      ]
    },
    {
      "cell_type": "code",
      "source": [
        "pd.set_option('max_colwidth',800)"
      ],
      "metadata": {
        "id": "Od9p91cRv28y"
      },
      "execution_count": null,
      "outputs": []
    },
    {
      "cell_type": "code",
      "source": [
        "combined_train.head(10)"
      ],
      "metadata": {
        "colab": {
          "base_uri": "https://localhost:8080/",
          "height": 449
        },
        "id": "RpqpTsusnhDl",
        "outputId": "687fd569-dc0c-4dd0-d9be-4b85482d1eea"
      },
      "execution_count": null,
      "outputs": [
        {
          "output_type": "execute_result",
          "data": {
            "text/plain": [
              "                                                                                                                                                                                                                                                                                                                                 text  \\\n",
              "0                                                                                                                                                                                                                                                           Mn review gì đó như kiểu phim hay qtqd, các kiểu đi để mình còn hi vọng 🤔   \n",
              "1                                                                                                                                                                                                                                                                                                               Cho mình xin đc nhé   \n",
              "2                                                                                                                                                                                                                                                                                                           Sống chậm thôi các má =))   \n",
              "3                                                                                                                                                                                                                                                                 Ai cho em cái link của bộ tộc mixi gaming với em tìm không thấy :((   \n",
              "4                                                                                                                                                                                                       Haizzz Nhung thì đáng trách thật nhưng tình hình như này thì Việt Nam vẫn có thể tiếp nhận thêm bệnh nhân từ nước ngoài về ((   \n",
              "5                                                                                                                                                                                                                                                                                                 Ma ba rat la xinh xan con noi thiet   \n",
              "6                                                                                                                                                                                                                                                                                                                           Hài ...!!   \n",
              "7  Thằng ad \"phản động\" chỉ giỏi \"xuyên tạc đường nối chính sách của đãng và nhà lước, bôi nhọ các anh hùng nực nượng vũ trang nhân dân\". Hết đặt mìn xe đò thì đặt mìn bưu điện, ném lựu đạn vào chợ vào rạp hát, pháo kích vào nhà dân vào trường học ko phải là khủng bố khủng mẹ gì hết, phải gọi là \"đi nàm kách mệnh\" mới đúng.   \n",
              "8                                                                                                                                                                                                                                                                                                                      Hóng quá đa :v   \n",
              "9                                                                                                                                                                                                          Phục vụ giải trí cho cả đại đội múa cột giỏi chịu đòn tốt chuyên mở mini show mừng đảng mừng xuân mừng đất nước đổi mới:))   \n",
              "\n",
              "   label_id  \n",
              "0         0  \n",
              "1         0  \n",
              "2         0  \n",
              "3         0  \n",
              "4         0  \n",
              "5         0  \n",
              "6         0  \n",
              "7         2  \n",
              "8         0  \n",
              "9         0  "
            ],
            "text/html": [
              "\n",
              "  <div id=\"df-c407e6a5-c36b-4472-b3bb-df7dece1e5ec\" class=\"colab-df-container\">\n",
              "    <div>\n",
              "<style scoped>\n",
              "    .dataframe tbody tr th:only-of-type {\n",
              "        vertical-align: middle;\n",
              "    }\n",
              "\n",
              "    .dataframe tbody tr th {\n",
              "        vertical-align: top;\n",
              "    }\n",
              "\n",
              "    .dataframe thead th {\n",
              "        text-align: right;\n",
              "    }\n",
              "</style>\n",
              "<table border=\"1\" class=\"dataframe\">\n",
              "  <thead>\n",
              "    <tr style=\"text-align: right;\">\n",
              "      <th></th>\n",
              "      <th>text</th>\n",
              "      <th>label_id</th>\n",
              "    </tr>\n",
              "  </thead>\n",
              "  <tbody>\n",
              "    <tr>\n",
              "      <th>0</th>\n",
              "      <td>Mn review gì đó như kiểu phim hay qtqd, các kiểu đi để mình còn hi vọng 🤔</td>\n",
              "      <td>0</td>\n",
              "    </tr>\n",
              "    <tr>\n",
              "      <th>1</th>\n",
              "      <td>Cho mình xin đc nhé</td>\n",
              "      <td>0</td>\n",
              "    </tr>\n",
              "    <tr>\n",
              "      <th>2</th>\n",
              "      <td>Sống chậm thôi các má =))</td>\n",
              "      <td>0</td>\n",
              "    </tr>\n",
              "    <tr>\n",
              "      <th>3</th>\n",
              "      <td>Ai cho em cái link của bộ tộc mixi gaming với em tìm không thấy :((</td>\n",
              "      <td>0</td>\n",
              "    </tr>\n",
              "    <tr>\n",
              "      <th>4</th>\n",
              "      <td>Haizzz Nhung thì đáng trách thật nhưng tình hình như này thì Việt Nam vẫn có thể tiếp nhận thêm bệnh nhân từ nước ngoài về ((</td>\n",
              "      <td>0</td>\n",
              "    </tr>\n",
              "    <tr>\n",
              "      <th>5</th>\n",
              "      <td>Ma ba rat la xinh xan con noi thiet</td>\n",
              "      <td>0</td>\n",
              "    </tr>\n",
              "    <tr>\n",
              "      <th>6</th>\n",
              "      <td>Hài ...!!</td>\n",
              "      <td>0</td>\n",
              "    </tr>\n",
              "    <tr>\n",
              "      <th>7</th>\n",
              "      <td>Thằng ad \"phản động\" chỉ giỏi \"xuyên tạc đường nối chính sách của đãng và nhà lước, bôi nhọ các anh hùng nực nượng vũ trang nhân dân\". Hết đặt mìn xe đò thì đặt mìn bưu điện, ném lựu đạn vào chợ vào rạp hát, pháo kích vào nhà dân vào trường học ko phải là khủng bố khủng mẹ gì hết, phải gọi là \"đi nàm kách mệnh\" mới đúng.</td>\n",
              "      <td>2</td>\n",
              "    </tr>\n",
              "    <tr>\n",
              "      <th>8</th>\n",
              "      <td>Hóng quá đa :v</td>\n",
              "      <td>0</td>\n",
              "    </tr>\n",
              "    <tr>\n",
              "      <th>9</th>\n",
              "      <td>Phục vụ giải trí cho cả đại đội múa cột giỏi chịu đòn tốt chuyên mở mini show mừng đảng mừng xuân mừng đất nước đổi mới:))</td>\n",
              "      <td>0</td>\n",
              "    </tr>\n",
              "  </tbody>\n",
              "</table>\n",
              "</div>\n",
              "    <div class=\"colab-df-buttons\">\n",
              "\n",
              "  <div class=\"colab-df-container\">\n",
              "    <button class=\"colab-df-convert\" onclick=\"convertToInteractive('df-c407e6a5-c36b-4472-b3bb-df7dece1e5ec')\"\n",
              "            title=\"Convert this dataframe to an interactive table.\"\n",
              "            style=\"display:none;\">\n",
              "\n",
              "  <svg xmlns=\"http://www.w3.org/2000/svg\" height=\"24px\" viewBox=\"0 -960 960 960\">\n",
              "    <path d=\"M120-120v-720h720v720H120Zm60-500h600v-160H180v160Zm220 220h160v-160H400v160Zm0 220h160v-160H400v160ZM180-400h160v-160H180v160Zm440 0h160v-160H620v160ZM180-180h160v-160H180v160Zm440 0h160v-160H620v160Z\"/>\n",
              "  </svg>\n",
              "    </button>\n",
              "\n",
              "  <style>\n",
              "    .colab-df-container {\n",
              "      display:flex;\n",
              "      gap: 12px;\n",
              "    }\n",
              "\n",
              "    .colab-df-convert {\n",
              "      background-color: #E8F0FE;\n",
              "      border: none;\n",
              "      border-radius: 50%;\n",
              "      cursor: pointer;\n",
              "      display: none;\n",
              "      fill: #1967D2;\n",
              "      height: 32px;\n",
              "      padding: 0 0 0 0;\n",
              "      width: 32px;\n",
              "    }\n",
              "\n",
              "    .colab-df-convert:hover {\n",
              "      background-color: #E2EBFA;\n",
              "      box-shadow: 0px 1px 2px rgba(60, 64, 67, 0.3), 0px 1px 3px 1px rgba(60, 64, 67, 0.15);\n",
              "      fill: #174EA6;\n",
              "    }\n",
              "\n",
              "    .colab-df-buttons div {\n",
              "      margin-bottom: 4px;\n",
              "    }\n",
              "\n",
              "    [theme=dark] .colab-df-convert {\n",
              "      background-color: #3B4455;\n",
              "      fill: #D2E3FC;\n",
              "    }\n",
              "\n",
              "    [theme=dark] .colab-df-convert:hover {\n",
              "      background-color: #434B5C;\n",
              "      box-shadow: 0px 1px 3px 1px rgba(0, 0, 0, 0.15);\n",
              "      filter: drop-shadow(0px 1px 2px rgba(0, 0, 0, 0.3));\n",
              "      fill: #FFFFFF;\n",
              "    }\n",
              "  </style>\n",
              "\n",
              "    <script>\n",
              "      const buttonEl =\n",
              "        document.querySelector('#df-c407e6a5-c36b-4472-b3bb-df7dece1e5ec button.colab-df-convert');\n",
              "      buttonEl.style.display =\n",
              "        google.colab.kernel.accessAllowed ? 'block' : 'none';\n",
              "\n",
              "      async function convertToInteractive(key) {\n",
              "        const element = document.querySelector('#df-c407e6a5-c36b-4472-b3bb-df7dece1e5ec');\n",
              "        const dataTable =\n",
              "          await google.colab.kernel.invokeFunction('convertToInteractive',\n",
              "                                                    [key], {});\n",
              "        if (!dataTable) return;\n",
              "\n",
              "        const docLinkHtml = 'Like what you see? Visit the ' +\n",
              "          '<a target=\"_blank\" href=https://colab.research.google.com/notebooks/data_table.ipynb>data table notebook</a>'\n",
              "          + ' to learn more about interactive tables.';\n",
              "        element.innerHTML = '';\n",
              "        dataTable['output_type'] = 'display_data';\n",
              "        await google.colab.output.renderOutput(dataTable, element);\n",
              "        const docLink = document.createElement('div');\n",
              "        docLink.innerHTML = docLinkHtml;\n",
              "        element.appendChild(docLink);\n",
              "      }\n",
              "    </script>\n",
              "  </div>\n",
              "\n",
              "\n",
              "<div id=\"df-83967025-e054-40b8-abdc-f27a03cd69bf\">\n",
              "  <button class=\"colab-df-quickchart\" onclick=\"quickchart('df-83967025-e054-40b8-abdc-f27a03cd69bf')\"\n",
              "            title=\"Suggest charts\"\n",
              "            style=\"display:none;\">\n",
              "\n",
              "<svg xmlns=\"http://www.w3.org/2000/svg\" height=\"24px\"viewBox=\"0 0 24 24\"\n",
              "     width=\"24px\">\n",
              "    <g>\n",
              "        <path d=\"M19 3H5c-1.1 0-2 .9-2 2v14c0 1.1.9 2 2 2h14c1.1 0 2-.9 2-2V5c0-1.1-.9-2-2-2zM9 17H7v-7h2v7zm4 0h-2V7h2v10zm4 0h-2v-4h2v4z\"/>\n",
              "    </g>\n",
              "</svg>\n",
              "  </button>\n",
              "\n",
              "<style>\n",
              "  .colab-df-quickchart {\n",
              "      --bg-color: #E8F0FE;\n",
              "      --fill-color: #1967D2;\n",
              "      --hover-bg-color: #E2EBFA;\n",
              "      --hover-fill-color: #174EA6;\n",
              "      --disabled-fill-color: #AAA;\n",
              "      --disabled-bg-color: #DDD;\n",
              "  }\n",
              "\n",
              "  [theme=dark] .colab-df-quickchart {\n",
              "      --bg-color: #3B4455;\n",
              "      --fill-color: #D2E3FC;\n",
              "      --hover-bg-color: #434B5C;\n",
              "      --hover-fill-color: #FFFFFF;\n",
              "      --disabled-bg-color: #3B4455;\n",
              "      --disabled-fill-color: #666;\n",
              "  }\n",
              "\n",
              "  .colab-df-quickchart {\n",
              "    background-color: var(--bg-color);\n",
              "    border: none;\n",
              "    border-radius: 50%;\n",
              "    cursor: pointer;\n",
              "    display: none;\n",
              "    fill: var(--fill-color);\n",
              "    height: 32px;\n",
              "    padding: 0;\n",
              "    width: 32px;\n",
              "  }\n",
              "\n",
              "  .colab-df-quickchart:hover {\n",
              "    background-color: var(--hover-bg-color);\n",
              "    box-shadow: 0 1px 2px rgba(60, 64, 67, 0.3), 0 1px 3px 1px rgba(60, 64, 67, 0.15);\n",
              "    fill: var(--button-hover-fill-color);\n",
              "  }\n",
              "\n",
              "  .colab-df-quickchart-complete:disabled,\n",
              "  .colab-df-quickchart-complete:disabled:hover {\n",
              "    background-color: var(--disabled-bg-color);\n",
              "    fill: var(--disabled-fill-color);\n",
              "    box-shadow: none;\n",
              "  }\n",
              "\n",
              "  .colab-df-spinner {\n",
              "    border: 2px solid var(--fill-color);\n",
              "    border-color: transparent;\n",
              "    border-bottom-color: var(--fill-color);\n",
              "    animation:\n",
              "      spin 1s steps(1) infinite;\n",
              "  }\n",
              "\n",
              "  @keyframes spin {\n",
              "    0% {\n",
              "      border-color: transparent;\n",
              "      border-bottom-color: var(--fill-color);\n",
              "      border-left-color: var(--fill-color);\n",
              "    }\n",
              "    20% {\n",
              "      border-color: transparent;\n",
              "      border-left-color: var(--fill-color);\n",
              "      border-top-color: var(--fill-color);\n",
              "    }\n",
              "    30% {\n",
              "      border-color: transparent;\n",
              "      border-left-color: var(--fill-color);\n",
              "      border-top-color: var(--fill-color);\n",
              "      border-right-color: var(--fill-color);\n",
              "    }\n",
              "    40% {\n",
              "      border-color: transparent;\n",
              "      border-right-color: var(--fill-color);\n",
              "      border-top-color: var(--fill-color);\n",
              "    }\n",
              "    60% {\n",
              "      border-color: transparent;\n",
              "      border-right-color: var(--fill-color);\n",
              "    }\n",
              "    80% {\n",
              "      border-color: transparent;\n",
              "      border-right-color: var(--fill-color);\n",
              "      border-bottom-color: var(--fill-color);\n",
              "    }\n",
              "    90% {\n",
              "      border-color: transparent;\n",
              "      border-bottom-color: var(--fill-color);\n",
              "    }\n",
              "  }\n",
              "</style>\n",
              "\n",
              "  <script>\n",
              "    async function quickchart(key) {\n",
              "      const quickchartButtonEl =\n",
              "        document.querySelector('#' + key + ' button');\n",
              "      quickchartButtonEl.disabled = true;  // To prevent multiple clicks.\n",
              "      quickchartButtonEl.classList.add('colab-df-spinner');\n",
              "      try {\n",
              "        const charts = await google.colab.kernel.invokeFunction(\n",
              "            'suggestCharts', [key], {});\n",
              "      } catch (error) {\n",
              "        console.error('Error during call to suggestCharts:', error);\n",
              "      }\n",
              "      quickchartButtonEl.classList.remove('colab-df-spinner');\n",
              "      quickchartButtonEl.classList.add('colab-df-quickchart-complete');\n",
              "    }\n",
              "    (() => {\n",
              "      let quickchartButtonEl =\n",
              "        document.querySelector('#df-83967025-e054-40b8-abdc-f27a03cd69bf button');\n",
              "      quickchartButtonEl.style.display =\n",
              "        google.colab.kernel.accessAllowed ? 'block' : 'none';\n",
              "    })();\n",
              "  </script>\n",
              "</div>\n",
              "\n",
              "    </div>\n",
              "  </div>\n"
            ],
            "application/vnd.google.colaboratory.intrinsic+json": {
              "type": "dataframe",
              "variable_name": "combined_train",
              "summary": "{\n  \"name\": \"combined_train\",\n  \"rows\": 25936,\n  \"fields\": [\n    {\n      \"column\": \"text\",\n      \"properties\": {\n        \"dtype\": \"string\",\n        \"num_unique_values\": 24369,\n        \"samples\": [\n          \"Ph\\u00ea qu\\u00e1 ho\\u00e1 \\u0111i\\u00ean\\ud83e\\udd23\",\n          \"\\u0110\\u1eddi v\\u00f4 th\\u01b0\\u1eddng l\\u1eafm..s\\u1ed1ng ph\\u1ea3i tu t\\u00e2m t\\u00edch \\u0111\\u1ee9c c\\u00f4 oi..kh\\u1ea9u nghi\\u1ec7p qu\\u00e1 c\\u00f4 \\u01a1i\",\n          \"Xa\\u0323o l\\u00f4\\u0300n ma\\u0300y bu\\u0301 l\\u1ed3n nhi\\u00ea\\u0300u qua\\u0301 n\\u00ean nga\\u0301o ha\\u0309 th\\u0103\\u0300ng cho\\u0301\"\n        ],\n        \"semantic_type\": \"\",\n        \"description\": \"\"\n      }\n    },\n    {\n      \"column\": \"label_id\",\n      \"properties\": {\n        \"dtype\": \"number\",\n        \"std\": 0,\n        \"min\": 0,\n        \"max\": 2,\n        \"num_unique_values\": 3,\n        \"samples\": [\n          0,\n          2,\n          1\n        ],\n        \"semantic_type\": \"\",\n        \"description\": \"\"\n      }\n    }\n  ]\n}"
            }
          },
          "metadata": {},
          "execution_count": 24
        }
      ]
    },
    {
      "cell_type": "markdown",
      "source": [
        "Fasttext Embedding"
      ],
      "metadata": {
        "id": "--S1bg3Twm2J"
      }
    },
    {
      "cell_type": "code",
      "source": [
        "EMBEDDING_FILE = 'cc.vi.300.vec'\n",
        "embeddings_index = {}\n",
        "with open(DATA_PATH + EMBEDDING_FILE, encoding='utf8') as f:\n",
        "    for line in f:\n",
        "        values = line.rstrip().rsplit(' ')\n",
        "        word = values[0]\n",
        "        coefs = np.asarray(values[1:], dtype='float32')\n",
        "        embeddings_index[word] = coefs"
      ],
      "metadata": {
        "id": "klr9UpWGwrqk"
      },
      "execution_count": null,
      "outputs": []
    },
    {
      "cell_type": "code",
      "source": [
        "vocabulary_size = 10000\n",
        "embedding_dim = 300\n",
        "\n",
        "tokenizer = text.Tokenizer(lower=False, filters='!\"#$%&()*+,-./:;<=>?@[\\\\]^`{|}~\\t\\n')\n",
        "tokenizer.fit_on_texts(train_X)\n",
        "\n",
        "word_index = tokenizer.word_index\n",
        "# num_words = min(vocabulary_size, len(word_index) + 1)\n",
        "num_words = len(word_index) + 1\n",
        "embedding_matrix = np.zeros((num_words, embedding_dim))\n",
        "\n",
        "for word, i in word_index.items():\n",
        "    if i >= vocabulary_size:\n",
        "        continue\n",
        "\n",
        "    embedding_vector = embeddings_index.get(word)\n",
        "    if embedding_vector is not None:\n",
        "        embedding_matrix[i] = embedding_vector\n"
      ],
      "metadata": {
        "id": "QFNbZ7q5yIxu"
      },
      "execution_count": null,
      "outputs": []
    },
    {
      "cell_type": "code",
      "source": [
        "sequence_length = 100\n",
        "\n",
        "def make_featues(X, y, tokenizer, is_one_hot_label=True):\n",
        "    X = tokenizer.texts_to_sequences(X)\n",
        "    X = sequence.pad_sequences(X, maxlen=sequence_length)\n",
        "    if is_one_hot_label:\n",
        "        y = to_categorical(y, num_classes=3)\n",
        "    return X, y\n",
        "\n",
        "# Make features\n",
        "train_X, train_y = make_featues(train_X, train_y, tokenizer)\n",
        "dev_X, dev_y = make_featues(dev_X, dev_y, tokenizer)\n",
        "test_X, test_y = make_featues(test_X, test_y, tokenizer, is_one_hot_label=False)"
      ],
      "metadata": {
        "id": "XP18q3x929Gd"
      },
      "execution_count": null,
      "outputs": []
    },
    {
      "cell_type": "code",
      "source": [
        "train_X[:2]"
      ],
      "metadata": {
        "id": "P-85hpA65AU-",
        "colab": {
          "base_uri": "https://localhost:8080/"
        },
        "outputId": "1810be8a-3c81-494d-a14a-a7dd09c4012e"
      },
      "execution_count": null,
      "outputs": [
        {
          "output_type": "execute_result",
          "data": {
            "text/plain": [
              "array([[   0,    0,    0,    0,    0,    0,    0,    0,    0,    0,    0,\n",
              "           0,    0,    0,    0,    0,    0,    0,    0,    0,    0,    0,\n",
              "           0,    0,    0,    0,    0,    0,    0,    0,    0,    0,    0,\n",
              "           0,    0,    0,    0,    0,    0,    0,    0,    0,    0,    0,\n",
              "           0,    0,    0,    0,    0,    0,    0,    0,    0,    0,    0,\n",
              "           0,    0,    0,    0,    0,    0,    0,    0,    0,    0,    0,\n",
              "           0,    0,    0,    0,    0,    0,    0,    0,    0,    0,    0,\n",
              "           0,    0,    0,    0,    0,    0,    0,    0,    0,    0,    0,\n",
              "           0,    0,    0,    0,  301, 1754,   87,  139, 9857,   87,    1,\n",
              "        1239],\n",
              "       [   0,    0,    0,    0,    0,    0,    0,    0,    0,    0,    0,\n",
              "           0,    0,    0,    0,    0,    0,    0,    0,    0,    0,    0,\n",
              "           0,    0,    0,    0,    0,    0,    0,    0,    0,    0,    0,\n",
              "           0,    0,    0,    0,    0,    0,    0,    0,    0,    0,    0,\n",
              "           0,    0,    0,    0,    0,    0,    0,    0,    0,    0,    0,\n",
              "           0,    0,    0,    0,    0,    0,    0,    0,    0,    0,    0,\n",
              "           0,    0,    0,    0,    0,    0,    0,    0,    0,    0,    0,\n",
              "           0,    0,    0,    0,    0,    0,    0,    0,    0,    0,    0,\n",
              "           0,    0,    0,    0,    0,    0,    0,    0,    0,    0,  116,\n",
              "           6]], dtype=int32)"
            ]
          },
          "metadata": {},
          "execution_count": 28
        }
      ]
    },
    {
      "cell_type": "code",
      "source": [
        "train_y[:2]"
      ],
      "metadata": {
        "id": "o7Uoog8l5JVR",
        "colab": {
          "base_uri": "https://localhost:8080/"
        },
        "outputId": "aaee318f-abc0-4ac0-9715-753ff94e8138"
      },
      "execution_count": null,
      "outputs": [
        {
          "output_type": "execute_result",
          "data": {
            "text/plain": [
              "array([[1., 0., 0.],\n",
              "       [1., 0., 0.]], dtype=float32)"
            ]
          },
          "metadata": {},
          "execution_count": 29
        }
      ]
    },
    {
      "cell_type": "markdown",
      "source": [
        "## Text-CNN"
      ],
      "metadata": {
        "id": "dKDhkGRmHWVq"
      }
    },
    {
      "cell_type": "code",
      "source": [
        "batch_size = 256\n",
        "epochs = 40\n",
        "drop = 0.5\n",
        "\n",
        "filter_sizes = [2,3,5]\n",
        "num_filters = 32\n",
        "\n",
        "inputs = Input(shape=(sequence_length,), dtype='int32')\n",
        "embedding = Embedding(input_dim=num_words, output_dim=embedding_dim, input_length=sequence_length, weights=[embedding_matrix])(inputs)\n",
        "reshape = Reshape((sequence_length,embedding_dim,1))(embedding)\n",
        "\n",
        "conv_0 = Conv2D(num_filters, kernel_size=(filter_sizes[0], embedding_dim), padding='valid', kernel_initializer='normal', activation='elu')(reshape)\n",
        "conv_1 = Conv2D(num_filters, kernel_size=(filter_sizes[1], embedding_dim), padding='valid', kernel_initializer='normal', activation='elu')(reshape)\n",
        "conv_2 = Conv2D(num_filters, kernel_size=(filter_sizes[2], embedding_dim), padding='valid', kernel_initializer='normal', activation='elu')(reshape)\n",
        "\n",
        "maxpool_0 = MaxPool2D(pool_size=(sequence_length - filter_sizes[0] + 1, 1), strides=(1,1), padding='valid')(conv_0)\n",
        "maxpool_1 = MaxPool2D(pool_size=(sequence_length - filter_sizes[1] + 1, 1), strides=(1,1), padding='valid')(conv_1)\n",
        "maxpool_2 = MaxPool2D(pool_size=(sequence_length - filter_sizes[2] + 1, 1), strides=(1,1), padding='valid')(conv_2)\n",
        "\n",
        "concatenated_tensor = Concatenate(axis=1)([maxpool_0, maxpool_1, maxpool_2])\n",
        "flatten = Flatten()(concatenated_tensor)\n",
        "dropout = Dropout(drop)(flatten)\n",
        "output = Dense(units=3, activation='softmax')(dropout)\n",
        "\n",
        "# this creates a model that includes\n",
        "model = Model(inputs=inputs, outputs=output)\n",
        "\n",
        "model.summary()\n"
      ],
      "metadata": {
        "colab": {
          "base_uri": "https://localhost:8080/"
        },
        "id": "6SnB50O4HVhx",
        "outputId": "7fc8ce97-ef48-4239-8df0-b79cac9a290d"
      },
      "execution_count": null,
      "outputs": [
        {
          "output_type": "stream",
          "name": "stdout",
          "text": [
            "Model: \"model\"\n",
            "__________________________________________________________________________________________________\n",
            " Layer (type)                Output Shape                 Param #   Connected to                  \n",
            "==================================================================================================\n",
            " input_1 (InputLayer)        [(None, 100)]                0         []                            \n",
            "                                                                                                  \n",
            " embedding (Embedding)       (None, 100, 300)             6449700   ['input_1[0][0]']             \n",
            "                                                                                                  \n",
            " reshape (Reshape)           (None, 100, 300, 1)          0         ['embedding[0][0]']           \n",
            "                                                                                                  \n",
            " conv2d (Conv2D)             (None, 99, 1, 32)            19232     ['reshape[0][0]']             \n",
            "                                                                                                  \n",
            " conv2d_1 (Conv2D)           (None, 98, 1, 32)            28832     ['reshape[0][0]']             \n",
            "                                                                                                  \n",
            " conv2d_2 (Conv2D)           (None, 96, 1, 32)            48032     ['reshape[0][0]']             \n",
            "                                                                                                  \n",
            " max_pooling2d (MaxPooling2  (None, 1, 1, 32)             0         ['conv2d[0][0]']              \n",
            " D)                                                                                               \n",
            "                                                                                                  \n",
            " max_pooling2d_1 (MaxPoolin  (None, 1, 1, 32)             0         ['conv2d_1[0][0]']            \n",
            " g2D)                                                                                             \n",
            "                                                                                                  \n",
            " max_pooling2d_2 (MaxPoolin  (None, 1, 1, 32)             0         ['conv2d_2[0][0]']            \n",
            " g2D)                                                                                             \n",
            "                                                                                                  \n",
            " concatenate (Concatenate)   (None, 3, 1, 32)             0         ['max_pooling2d[0][0]',       \n",
            "                                                                     'max_pooling2d_1[0][0]',     \n",
            "                                                                     'max_pooling2d_2[0][0]']     \n",
            "                                                                                                  \n",
            " flatten (Flatten)           (None, 96)                   0         ['concatenate[0][0]']         \n",
            "                                                                                                  \n",
            " dropout (Dropout)           (None, 96)                   0         ['flatten[0][0]']             \n",
            "                                                                                                  \n",
            " dense (Dense)               (None, 3)                    291       ['dropout[0][0]']             \n",
            "                                                                                                  \n",
            "==================================================================================================\n",
            "Total params: 6546087 (24.97 MB)\n",
            "Trainable params: 6546087 (24.97 MB)\n",
            "Non-trainable params: 0 (0.00 Byte)\n",
            "__________________________________________________________________________________________________\n"
          ]
        }
      ]
    },
    {
      "cell_type": "code",
      "source": [
        "MODEL_FILE = 'Text_CNN_model_v1.h5'\n",
        "adam = Adam(learning_rate=1e-4, beta_1=0.9, beta_2=0.999, epsilon=1e-08)\n",
        "\n",
        "model.compile(optimizer=adam, loss='categorical_crossentropy', metrics=['accuracy'])\n",
        "\n",
        "model.fit(train_X, train_y, batch_size=batch_size, epochs=epochs, verbose=1,\n",
        "          validation_data=(dev_X, dev_y))\n",
        "model.save(DATA_PATH + MODEL_FILE)"
      ],
      "metadata": {
        "colab": {
          "base_uri": "https://localhost:8080/"
        },
        "id": "BZTiEjmCNNvT",
        "outputId": "4d367d83-75bd-4a9b-c771-ea361292af52"
      },
      "execution_count": null,
      "outputs": [
        {
          "output_type": "stream",
          "name": "stdout",
          "text": [
            "Epoch 1/40\n",
            "101/101 [==============================] - 40s 277ms/step - loss: 0.8129 - accuracy: 0.7685 - val_loss: 0.6768 - val_accuracy: 0.8151\n",
            "Epoch 2/40\n",
            "101/101 [==============================] - 10s 103ms/step - loss: 0.6158 - accuracy: 0.8236 - val_loss: 0.5659 - val_accuracy: 0.8157\n",
            "Epoch 3/40\n",
            "101/101 [==============================] - 9s 86ms/step - loss: 0.5278 - accuracy: 0.8284 - val_loss: 0.5077 - val_accuracy: 0.8191\n",
            "Epoch 4/40\n",
            "101/101 [==============================] - 6s 53ms/step - loss: 0.4803 - accuracy: 0.8360 - val_loss: 0.4785 - val_accuracy: 0.8294\n",
            "Epoch 5/40\n",
            "101/101 [==============================] - 4s 44ms/step - loss: 0.4468 - accuracy: 0.8441 - val_loss: 0.4568 - val_accuracy: 0.8362\n",
            "Epoch 6/40\n",
            "101/101 [==============================] - 4s 41ms/step - loss: 0.4191 - accuracy: 0.8505 - val_loss: 0.4384 - val_accuracy: 0.8420\n",
            "Epoch 7/40\n",
            "101/101 [==============================] - 4s 36ms/step - loss: 0.3967 - accuracy: 0.8575 - val_loss: 0.4252 - val_accuracy: 0.8447\n",
            "Epoch 8/40\n",
            "101/101 [==============================] - 3s 34ms/step - loss: 0.3735 - accuracy: 0.8642 - val_loss: 0.4143 - val_accuracy: 0.8460\n",
            "Epoch 9/40\n",
            "101/101 [==============================] - 3s 34ms/step - loss: 0.3541 - accuracy: 0.8714 - val_loss: 0.4060 - val_accuracy: 0.8478\n",
            "Epoch 10/40\n",
            "101/101 [==============================] - 4s 35ms/step - loss: 0.3357 - accuracy: 0.8755 - val_loss: 0.3989 - val_accuracy: 0.8488\n",
            "Epoch 11/40\n",
            "101/101 [==============================] - 4s 35ms/step - loss: 0.3168 - accuracy: 0.8830 - val_loss: 0.3938 - val_accuracy: 0.8515\n",
            "Epoch 12/40\n",
            "101/101 [==============================] - 2s 22ms/step - loss: 0.3000 - accuracy: 0.8896 - val_loss: 0.3886 - val_accuracy: 0.8542\n",
            "Epoch 13/40\n",
            "101/101 [==============================] - 3s 28ms/step - loss: 0.2872 - accuracy: 0.8922 - val_loss: 0.3854 - val_accuracy: 0.8559\n",
            "Epoch 14/40\n",
            "101/101 [==============================] - 3s 32ms/step - loss: 0.2709 - accuracy: 0.8982 - val_loss: 0.3823 - val_accuracy: 0.8549\n",
            "Epoch 15/40\n",
            "101/101 [==============================] - 2s 22ms/step - loss: 0.2582 - accuracy: 0.9040 - val_loss: 0.3801 - val_accuracy: 0.8573\n",
            "Epoch 16/40\n",
            "101/101 [==============================] - 3s 28ms/step - loss: 0.2448 - accuracy: 0.9098 - val_loss: 0.3797 - val_accuracy: 0.8587\n",
            "Epoch 17/40\n",
            "101/101 [==============================] - 2s 24ms/step - loss: 0.2310 - accuracy: 0.9135 - val_loss: 0.3788 - val_accuracy: 0.8587\n",
            "Epoch 18/40\n",
            "101/101 [==============================] - 2s 24ms/step - loss: 0.2209 - accuracy: 0.9196 - val_loss: 0.3801 - val_accuracy: 0.8593\n",
            "Epoch 19/40\n",
            "101/101 [==============================] - 2s 25ms/step - loss: 0.2098 - accuracy: 0.9224 - val_loss: 0.3792 - val_accuracy: 0.8597\n",
            "Epoch 20/40\n",
            "101/101 [==============================] - 3s 27ms/step - loss: 0.1971 - accuracy: 0.9301 - val_loss: 0.3820 - val_accuracy: 0.8624\n",
            "Epoch 21/40\n",
            "101/101 [==============================] - 3s 26ms/step - loss: 0.1880 - accuracy: 0.9331 - val_loss: 0.3846 - val_accuracy: 0.8634\n",
            "Epoch 22/40\n",
            "101/101 [==============================] - 2s 23ms/step - loss: 0.1790 - accuracy: 0.9361 - val_loss: 0.3848 - val_accuracy: 0.8641\n",
            "Epoch 23/40\n",
            "101/101 [==============================] - 2s 24ms/step - loss: 0.1699 - accuracy: 0.9409 - val_loss: 0.3891 - val_accuracy: 0.8655\n",
            "Epoch 24/40\n",
            "101/101 [==============================] - 3s 26ms/step - loss: 0.1608 - accuracy: 0.9451 - val_loss: 0.3900 - val_accuracy: 0.8655\n",
            "Epoch 25/40\n",
            "101/101 [==============================] - 3s 28ms/step - loss: 0.1530 - accuracy: 0.9490 - val_loss: 0.3935 - val_accuracy: 0.8665\n",
            "Epoch 26/40\n",
            "101/101 [==============================] - 2s 24ms/step - loss: 0.1458 - accuracy: 0.9528 - val_loss: 0.3957 - val_accuracy: 0.8658\n",
            "Epoch 27/40\n",
            "101/101 [==============================] - 2s 22ms/step - loss: 0.1379 - accuracy: 0.9541 - val_loss: 0.3994 - val_accuracy: 0.8641\n",
            "Epoch 28/40\n",
            "101/101 [==============================] - 2s 22ms/step - loss: 0.1314 - accuracy: 0.9581 - val_loss: 0.4040 - val_accuracy: 0.8648\n",
            "Epoch 29/40\n",
            "101/101 [==============================] - 3s 26ms/step - loss: 0.1242 - accuracy: 0.9607 - val_loss: 0.4091 - val_accuracy: 0.8641\n",
            "Epoch 30/40\n",
            "101/101 [==============================] - 3s 28ms/step - loss: 0.1193 - accuracy: 0.9638 - val_loss: 0.4113 - val_accuracy: 0.8631\n",
            "Epoch 31/40\n",
            "101/101 [==============================] - 2s 22ms/step - loss: 0.1123 - accuracy: 0.9659 - val_loss: 0.4173 - val_accuracy: 0.8614\n",
            "Epoch 32/40\n",
            "101/101 [==============================] - 2s 21ms/step - loss: 0.1071 - accuracy: 0.9679 - val_loss: 0.4198 - val_accuracy: 0.8604\n",
            "Epoch 33/40\n",
            "101/101 [==============================] - 2s 25ms/step - loss: 0.1020 - accuracy: 0.9693 - val_loss: 0.4267 - val_accuracy: 0.8600\n",
            "Epoch 34/40\n",
            "101/101 [==============================] - 2s 23ms/step - loss: 0.0982 - accuracy: 0.9709 - val_loss: 0.4333 - val_accuracy: 0.8614\n",
            "Epoch 35/40\n",
            "101/101 [==============================] - 3s 25ms/step - loss: 0.0931 - accuracy: 0.9734 - val_loss: 0.4366 - val_accuracy: 0.8614\n",
            "Epoch 36/40\n",
            "101/101 [==============================] - 2s 24ms/step - loss: 0.0902 - accuracy: 0.9731 - val_loss: 0.4429 - val_accuracy: 0.8607\n",
            "Epoch 37/40\n",
            "101/101 [==============================] - 2s 21ms/step - loss: 0.0872 - accuracy: 0.9739 - val_loss: 0.4461 - val_accuracy: 0.8621\n",
            "Epoch 38/40\n",
            "101/101 [==============================] - 2s 23ms/step - loss: 0.0817 - accuracy: 0.9765 - val_loss: 0.4547 - val_accuracy: 0.8607\n",
            "Epoch 39/40\n",
            "101/101 [==============================] - 3s 26ms/step - loss: 0.0781 - accuracy: 0.9775 - val_loss: 0.4583 - val_accuracy: 0.8624\n",
            "Epoch 40/40\n",
            "101/101 [==============================] - 3s 26ms/step - loss: 0.0755 - accuracy: 0.9782 - val_loss: 0.4638 - val_accuracy: 0.8610\n"
          ]
        },
        {
          "output_type": "stream",
          "name": "stderr",
          "text": [
            "/usr/local/lib/python3.10/dist-packages/keras/src/engine/training.py:3103: UserWarning: You are saving your model as an HDF5 file via `model.save()`. This file format is considered legacy. We recommend using instead the native Keras format, e.g. `model.save('my_model.keras')`.\n",
            "  saving_api.save_model(\n"
          ]
        }
      ]
    },
    {
      "cell_type": "code",
      "source": [
        "prediction = model.predict(test_X, batch_size=batch_size, verbose=0)\n",
        "y_pred = prediction.argmax(axis=-1)\n",
        "\n",
        "cf1 = confusion_matrix(test_y, y_pred)\n",
        "cf1"
      ],
      "metadata": {
        "colab": {
          "base_uri": "https://localhost:8080/"
        },
        "id": "nmK0XrekdjzT",
        "outputId": "f5191e64-acf8-42fc-99c1-b6f33323c6df"
      },
      "execution_count": null,
      "outputs": [
        {
          "output_type": "execute_result",
          "data": {
            "text/plain": [
              "array([[5684,   92,  154],\n",
              "       [ 245,  162,  113],\n",
              "       [ 340,   51,  344]])"
            ]
          },
          "metadata": {},
          "execution_count": 54
        }
      ]
    },
    {
      "cell_type": "code",
      "source": [
        "y_pred[:50]"
      ],
      "metadata": {
        "colab": {
          "base_uri": "https://localhost:8080/"
        },
        "id": "FEDkHQ6be1Sq",
        "outputId": "570d436f-d692-4b42-d58b-16bd3650b6b3"
      },
      "execution_count": null,
      "outputs": [
        {
          "output_type": "execute_result",
          "data": {
            "text/plain": [
              "array([0, 0, 1, 0, 0, 0, 0, 0, 0, 0, 0, 0, 0, 0, 0, 0, 0, 0, 0, 0, 0, 0,\n",
              "       0, 0, 0, 0, 0, 0, 0, 0, 0, 0, 0, 0, 0, 0, 0, 0, 0, 2, 0, 0, 0, 2,\n",
              "       0, 0, 0, 0, 0, 0])"
            ]
          },
          "metadata": {},
          "execution_count": 33
        }
      ]
    },
    {
      "cell_type": "code",
      "source": [
        "f1_scores_per_class = f1_score(test_y, y_pred, average=None)\n",
        "\n",
        "# In F1 score cho mỗi class\n",
        "for i, score in enumerate(f1_scores_per_class):\n",
        "    print(f\"F1 Score for class {i}: {score}\")"
      ],
      "metadata": {
        "colab": {
          "base_uri": "https://localhost:8080/"
        },
        "id": "YQxluKt965Af",
        "outputId": "28262720-d5fc-4f9f-c494-7f9a6e573436"
      },
      "execution_count": null,
      "outputs": [
        {
          "output_type": "stream",
          "name": "stdout",
          "text": [
            "F1 Score for class 0: 0.9318796622673989\n",
            "F1 Score for class 1: 0.39272727272727276\n",
            "F1 Score for class 2: 0.5111441307578009\n"
          ]
        }
      ]
    },
    {
      "cell_type": "code",
      "source": [
        "evaluation = f1_score(test_y, y_pred, average='micro')\n",
        "evaluation"
      ],
      "metadata": {
        "colab": {
          "base_uri": "https://localhost:8080/"
        },
        "id": "ozVJ5RMEdrU6",
        "outputId": "5f8f4faa-bfde-4944-d41a-e621f0c3b1ac"
      },
      "execution_count": null,
      "outputs": [
        {
          "output_type": "execute_result",
          "data": {
            "text/plain": [
              "0.8609603340292276"
            ]
          },
          "metadata": {},
          "execution_count": 34
        }
      ]
    },
    {
      "cell_type": "code",
      "source": [
        "f1_score(test_y, y_pred, average='macro')"
      ],
      "metadata": {
        "colab": {
          "base_uri": "https://localhost:8080/"
        },
        "id": "UPO34_eqd4i6",
        "outputId": "5caca1ed-b019-4b30-d01a-a1a7a8927615"
      },
      "execution_count": null,
      "outputs": [
        {
          "output_type": "execute_result",
          "data": {
            "text/plain": [
              "0.613786100567483"
            ]
          },
          "metadata": {},
          "execution_count": 39
        }
      ]
    },
    {
      "cell_type": "code",
      "source": [
        "accuracy_score(test_y, y_pred)"
      ],
      "metadata": {
        "colab": {
          "base_uri": "https://localhost:8080/"
        },
        "id": "OM6gsj50d-YR",
        "outputId": "d8e3b463-7d16-4bdc-a4e2-aca57d324054"
      },
      "execution_count": null,
      "outputs": [
        {
          "output_type": "execute_result",
          "data": {
            "text/plain": [
              "0.8609603340292276"
            ]
          },
          "metadata": {},
          "execution_count": 36
        }
      ]
    },
    {
      "cell_type": "code",
      "source": [
        "df_cm1 = pd.DataFrame(cf1, index = [\"normal\",\"hate\",\"harassment\"],\n",
        "                  columns = [\"normal\",\"hate\",\"harassment\"])\n",
        "plt.clf()\n",
        "sn.heatmap(df_cm1, annot=True, cmap=\"Greys\",fmt='g', cbar=True, annot_kws={\"size\": 30})"
      ],
      "metadata": {
        "colab": {
          "base_uri": "https://localhost:8080/",
          "height": 447
        },
        "id": "AamEjCjmeeCS",
        "outputId": "1764ddfa-91ef-4407-cc36-337025526b95"
      },
      "execution_count": null,
      "outputs": [
        {
          "output_type": "execute_result",
          "data": {
            "text/plain": [
              "<Axes: >"
            ]
          },
          "metadata": {},
          "execution_count": 37
        },
        {
          "output_type": "display_data",
          "data": {
            "text/plain": [
              "<Figure size 640x480 with 2 Axes>"
            ],
            "image/png": "[encoded data removed]"
          },
          "metadata": {}
        }
      ]
    },
    {
      "cell_type": "code",
      "source": [
        "test_X_2k7, test_y_2k7 = pre_process_features(test['text'], test['label'], tokenized=True, lowercased = True)\n",
        "test_X_2k7, test_y_2k7 = make_featues(test_X_2k7, test_y_2k7, tokenizer, is_one_hot_label=False)"
      ],
      "metadata": {
        "id": "UL5ObppdMhDJ"
      },
      "execution_count": null,
      "outputs": []
    },
    {
      "cell_type": "code",
      "source": [
        "prediction_2k7 = model.predict(test_X_2k7, batch_size=batch_size, verbose=0)\n",
        "y_pred_2k7 = prediction_2k7.argmax(axis=-1)\n",
        "\n",
        "cf2k7 = confusion_matrix(test_y_2k7, y_pred_2k7)"
      ],
      "metadata": {
        "id": "lcDY6TyfPYyo"
      },
      "execution_count": null,
      "outputs": []
    },
    {
      "cell_type": "code",
      "source": [
        "accuracy_score(test_y_2k7, y_pred_2k7)"
      ],
      "metadata": {
        "colab": {
          "base_uri": "https://localhost:8080/"
        },
        "id": "t2OOP1RYPdPw",
        "outputId": "7266ffb8-65ab-4c3c-b0a4-c8ee6ac6185e"
      },
      "execution_count": null,
      "outputs": [
        {
          "output_type": "execute_result",
          "data": {
            "text/plain": [
              "0.8277777777777777"
            ]
          },
          "metadata": {},
          "execution_count": 41
        }
      ]
    },
    {
      "cell_type": "code",
      "source": [
        "f1_score(test_y_2k7, y_pred_2k7, average='macro')"
      ],
      "metadata": {
        "colab": {
          "base_uri": "https://localhost:8080/"
        },
        "id": "A18dctrfPsJz",
        "outputId": "8ab0574d-0160-4e40-9d57-ccae160de735"
      },
      "execution_count": null,
      "outputs": [
        {
          "output_type": "execute_result",
          "data": {
            "text/plain": [
              "0.6058923714380131"
            ]
          },
          "metadata": {},
          "execution_count": 42
        }
      ]
    },
    {
      "cell_type": "code",
      "source": [
        "df_cm2k7 = pd.DataFrame(cf2k7, index = [\"normal\",\"hate\",\"harassment\"],\n",
        "                  columns = [\"normal\",\"hate\",\"harassment\"])\n",
        "plt.clf()\n",
        "sn.heatmap(df_cm2k7, annot=True, cmap=\"Greys\",fmt='g', cbar=True, annot_kws={\"size\": 30})"
      ],
      "metadata": {
        "colab": {
          "base_uri": "https://localhost:8080/",
          "height": 447
        },
        "id": "8N1U2BU1Pvc0",
        "outputId": "afc5e5bd-26d1-48e8-8e91-56521c6884dc"
      },
      "execution_count": null,
      "outputs": [
        {
          "output_type": "execute_result",
          "data": {
            "text/plain": [
              "<Axes: >"
            ]
          },
          "metadata": {},
          "execution_count": 43
        },
        {
          "output_type": "display_data",
          "data": {
            "text/plain": [
              "<Figure size 640x480 with 2 Axes>"
            ],
            "image/png": "[encoded data removed]"
          },
          "metadata": {}
        }
      ]
    },
    {
      "cell_type": "markdown",
      "source": [
        "## GRU"
      ],
      "metadata": {
        "id": "qUNZtII7tv91"
      }
    },
    {
      "cell_type": "code",
      "source": [
        "from keras.layers import Dense, Input, Bidirectional, GRU\n",
        "from keras.layers import GlobalMaxPooling1D, GlobalAveragePooling1D, concatenate, SpatialDropout1D"
      ],
      "metadata": {
        "id": "UgDzBDtiLina"
      },
      "execution_count": null,
      "outputs": []
    },
    {
      "cell_type": "code",
      "source": [
        "input = Input(shape=(sequence_length,))\n",
        "x = Embedding(num_words, embedding_dim, weights=[embedding_matrix])(input)\n",
        "x = SpatialDropout1D(0.2)(x)\n",
        "x = Bidirectional(GRU(80, return_sequences=True))(x)\n",
        "avg_pool = GlobalAveragePooling1D()(x)\n",
        "max_pool = GlobalMaxPooling1D()(x)\n",
        "conc = concatenate([avg_pool, max_pool])\n",
        "output = Dense(3, activation=\"softmax\")(conc)\n",
        "\n",
        "# this creates a model that includes\n",
        "model = Model(inputs=input, outputs=output)\n",
        "\n",
        "model.summary()"
      ],
      "metadata": {
        "id": "wSU87vShtzmF",
        "colab": {
          "base_uri": "https://localhost:8080/"
        },
        "outputId": "acdd15c2-0e7a-4503-b16c-3ee241aba3b9"
      },
      "execution_count": null,
      "outputs": [
        {
          "output_type": "stream",
          "name": "stdout",
          "text": [
            "Model: \"model_1\"\n",
            "__________________________________________________________________________________________________\n",
            " Layer (type)                Output Shape                 Param #   Connected to                  \n",
            "==================================================================================================\n",
            " input_2 (InputLayer)        [(None, 100)]                0         []                            \n",
            "                                                                                                  \n",
            " embedding_1 (Embedding)     (None, 100, 300)             6449700   ['input_2[0][0]']             \n",
            "                                                                                                  \n",
            " spatial_dropout1d (Spatial  (None, 100, 300)             0         ['embedding_1[0][0]']         \n",
            " Dropout1D)                                                                                       \n",
            "                                                                                                  \n",
            " bidirectional (Bidirection  (None, 100, 160)             183360    ['spatial_dropout1d[0][0]']   \n",
            " al)                                                                                              \n",
            "                                                                                                  \n",
            " global_average_pooling1d (  (None, 160)                  0         ['bidirectional[0][0]']       \n",
            " GlobalAveragePooling1D)                                                                          \n",
            "                                                                                                  \n",
            " global_max_pooling1d (Glob  (None, 160)                  0         ['bidirectional[0][0]']       \n",
            " alMaxPooling1D)                                                                                  \n",
            "                                                                                                  \n",
            " concatenate_1 (Concatenate  (None, 320)                  0         ['global_average_pooling1d[0][\n",
            " )                                                                  0]',                          \n",
            "                                                                     'global_max_pooling1d[0][0]']\n",
            "                                                                                                  \n",
            " dense_1 (Dense)             (None, 3)                    963       ['concatenate_1[0][0]']       \n",
            "                                                                                                  \n",
            "==================================================================================================\n",
            "Total params: 6634023 (25.31 MB)\n",
            "Trainable params: 6634023 (25.31 MB)\n",
            "Non-trainable params: 0 (0.00 Byte)\n",
            "__________________________________________________________________________________________________\n"
          ]
        }
      ]
    },
    {
      "cell_type": "code",
      "source": [
        "batch_size = 256\n",
        "epochs = 40\n",
        "\n",
        "MODEL_FILE = 'GRU_model_v1.h5'\n",
        "adam = Adam(learning_rate=1e-4, beta_1=0.9, beta_2=0.999, epsilon=1e-08)\n",
        "\n",
        "model.compile(optimizer=adam, loss='categorical_crossentropy', metrics=['accuracy'])\n",
        "\n",
        "model.fit(train_X, train_y, batch_size=batch_size, epochs=epochs, verbose=1, validation_data=(dev_X, dev_y))\n",
        "model.save(DATA_PATH + MODEL_FILE)\n",
        "\n",
        "prediction = model.predict(test_X, batch_size=batch_size, verbose=0)\n",
        "y_pred = prediction.argmax(axis=-1)\n",
        "\n",
        "cf2 = confusion_matrix(test_y, y_pred)"
      ],
      "metadata": {
        "colab": {
          "base_uri": "https://localhost:8080/"
        },
        "id": "xyjRehqeLDji",
        "outputId": "95ecf9c6-3d58-4591-b4b3-bf202b9e1373"
      },
      "execution_count": null,
      "outputs": [
        {
          "output_type": "stream",
          "name": "stdout",
          "text": [
            "Epoch 1/40\n",
            "101/101 [==============================] - 19s 135ms/step - loss: 0.8235 - accuracy: 0.8147 - val_loss: 0.6309 - val_accuracy: 0.8151\n",
            "Epoch 2/40\n",
            "101/101 [==============================] - 7s 66ms/step - loss: 0.5864 - accuracy: 0.8224 - val_loss: 0.5851 - val_accuracy: 0.8151\n",
            "Epoch 3/40\n",
            "101/101 [==============================] - 7s 67ms/step - loss: 0.5453 - accuracy: 0.8225 - val_loss: 0.5472 - val_accuracy: 0.8151\n",
            "Epoch 4/40\n",
            "101/101 [==============================] - 5s 44ms/step - loss: 0.4965 - accuracy: 0.8269 - val_loss: 0.4909 - val_accuracy: 0.8283\n",
            "Epoch 5/40\n",
            "101/101 [==============================] - 5s 46ms/step - loss: 0.4357 - accuracy: 0.8472 - val_loss: 0.4456 - val_accuracy: 0.8413\n",
            "Epoch 6/40\n",
            "101/101 [==============================] - 4s 36ms/step - loss: 0.3915 - accuracy: 0.8597 - val_loss: 0.4245 - val_accuracy: 0.8443\n",
            "Epoch 7/40\n",
            "101/101 [==============================] - 4s 36ms/step - loss: 0.3626 - accuracy: 0.8685 - val_loss: 0.4140 - val_accuracy: 0.8443\n",
            "Epoch 8/40\n",
            "101/101 [==============================] - 3s 34ms/step - loss: 0.3355 - accuracy: 0.8780 - val_loss: 0.4124 - val_accuracy: 0.8471\n",
            "Epoch 9/40\n",
            "101/101 [==============================] - 4s 39ms/step - loss: 0.3092 - accuracy: 0.8858 - val_loss: 0.4045 - val_accuracy: 0.8535\n",
            "Epoch 10/40\n",
            "101/101 [==============================] - 3s 33ms/step - loss: 0.2883 - accuracy: 0.8908 - val_loss: 0.4050 - val_accuracy: 0.8532\n",
            "Epoch 11/40\n",
            "101/101 [==============================] - 4s 36ms/step - loss: 0.2644 - accuracy: 0.8999 - val_loss: 0.4206 - val_accuracy: 0.8508\n",
            "Epoch 12/40\n",
            "101/101 [==============================] - 3s 30ms/step - loss: 0.2513 - accuracy: 0.9030 - val_loss: 0.4366 - val_accuracy: 0.8535\n",
            "Epoch 13/40\n",
            "101/101 [==============================] - 4s 35ms/step - loss: 0.2366 - accuracy: 0.9091 - val_loss: 0.4374 - val_accuracy: 0.8542\n",
            "Epoch 14/40\n",
            "101/101 [==============================] - 3s 32ms/step - loss: 0.2238 - accuracy: 0.9133 - val_loss: 0.4433 - val_accuracy: 0.8535\n",
            "Epoch 15/40\n",
            "101/101 [==============================] - 3s 29ms/step - loss: 0.2127 - accuracy: 0.9187 - val_loss: 0.4531 - val_accuracy: 0.8576\n",
            "Epoch 16/40\n",
            "101/101 [==============================] - 3s 31ms/step - loss: 0.2049 - accuracy: 0.9212 - val_loss: 0.4627 - val_accuracy: 0.8542\n",
            "Epoch 17/40\n",
            "101/101 [==============================] - 3s 32ms/step - loss: 0.1965 - accuracy: 0.9238 - val_loss: 0.4786 - val_accuracy: 0.8563\n",
            "Epoch 18/40\n",
            "101/101 [==============================] - 3s 29ms/step - loss: 0.1872 - accuracy: 0.9276 - val_loss: 0.4730 - val_accuracy: 0.8573\n",
            "Epoch 19/40\n",
            "101/101 [==============================] - 3s 28ms/step - loss: 0.1818 - accuracy: 0.9316 - val_loss: 0.4918 - val_accuracy: 0.8559\n",
            "Epoch 20/40\n",
            "101/101 [==============================] - 3s 29ms/step - loss: 0.1732 - accuracy: 0.9357 - val_loss: 0.4899 - val_accuracy: 0.8532\n",
            "Epoch 21/40\n",
            "101/101 [==============================] - 3s 31ms/step - loss: 0.1661 - accuracy: 0.9377 - val_loss: 0.4970 - val_accuracy: 0.8518\n",
            "Epoch 22/40\n",
            "101/101 [==============================] - 3s 29ms/step - loss: 0.1581 - accuracy: 0.9424 - val_loss: 0.5049 - val_accuracy: 0.8542\n",
            "Epoch 23/40\n",
            "101/101 [==============================] - 3s 28ms/step - loss: 0.1528 - accuracy: 0.9454 - val_loss: 0.5105 - val_accuracy: 0.8484\n",
            "Epoch 24/40\n",
            "101/101 [==============================] - 3s 29ms/step - loss: 0.1463 - accuracy: 0.9472 - val_loss: 0.5298 - val_accuracy: 0.8539\n",
            "Epoch 25/40\n",
            "101/101 [==============================] - 3s 30ms/step - loss: 0.1404 - accuracy: 0.9496 - val_loss: 0.5267 - val_accuracy: 0.8559\n",
            "Epoch 26/40\n",
            "101/101 [==============================] - 3s 30ms/step - loss: 0.1351 - accuracy: 0.9525 - val_loss: 0.5539 - val_accuracy: 0.8532\n",
            "Epoch 27/40\n",
            "101/101 [==============================] - 3s 28ms/step - loss: 0.1298 - accuracy: 0.9549 - val_loss: 0.5389 - val_accuracy: 0.8559\n",
            "Epoch 28/40\n",
            "101/101 [==============================] - 3s 28ms/step - loss: 0.1215 - accuracy: 0.9568 - val_loss: 0.5466 - val_accuracy: 0.8576\n",
            "Epoch 29/40\n",
            "101/101 [==============================] - 3s 29ms/step - loss: 0.1158 - accuracy: 0.9594 - val_loss: 0.5566 - val_accuracy: 0.8542\n",
            "Epoch 30/40\n",
            "101/101 [==============================] - 3s 31ms/step - loss: 0.1113 - accuracy: 0.9616 - val_loss: 0.6079 - val_accuracy: 0.8430\n",
            "Epoch 31/40\n",
            "101/101 [==============================] - 3s 29ms/step - loss: 0.1083 - accuracy: 0.9624 - val_loss: 0.5534 - val_accuracy: 0.8426\n",
            "Epoch 32/40\n",
            "101/101 [==============================] - 3s 27ms/step - loss: 0.1059 - accuracy: 0.9629 - val_loss: 0.5831 - val_accuracy: 0.8535\n",
            "Epoch 33/40\n",
            "101/101 [==============================] - 3s 29ms/step - loss: 0.0990 - accuracy: 0.9662 - val_loss: 0.5808 - val_accuracy: 0.8535\n",
            "Epoch 34/40\n",
            "101/101 [==============================] - 3s 28ms/step - loss: 0.0969 - accuracy: 0.9663 - val_loss: 0.5840 - val_accuracy: 0.8495\n",
            "Epoch 35/40\n",
            "101/101 [==============================] - 3s 30ms/step - loss: 0.0932 - accuracy: 0.9680 - val_loss: 0.6006 - val_accuracy: 0.8532\n",
            "Epoch 36/40\n",
            "101/101 [==============================] - 3s 29ms/step - loss: 0.0898 - accuracy: 0.9684 - val_loss: 0.6027 - val_accuracy: 0.8392\n",
            "Epoch 37/40\n",
            "101/101 [==============================] - 3s 27ms/step - loss: 0.0898 - accuracy: 0.9691 - val_loss: 0.6098 - val_accuracy: 0.8467\n",
            "Epoch 38/40\n",
            "101/101 [==============================] - 3s 29ms/step - loss: 0.0870 - accuracy: 0.9707 - val_loss: 0.5980 - val_accuracy: 0.8539\n",
            "Epoch 39/40\n",
            "101/101 [==============================] - 3s 33ms/step - loss: 0.0841 - accuracy: 0.9716 - val_loss: 0.6011 - val_accuracy: 0.8454\n",
            "Epoch 40/40\n",
            "101/101 [==============================] - 3s 32ms/step - loss: 0.0817 - accuracy: 0.9718 - val_loss: 0.6442 - val_accuracy: 0.8457\n"
          ]
        },
        {
          "output_type": "stream",
          "name": "stderr",
          "text": [
            "/usr/local/lib/python3.10/dist-packages/keras/src/engine/training.py:3103: UserWarning: You are saving your model as an HDF5 file via `model.save()`. This file format is considered legacy. We recommend using instead the native Keras format, e.g. `model.save('my_model.keras')`.\n",
            "  saving_api.save_model(\n"
          ]
        }
      ]
    },
    {
      "cell_type": "code",
      "source": [
        "f1_scores_per_class = f1_score(test_y, y_pred, average=None)\n",
        "\n",
        "# In F1 score cho mỗi class\n",
        "for i, score in enumerate(f1_scores_per_class):\n",
        "    print(f\"F1 Score for class {i}: {score}\")"
      ],
      "metadata": {
        "colab": {
          "base_uri": "https://localhost:8080/"
        },
        "id": "q7hy1_Nr8Il6",
        "outputId": "bce0bf8d-923d-4715-e61c-9193644c8b35"
      },
      "execution_count": null,
      "outputs": [
        {
          "output_type": "stream",
          "name": "stdout",
          "text": [
            "F1 Score for class 0: 0.9239903001923239\n",
            "F1 Score for class 1: 0.3820459290187892\n",
            "F1 Score for class 2: 0.48726772195457674\n"
          ]
        }
      ]
    },
    {
      "cell_type": "code",
      "source": [
        "accuracy_score(test_y, y_pred)"
      ],
      "metadata": {
        "colab": {
          "base_uri": "https://localhost:8080/"
        },
        "id": "yLRgjn7cMWdE",
        "outputId": "5927bfdb-0f1f-49ba-9589-40ab59a02e04"
      },
      "execution_count": null,
      "outputs": [
        {
          "output_type": "execute_result",
          "data": {
            "text/plain": [
              "0.843562978427279"
            ]
          },
          "metadata": {},
          "execution_count": 47
        }
      ]
    },
    {
      "cell_type": "code",
      "source": [
        "f1_score(test_y, y_pred, average='micro')"
      ],
      "metadata": {
        "colab": {
          "base_uri": "https://localhost:8080/"
        },
        "id": "BjRA3L82MS8A",
        "outputId": "600199a1-7079-463f-b314-433d7b936617"
      },
      "execution_count": null,
      "outputs": [
        {
          "output_type": "execute_result",
          "data": {
            "text/plain": [
              "0.843562978427279"
            ]
          },
          "metadata": {},
          "execution_count": 48
        }
      ]
    },
    {
      "cell_type": "code",
      "source": [
        "f1_score(test_y, y_pred, average='macro')"
      ],
      "metadata": {
        "colab": {
          "base_uri": "https://localhost:8080/"
        },
        "id": "GnDvFpiYMTmx",
        "outputId": "5adf11d5-e7a9-4a42-f0d9-877e32b974c1"
      },
      "execution_count": null,
      "outputs": [
        {
          "output_type": "execute_result",
          "data": {
            "text/plain": [
              "0.6013800148529169"
            ]
          },
          "metadata": {},
          "execution_count": 49
        }
      ]
    },
    {
      "cell_type": "code",
      "source": [
        "df_cm2 = pd.DataFrame(cf2, index = [\"normal\",\"hate\",\"harassment\"],\n",
        "                  columns = [\"normal\",\"hate\",\"harassment\"])\n",
        "plt.clf()\n",
        "sn.heatmap(df_cm2, annot=True, cmap=\"Greys\",fmt='g', cbar=True, annot_kws={\"size\": 30})"
      ],
      "metadata": {
        "colab": {
          "base_uri": "https://localhost:8080/",
          "height": 447
        },
        "id": "IN28uGkeQ5uV",
        "outputId": "093d7460-2c7a-4248-dd7c-633cba7adf98"
      },
      "execution_count": null,
      "outputs": [
        {
          "output_type": "execute_result",
          "data": {
            "text/plain": [
              "<Axes: >"
            ]
          },
          "metadata": {},
          "execution_count": 50
        },
        {
          "output_type": "display_data",
          "data": {
            "text/plain": [
              "<Figure size 640x480 with 2 Axes>"
            ],
            "image/png": "[encoded data removed]"
          },
          "metadata": {}
        }
      ]
    },
    {
      "cell_type": "markdown",
      "source": [
        "Danh gia tren tap 2k7"
      ],
      "metadata": {
        "id": "a87bYzvPSKmj"
      }
    },
    {
      "cell_type": "code",
      "source": [
        "prediction_2k7 = model.predict(test_X_2k7, batch_size=batch_size, verbose=0)\n",
        "y_pred_2k7 = prediction_2k7.argmax(axis=-1)\n",
        "\n",
        "cf2k7 = confusion_matrix(test_y_2k7, y_pred_2k7)"
      ],
      "metadata": {
        "id": "wVWYEgWuPVUE"
      },
      "execution_count": null,
      "outputs": []
    },
    {
      "cell_type": "code",
      "source": [
        "accuracy_score(test_y_2k7, y_pred_2k7)"
      ],
      "metadata": {
        "colab": {
          "base_uri": "https://localhost:8080/"
        },
        "id": "iqUJqmELPsmB",
        "outputId": "b0c527b0-884a-4df7-f825-818c512f6f51"
      },
      "execution_count": null,
      "outputs": [
        {
          "output_type": "execute_result",
          "data": {
            "text/plain": [
              "0.812962962962963"
            ]
          },
          "metadata": {},
          "execution_count": 52
        }
      ]
    },
    {
      "cell_type": "code",
      "source": [
        "f1_score(test_y_2k7, y_pred_2k7, average='macro')"
      ],
      "metadata": {
        "colab": {
          "base_uri": "https://localhost:8080/"
        },
        "id": "duS_mOQbQvsG",
        "outputId": "79189051-66a5-45b5-c256-b7e30bb73150"
      },
      "execution_count": null,
      "outputs": [
        {
          "output_type": "execute_result",
          "data": {
            "text/plain": [
              "0.590143571417376"
            ]
          },
          "metadata": {},
          "execution_count": 53
        }
      ]
    },
    {
      "cell_type": "code",
      "source": [
        "df_cm2k7 = pd.DataFrame(cf2k7, index = [\"normal\",\"hate\",\"harassment\"],\n",
        "                  columns = [\"normal\",\"hate\",\"harassment\"])\n",
        "plt.clf()\n",
        "sn.heatmap(df_cm2k7, annot=True, cmap=\"Greys\",fmt='g', cbar=True, annot_kws={\"size\": 30})"
      ],
      "metadata": {
        "colab": {
          "base_uri": "https://localhost:8080/",
          "height": 447
        },
        "id": "ClpRnheQSQrd",
        "outputId": "682fe17c-7111-4d0c-8c25-5e200904ee0b"
      },
      "execution_count": null,
      "outputs": [
        {
          "output_type": "execute_result",
          "data": {
            "text/plain": [
              "<Axes: >"
            ]
          },
          "metadata": {},
          "execution_count": 54
        },
        {
          "output_type": "display_data",
          "data": {
            "text/plain": [
              "<Figure size 640x480 with 2 Axes>"
            ],
            "image/png": "[encoded data removed]"
          },
          "metadata": {}
        }
      ]
    },
    {
      "cell_type": "markdown",
      "source": [
        "## PhoBERT"
      ],
      "metadata": {
        "id": "YIF8U-4j-gcY"
      }
    },
    {
      "cell_type": "code",
      "source": [
        "!pip install vncorenlp"
      ],
      "metadata": {
        "colab": {
          "base_uri": "https://localhost:8080/"
        },
        "id": "roOckqY0_FED",
        "outputId": "dabb8259-3ff7-444d-c423-984be818e35e"
      },
      "execution_count": null,
      "outputs": [
        {
          "output_type": "stream",
          "name": "stdout",
          "text": [
            "Requirement already satisfied: vncorenlp in /usr/local/lib/python3.10/dist-packages (1.0.3)\n",
            "Requirement already satisfied: requests in /usr/local/lib/python3.10/dist-packages (from vncorenlp) (2.31.0)\n",
            "Requirement already satisfied: charset-normalizer<4,>=2 in /usr/local/lib/python3.10/dist-packages (from requests->vncorenlp) (3.3.2)\n",
            "Requirement already satisfied: idna<4,>=2.5 in /usr/local/lib/python3.10/dist-packages (from requests->vncorenlp) (3.6)\n",
            "Requirement already satisfied: urllib3<3,>=1.21.1 in /usr/local/lib/python3.10/dist-packages (from requests->vncorenlp) (2.0.7)\n",
            "Requirement already satisfied: certifi>=2017.4.17 in /usr/local/lib/python3.10/dist-packages (from requests->vncorenlp) (2024.2.2)\n"
          ]
        }
      ]
    },
    {
      "cell_type": "code",
      "source": [
        "!mkdir -p vncorenlp/models/wordsegmenter\n",
        "!wget https://raw.githubusercontent.com/vncorenlp/VnCoreNLP/master/VnCoreNLP-1.1.1.jar\n",
        "!wget https://raw.githubusercontent.com/vncorenlp/VnCoreNLP/master/models/wordsegmenter/vi-vocab\n",
        "!wget https://raw.githubusercontent.com/vncorenlp/VnCoreNLP/master/models/wordsegmenter/wordsegmenter.rdr\n",
        "!mv VnCoreNLP-1.1.1.jar vncorenlp/\n",
        "!mv vi-vocab vncorenlp/models/wordsegmenter/\n",
        "!mv wordsegmenter.rdr vncorenlp/models/wordsegmenter/"
      ],
      "metadata": {
        "colab": {
          "base_uri": "https://localhost:8080/"
        },
        "id": "P3L16VZB_Y88",
        "outputId": "a2ef92f0-d3d1-49a6-d190-7abe80233089"
      },
      "execution_count": null,
      "outputs": [
        {
          "output_type": "stream",
          "name": "stdout",
          "text": [
            "--2024-04-05 09:45:24--  https://raw.githubusercontent.com/vncorenlp/VnCoreNLP/master/VnCoreNLP-1.1.1.jar\n",
            "Resolving raw.githubusercontent.com (raw.githubusercontent.com)... 185.199.110.133, 185.199.111.133, 185.199.108.133, ...\n",
            "Connecting to raw.githubusercontent.com (raw.githubusercontent.com)|185.199.110.133|:443... connected.\n",
            "HTTP request sent, awaiting response... 200 OK\n",
            "Length: 27412575 (26M) [application/octet-stream]\n",
            "Saving to: ‘VnCoreNLP-1.1.1.jar’\n",
            "\n",
            "VnCoreNLP-1.1.1.jar 100%[===================>]  26.14M  91.2MB/s    in 0.3s    \n",
            "\n",
            "2024-04-05 09:45:25 (91.2 MB/s) - ‘VnCoreNLP-1.1.1.jar’ saved [27412575/27412575]\n",
            "\n",
            "--2024-04-05 09:45:25--  https://raw.githubusercontent.com/vncorenlp/VnCoreNLP/master/models/wordsegmenter/vi-vocab\n",
            "Resolving raw.githubusercontent.com (raw.githubusercontent.com)... 185.199.108.133, 185.199.109.133, 185.199.110.133, ...\n",
            "Connecting to raw.githubusercontent.com (raw.githubusercontent.com)|185.199.108.133|:443... connected.\n",
            "HTTP request sent, awaiting response... 200 OK\n",
            "Length: 526544 (514K) [application/octet-stream]\n",
            "Saving to: ‘vi-vocab’\n",
            "\n",
            "vi-vocab            100%[===================>] 514.20K  --.-KB/s    in 0.04s   \n",
            "\n",
            "2024-04-05 09:45:25 (13.5 MB/s) - ‘vi-vocab’ saved [526544/526544]\n",
            "\n",
            "--2024-04-05 09:45:25--  https://raw.githubusercontent.com/vncorenlp/VnCoreNLP/master/models/wordsegmenter/wordsegmenter.rdr\n",
            "Resolving raw.githubusercontent.com (raw.githubusercontent.com)... 185.199.108.133, 185.199.109.133, 185.199.110.133, ...\n",
            "Connecting to raw.githubusercontent.com (raw.githubusercontent.com)|185.199.108.133|:443... connected.\n",
            "HTTP request sent, awaiting response... 200 OK\n",
            "Length: 128508 (125K) [text/plain]\n",
            "Saving to: ‘wordsegmenter.rdr’\n",
            "\n",
            "wordsegmenter.rdr   100%[===================>] 125.50K  --.-KB/s    in 0.02s   \n",
            "\n",
            "2024-04-05 09:45:25 (5.91 MB/s) - ‘wordsegmenter.rdr’ saved [128508/128508]\n",
            "\n"
          ]
        }
      ]
    },
    {
      "cell_type": "code",
      "source": [
        "from vncorenlp import VnCoreNLP\n",
        "\n",
        "vncorenlp = VnCoreNLP(\"vncorenlp/VnCoreNLP-1.1.1.jar\", annotators=\"wseg\", max_heap_size='-Xmx500m')"
      ],
      "metadata": {
        "id": "ejrUobtI-3LR"
      },
      "execution_count": null,
      "outputs": []
    },
    {
      "cell_type": "code",
      "source": [
        "def preprocess(text, tokenized = True, lowercased = True):\n",
        "    # text = filter_stop_words(text, stopwords)\n",
        "    # text = remove_special_characters(text)\n",
        "    # text = emoji.replace_emoji(text,\"\")\n",
        "    text = text.lower() if lowercased else text\n",
        "    if tokenized:\n",
        "        pre_text = \"\"\n",
        "        sentences = vncorenlp.tokenize(text)\n",
        "        for sentence in sentences:\n",
        "            pre_text += \" \".join(sentence)\n",
        "        text = pre_text\n",
        "    return text\n",
        "\n",
        "def pre_process_features(X, y, tokenized=True, lowercased=True):\n",
        "    X_processed = [preprocess(str(p), tokenized=tokenized, lowercased=lowercased) for p in list(X)]\n",
        "    non_empty_indices = [idx for idx, ele in enumerate(X_processed) if ele]\n",
        "    X_processed = pd.Series(X_processed)[non_empty_indices].tolist()\n",
        "    y_processed = y.iloc[non_empty_indices].tolist()\n",
        "    return X_processed, y_processed"
      ],
      "metadata": {
        "id": "g-4aF7vl_80t"
      },
      "execution_count": null,
      "outputs": []
    },
    {
      "cell_type": "code",
      "source": [
        "train_X, train_y = pre_process_features(combined_train['text'], combined_train['label_id'], tokenized=True, lowercased = False)\n",
        "dev_X, dev_y = pre_process_features(combined_dev['text'], combined_dev['label_id'], tokenized=True, lowercased = False)\n",
        "test_X, test_y = pre_process_features(combined_test['text'], combined_test['label_id'], tokenized=True, lowercased = False)"
      ],
      "metadata": {
        "id": "XVX7W6IHDuRe"
      },
      "execution_count": null,
      "outputs": []
    },
    {
      "cell_type": "code",
      "source": [
        "test_X_2k7, test_y_2k7 = pre_process_features(test['text'], test['label'], tokenized=True, lowercased = False)"
      ],
      "metadata": {
        "id": "LL7rO4dgbg8G"
      },
      "execution_count": null,
      "outputs": []
    },
    {
      "cell_type": "code",
      "source": [
        "pip install transformers[torch] accelerate -U"
      ],
      "metadata": {
        "colab": {
          "base_uri": "https://localhost:8080/"
        },
        "id": "nhdcKyFOOU2e",
        "outputId": "b4582c91-92ef-42f6-b023-89633a827834"
      },
      "execution_count": null,
      "outputs": [
        {
          "output_type": "stream",
          "name": "stdout",
          "text": [
            "Requirement already satisfied: transformers[torch] in /usr/local/lib/python3.10/dist-packages (4.38.2)\n",
            "Collecting transformers[torch]\n",
            "  Downloading transformers-4.39.3-py3-none-any.whl (8.8 MB)\n",
            "\u001b[2K     \u001b[90m━━━━━━━━━━━━━━━━━━━━━━━━━━━━━━━━━━━━━━━━\u001b[0m \u001b[32m8.8/8.8 MB\u001b[0m \u001b[31m15.6 MB/s\u001b[0m eta \u001b[36m0:00:00\u001b[0m\n",
            "\u001b[?25hCollecting accelerate\n",
            "  Downloading accelerate-0.28.0-py3-none-any.whl (290 kB)\n",
            "\u001b[2K     \u001b[90m━━━━━━━━━━━━━━━━━━━━━━━━━━━━━━━━━━━━━━━━\u001b[0m \u001b[32m290.1/290.1 kB\u001b[0m \u001b[31m6.4 MB/s\u001b[0m eta \u001b[36m0:00:00\u001b[0m\n",
            "\u001b[?25hRequirement already satisfied: filelock in /usr/local/lib/python3.10/dist-packages (from transformers[torch]) (3.13.3)\n",
            "Requirement already satisfied: huggingface-hub<1.0,>=0.19.3 in /usr/local/lib/python3.10/dist-packages (from transformers[torch]) (0.20.3)\n",
            "Requirement already satisfied: numpy>=1.17 in /usr/local/lib/python3.10/dist-packages (from transformers[torch]) (1.25.2)\n",
            "Requirement already satisfied: packaging>=20.0 in /usr/local/lib/python3.10/dist-packages (from transformers[torch]) (24.0)\n",
            "Requirement already satisfied: pyyaml>=5.1 in /usr/local/lib/python3.10/dist-packages (from transformers[torch]) (6.0.1)\n",
            "Requirement already satisfied: regex!=2019.12.17 in /usr/local/lib/python3.10/dist-packages (from transformers[torch]) (2023.12.25)\n",
            "Requirement already satisfied: requests in /usr/local/lib/python3.10/dist-packages (from transformers[torch]) (2.31.0)\n",
            "Requirement already satisfied: tokenizers<0.19,>=0.14 in /usr/local/lib/python3.10/dist-packages (from transformers[torch]) (0.15.2)\n",
            "Requirement already satisfied: safetensors>=0.4.1 in /usr/local/lib/python3.10/dist-packages (from transformers[torch]) (0.4.2)\n",
            "Requirement already satisfied: tqdm>=4.27 in /usr/local/lib/python3.10/dist-packages (from transformers[torch]) (4.66.2)\n",
            "Requirement already satisfied: torch in /usr/local/lib/python3.10/dist-packages (from transformers[torch]) (2.2.1+cu121)\n",
            "Requirement already satisfied: psutil in /usr/local/lib/python3.10/dist-packages (from accelerate) (5.9.5)\n",
            "Requirement already satisfied: fsspec>=2023.5.0 in /usr/local/lib/python3.10/dist-packages (from huggingface-hub<1.0,>=0.19.3->transformers[torch]) (2023.6.0)\n",
            "Requirement already satisfied: typing-extensions>=3.7.4.3 in /usr/local/lib/python3.10/dist-packages (from huggingface-hub<1.0,>=0.19.3->transformers[torch]) (4.10.0)\n",
            "Requirement already satisfied: sympy in /usr/local/lib/python3.10/dist-packages (from torch->transformers[torch]) (1.12)\n",
            "Requirement already satisfied: networkx in /usr/local/lib/python3.10/dist-packages (from torch->transformers[torch]) (3.2.1)\n",
            "Requirement already satisfied: jinja2 in /usr/local/lib/python3.10/dist-packages (from torch->transformers[torch]) (3.1.3)\n",
            "Collecting nvidia-cuda-nvrtc-cu12==12.1.105 (from torch->transformers[torch])\n",
            "  Downloading nvidia_cuda_nvrtc_cu12-12.1.105-py3-none-manylinux1_x86_64.whl (23.7 MB)\n",
            "\u001b[2K     \u001b[90m━━━━━━━━━━━━━━━━━━━━━━━━━━━━━━━━━━━━━━━━\u001b[0m \u001b[32m23.7/23.7 MB\u001b[0m \u001b[31m24.9 MB/s\u001b[0m eta \u001b[36m0:00:00\u001b[0m\n",
            "\u001b[?25hCollecting nvidia-cuda-runtime-cu12==12.1.105 (from torch->transformers[torch])\n",
            "  Downloading nvidia_cuda_runtime_cu12-12.1.105-py3-none-manylinux1_x86_64.whl (823 kB)\n",
            "\u001b[2K     \u001b[90m━━━━━━━━━━━━━━━━━━━━━━━━━━━━━━━━━━━━━━━━\u001b[0m \u001b[32m823.6/823.6 kB\u001b[0m \u001b[31m10.9 MB/s\u001b[0m eta \u001b[36m0:00:00\u001b[0m\n",
            "\u001b[?25hCollecting nvidia-cuda-cupti-cu12==12.1.105 (from torch->transformers[torch])\n",
            "  Downloading nvidia_cuda_cupti_cu12-12.1.105-py3-none-manylinux1_x86_64.whl (14.1 MB)\n",
            "\u001b[2K     \u001b[90m━━━━━━━━━━━━━━━━━━━━━━━━━━━━━━━━━━━━━━━━\u001b[0m \u001b[32m14.1/14.1 MB\u001b[0m \u001b[31m34.0 MB/s\u001b[0m eta \u001b[36m0:00:00\u001b[0m\n",
            "\u001b[?25hCollecting nvidia-cudnn-cu12==8.9.2.26 (from torch->transformers[torch])\n",
            "  Downloading nvidia_cudnn_cu12-8.9.2.26-py3-none-manylinux1_x86_64.whl (731.7 MB)\n",
            "\u001b[2K     \u001b[90m━━━━━━━━━━━━━━━━━━━━━━━━━━━━━━━━━━━━━━━━\u001b[0m \u001b[32m731.7/731.7 MB\u001b[0m \u001b[31m2.1 MB/s\u001b[0m eta \u001b[36m0:00:00\u001b[0m\n",
            "\u001b[?25hCollecting nvidia-cublas-cu12==12.1.3.1 (from torch->transformers[torch])\n",
            "  Downloading nvidia_cublas_cu12-12.1.3.1-py3-none-manylinux1_x86_64.whl (410.6 MB)\n",
            "\u001b[2K     \u001b[90m━━━━━━━━━━━━━━━━━━━━━━━━━━━━━━━━━━━━━━━━\u001b[0m \u001b[32m410.6/410.6 MB\u001b[0m \u001b[31m3.1 MB/s\u001b[0m eta \u001b[36m0:00:00\u001b[0m\n",
            "\u001b[?25hCollecting nvidia-cufft-cu12==11.0.2.54 (from torch->transformers[torch])\n",
            "  Downloading nvidia_cufft_cu12-11.0.2.54-py3-none-manylinux1_x86_64.whl (121.6 MB)\n",
            "\u001b[2K     \u001b[90m━━━━━━━━━━━━━━━━━━━━━━━━━━━━━━━━━━━━━━━━\u001b[0m \u001b[32m121.6/121.6 MB\u001b[0m \u001b[31m6.1 MB/s\u001b[0m eta \u001b[36m0:00:00\u001b[0m\n",
            "\u001b[?25hCollecting nvidia-curand-cu12==10.3.2.106 (from torch->transformers[torch])\n",
            "  Downloading nvidia_curand_cu12-10.3.2.106-py3-none-manylinux1_x86_64.whl (56.5 MB)\n",
            "\u001b[2K     \u001b[90m━━━━━━━━━━━━━━━━━━━━━━━━━━━━━━━━━━━━━━━━\u001b[0m \u001b[32m56.5/56.5 MB\u001b[0m \u001b[31m9.0 MB/s\u001b[0m eta \u001b[36m0:00:00\u001b[0m\n",
            "\u001b[?25hCollecting nvidia-cusolver-cu12==11.4.5.107 (from torch->transformers[torch])\n",
            "  Downloading nvidia_cusolver_cu12-11.4.5.107-py3-none-manylinux1_x86_64.whl (124.2 MB)\n",
            "\u001b[2K     \u001b[90m━━━━━━━━━━━━━━━━━━━━━━━━━━━━━━━━━━━━━━━━\u001b[0m \u001b[32m124.2/124.2 MB\u001b[0m \u001b[31m2.9 MB/s\u001b[0m eta \u001b[36m0:00:00\u001b[0m\n",
            "\u001b[?25hCollecting nvidia-cusparse-cu12==12.1.0.106 (from torch->transformers[torch])\n",
            "  Downloading nvidia_cusparse_cu12-12.1.0.106-py3-none-manylinux1_x86_64.whl (196.0 MB)\n",
            "\u001b[2K     \u001b[90m━━━━━━━━━━━━━━━━━━━━━━━━━━━━━━━━━━━━━━━━\u001b[0m \u001b[32m196.0/196.0 MB\u001b[0m \u001b[31m3.3 MB/s\u001b[0m eta \u001b[36m0:00:00\u001b[0m\n",
            "\u001b[?25hCollecting nvidia-nccl-cu12==2.19.3 (from torch->transformers[torch])\n",
            "  Downloading nvidia_nccl_cu12-2.19.3-py3-none-manylinux1_x86_64.whl (166.0 MB)\n",
            "\u001b[2K     \u001b[90m━━━━━━━━━━━━━━━━━━━━━━━━━━━━━━━━━━━━━━━━\u001b[0m \u001b[32m166.0/166.0 MB\u001b[0m \u001b[31m3.1 MB/s\u001b[0m eta \u001b[36m0:00:00\u001b[0m\n",
            "\u001b[?25hCollecting nvidia-nvtx-cu12==12.1.105 (from torch->transformers[torch])\n",
            "  Downloading nvidia_nvtx_cu12-12.1.105-py3-none-manylinux1_x86_64.whl (99 kB)\n",
            "\u001b[2K     \u001b[90m━━━━━━━━━━━━━━━━━━━━━━━━━━━━━━━━━━━━━━━━\u001b[0m \u001b[32m99.1/99.1 kB\u001b[0m \u001b[31m5.4 MB/s\u001b[0m eta \u001b[36m0:00:00\u001b[0m\n",
            "\u001b[?25hRequirement already satisfied: triton==2.2.0 in /usr/local/lib/python3.10/dist-packages (from torch->transformers[torch]) (2.2.0)\n",
            "Collecting nvidia-nvjitlink-cu12 (from nvidia-cusolver-cu12==11.4.5.107->torch->transformers[torch])\n",
            "  Downloading nvidia_nvjitlink_cu12-12.4.127-py3-none-manylinux2014_x86_64.whl (21.1 MB)\n",
            "\u001b[2K     \u001b[90m━━━━━━━━━━━━━━━━━━━━━━━━━━━━━━━━━━━━━━━━\u001b[0m \u001b[32m21.1/21.1 MB\u001b[0m \u001b[31m4.5 MB/s\u001b[0m eta \u001b[36m0:00:00\u001b[0m\n",
            "\u001b[?25hRequirement already satisfied: charset-normalizer<4,>=2 in /usr/local/lib/python3.10/dist-packages (from requests->transformers[torch]) (3.3.2)\n",
            "Requirement already satisfied: idna<4,>=2.5 in /usr/local/lib/python3.10/dist-packages (from requests->transformers[torch]) (3.6)\n",
            "Requirement already satisfied: urllib3<3,>=1.21.1 in /usr/local/lib/python3.10/dist-packages (from requests->transformers[torch]) (2.0.7)\n",
            "Requirement already satisfied: certifi>=2017.4.17 in /usr/local/lib/python3.10/dist-packages (from requests->transformers[torch]) (2024.2.2)\n",
            "Requirement already satisfied: MarkupSafe>=2.0 in /usr/local/lib/python3.10/dist-packages (from jinja2->torch->transformers[torch]) (2.1.5)\n",
            "Requirement already satisfied: mpmath>=0.19 in /usr/local/lib/python3.10/dist-packages (from sympy->torch->transformers[torch]) (1.3.0)\n",
            "Installing collected packages: nvidia-nvtx-cu12, nvidia-nvjitlink-cu12, nvidia-nccl-cu12, nvidia-curand-cu12, nvidia-cufft-cu12, nvidia-cuda-runtime-cu12, nvidia-cuda-nvrtc-cu12, nvidia-cuda-cupti-cu12, nvidia-cublas-cu12, nvidia-cusparse-cu12, nvidia-cudnn-cu12, nvidia-cusolver-cu12, transformers, accelerate\n",
            "  Attempting uninstall: transformers\n",
            "    Found existing installation: transformers 4.38.2\n",
            "    Uninstalling transformers-4.38.2:\n",
            "      Successfully uninstalled transformers-4.38.2\n",
            "Successfully installed accelerate-0.28.0 nvidia-cublas-cu12-12.1.3.1 nvidia-cuda-cupti-cu12-12.1.105 nvidia-cuda-nvrtc-cu12-12.1.105 nvidia-cuda-runtime-cu12-12.1.105 nvidia-cudnn-cu12-8.9.2.26 nvidia-cufft-cu12-11.0.2.54 nvidia-curand-cu12-10.3.2.106 nvidia-cusolver-cu12-11.4.5.107 nvidia-cusparse-cu12-12.1.0.106 nvidia-nccl-cu12-2.19.3 nvidia-nvjitlink-cu12-12.4.127 nvidia-nvtx-cu12-12.1.105 transformers-4.39.3\n"
          ]
        }
      ]
    },
    {
      "cell_type": "code",
      "source": [
        "from transformers import AutoTokenizer, AutoModelForSequenceClassification, Trainer, TrainingArguments, BertTokenizer, BertForSequenceClassification"
      ],
      "metadata": {
        "id": "yXgeFvRiHGt_"
      },
      "execution_count": null,
      "outputs": []
    },
    {
      "cell_type": "code",
      "source": [
        "model = AutoModelForSequenceClassification.from_pretrained(\"vinai/phobert-base\", num_labels = 3)\n",
        "tokenizer = AutoTokenizer.from_pretrained(\"vinai/phobert-base\",use_fast=False)\n",
        "\n",
        "import torch\n",
        "\n",
        "class BuildDataset(torch.utils.data.Dataset):\n",
        "    def __init__(self, encodings, labels):\n",
        "        self.encodings = encodings\n",
        "        self.labels = labels\n",
        "\n",
        "    def __getitem__(self, idx):\n",
        "        item = {key: torch.tensor(val[idx]) for key, val in self.encodings.items()}\n",
        "        item['labels'] = torch.tensor(self.labels[idx])\n",
        "        return item\n",
        "\n",
        "    def __len__(self):\n",
        "        return len(self.labels)\n",
        "\n",
        "train_encodings = tokenizer(train_X, truncation=True, padding=True, max_length=100)\n",
        "dev_encodings = tokenizer(dev_X, truncation=True, padding=True, max_length=100)\n",
        "test_encodings = tokenizer(test_X, truncation=True, padding=True, max_length=100)\n",
        "test_2k7_encodings = tokenizer(test_X_2k7, truncation=True, padding=True, max_length=100)\n",
        "\n",
        "train_dataset = BuildDataset(train_encodings, train_y)\n",
        "dev_dataset = BuildDataset(dev_encodings, dev_y)\n",
        "test_dataset = BuildDataset(test_encodings, test_y)\n",
        "test_2k7 = BuildDataset(test_2k7_encodings, test_y_2k7)"
      ],
      "metadata": {
        "colab": {
          "base_uri": "https://localhost:8080/"
        },
        "id": "7A36e9JTG-4m",
        "outputId": "f9e41a6c-102c-46c2-c803-39bd350d7c63"
      },
      "execution_count": null,
      "outputs": [
        {
          "output_type": "stream",
          "name": "stderr",
          "text": [
            "Some weights of RobertaForSequenceClassification were not initialized from the model checkpoint at vinai/phobert-base and are newly initialized: ['classifier.dense.bias', 'classifier.dense.weight', 'classifier.out_proj.bias', 'classifier.out_proj.weight']\n",
            "You should probably TRAIN this model on a down-stream task to be able to use it for predictions and inference.\n"
          ]
        }
      ]
    },
    {
      "cell_type": "code",
      "source": [
        "training_args = TrainingArguments(\n",
        "    output_dir=DATA_PATH + \"transformer_model/phobert-v3/\",\n",
        "    num_train_epochs=2,\n",
        "    per_device_train_batch_size=16,\n",
        "    per_device_eval_batch_size=16,\n",
        "    warmup_steps=500,\n",
        "    weight_decay=0.01,\n",
        "    no_cuda=False,\n",
        "    do_eval=True\n",
        ")\n",
        "\n",
        "trainer = Trainer(\n",
        "    model=model,\n",
        "    args=training_args,\n",
        "    train_dataset=train_dataset,\n",
        "    eval_dataset=dev_dataset\n",
        ")\n",
        "\n",
        "trainer.train()\n",
        "trainer.save_model(DATA_PATH + \"/transformer_model/phobert-v3/\")\n",
        "\n",
        "# y_pred_classify = trainer.predict(test_dataset)\n",
        "\n",
        "# y_pred = np.argmax(y_pred_classify.predictions, axis=-1)\n",
        "# y_true = test_y"
      ],
      "metadata": {
        "colab": {
          "base_uri": "https://localhost:8080/",
          "height": 335
        },
        "id": "lBDKYSd8IC74",
        "outputId": "d869ac93-2a63-4f40-bf4a-69df2d5a7730"
      },
      "execution_count": null,
      "outputs": [
        {
          "output_type": "stream",
          "name": "stderr",
          "text": [
            "/usr/local/lib/python3.10/dist-packages/accelerate/accelerator.py:432: FutureWarning: Passing the following arguments to `Accelerator` is deprecated and will be removed in version 1.0 of Accelerate: dict_keys(['dispatch_batches', 'split_batches', 'even_batches', 'use_seedable_sampler']). Please pass an `accelerate.DataLoaderConfiguration` instead: \n",
            "dataloader_config = DataLoaderConfiguration(dispatch_batches=None, split_batches=False, even_batches=True, use_seedable_sampler=True)\n",
            "  warnings.warn(\n"
          ]
        },
        {
          "output_type": "display_data",
          "data": {
            "text/plain": [
              "<IPython.core.display.HTML object>"
            ],
            "text/html": [
              "\n",
              "    <div>\n",
              "      \n",
              "      <progress value='3242' max='3242' style='width:300px; height:20px; vertical-align: middle;'></progress>\n",
              "      [3242/3242 18:25, Epoch 2/2]\n",
              "    </div>\n",
              "    <table border=\"1\" class=\"dataframe\">\n",
              "  <thead>\n",
              " <tr style=\"text-align: left;\">\n",
              "      <th>Step</th>\n",
              "      <th>Training Loss</th>\n",
              "    </tr>\n",
              "  </thead>\n",
              "  <tbody>\n",
              "    <tr>\n",
              "      <td>500</td>\n",
              "      <td>0.555100</td>\n",
              "    </tr>\n",
              "    <tr>\n",
              "      <td>1000</td>\n",
              "      <td>0.434700</td>\n",
              "    </tr>\n",
              "    <tr>\n",
              "      <td>1500</td>\n",
              "      <td>0.394900</td>\n",
              "    </tr>\n",
              "    <tr>\n",
              "      <td>2000</td>\n",
              "      <td>0.326600</td>\n",
              "    </tr>\n",
              "    <tr>\n",
              "      <td>2500</td>\n",
              "      <td>0.289600</td>\n",
              "    </tr>\n",
              "    <tr>\n",
              "      <td>3000</td>\n",
              "      <td>0.283300</td>\n",
              "    </tr>\n",
              "  </tbody>\n",
              "</table><p>"
            ]
          },
          "metadata": {}
        },
        {
          "output_type": "display_data",
          "data": {
            "text/plain": [
              "<IPython.core.display.HTML object>"
            ],
            "text/html": []
          },
          "metadata": {}
        }
      ]
    },
    {
      "cell_type": "code",
      "source": [
        "model = AutoModelForSequenceClassification.from_pretrained(DATA_PATH + \"/transformer_model/phobert-v3/\")"
      ],
      "metadata": {
        "id": "pvoPzc5hhTNw"
      },
      "execution_count": null,
      "outputs": []
    },
    {
      "cell_type": "code",
      "source": [
        "training_args = TrainingArguments(\n",
        "    output_dir=DATA_PATH + \"transformer_model/phobert-v3/\",\n",
        "    num_train_epochs=2,\n",
        "    per_device_train_batch_size=16,\n",
        "    per_device_eval_batch_size=16,\n",
        "    warmup_steps=500,\n",
        "    weight_decay=0.01,\n",
        "    no_cuda=False,\n",
        "    do_eval=True\n",
        ")\n",
        "trainer = Trainer(\n",
        "    model=model,\n",
        "    args=training_args,\n",
        "    train_dataset=train_dataset,\n",
        "    eval_dataset=dev_dataset\n",
        ")\n",
        "\n",
        "# Predict on the test dataset\n",
        "y_pred_classify = trainer.predict(test_dataset)\n",
        "\n",
        "# Extract predictions\n",
        "y_pred = np.argmax(y_pred_classify.predictions, axis=-1)\n",
        "y_true = test_y"
      ],
      "metadata": {
        "colab": {
          "base_uri": "https://localhost:8080/",
          "height": 89
        },
        "id": "WQWrirXHlNFW",
        "outputId": "043abb97-136e-46b3-ee60-3a7754e052c9"
      },
      "execution_count": null,
      "outputs": [
        {
          "output_type": "stream",
          "name": "stderr",
          "text": [
            "/usr/local/lib/python3.10/dist-packages/accelerate/accelerator.py:432: FutureWarning: Passing the following arguments to `Accelerator` is deprecated and will be removed in version 1.0 of Accelerate: dict_keys(['dispatch_batches', 'split_batches', 'even_batches', 'use_seedable_sampler']). Please pass an `accelerate.DataLoaderConfiguration` instead: \n",
            "dataloader_config = DataLoaderConfiguration(dispatch_batches=None, split_batches=False, even_batches=True, use_seedable_sampler=True)\n",
            "  warnings.warn(\n"
          ]
        },
        {
          "output_type": "display_data",
          "data": {
            "text/plain": [
              "<IPython.core.display.HTML object>"
            ],
            "text/html": []
          },
          "metadata": {}
        }
      ]
    },
    {
      "cell_type": "code",
      "source": [
        "cf1 = confusion_matrix(y_true, y_pred)"
      ],
      "metadata": {
        "id": "PQaVRROyWU1U"
      },
      "execution_count": null,
      "outputs": []
    },
    {
      "cell_type": "code",
      "source": [
        "f1_scores_per_class = f1_score(y_true, y_pred, average=None)\n",
        "\n",
        "# In F1 score cho mỗi class\n",
        "for i, score in enumerate(f1_scores_per_class):\n",
        "    print(f\"F1 Score for class {i}: {score}\")"
      ],
      "metadata": {
        "colab": {
          "base_uri": "https://localhost:8080/"
        },
        "id": "SIT4vKdR8Zb0",
        "outputId": "628cfc8a-2088-48db-bd7c-e805c776a8cc"
      },
      "execution_count": null,
      "outputs": [
        {
          "output_type": "stream",
          "name": "stdout",
          "text": [
            "F1 Score for class 0: 0.9408668476025989\n",
            "F1 Score for class 1: 0.43394199785177234\n",
            "F1 Score for class 2: 0.5792592592592593\n"
          ]
        }
      ]
    },
    {
      "cell_type": "code",
      "source": [
        "accuracy_score(y_true,y_pred)"
      ],
      "metadata": {
        "colab": {
          "base_uri": "https://localhost:8080/"
        },
        "id": "atHFK9aaWlws",
        "outputId": "6d366c07-2778-49b8-8a9e-d2c3d8eba113"
      },
      "execution_count": null,
      "outputs": [
        {
          "output_type": "execute_result",
          "data": {
            "text/plain": [
              "0.874376731301939"
            ]
          },
          "metadata": {},
          "execution_count": 74
        }
      ]
    },
    {
      "cell_type": "code",
      "source": [
        "f1_score(y_true, y_pred, average='micro')"
      ],
      "metadata": {
        "colab": {
          "base_uri": "https://localhost:8080/"
        },
        "id": "PMDQOssZWY0S",
        "outputId": "ac59707b-9d77-43a3-9ce2-a3411f47485a"
      },
      "execution_count": null,
      "outputs": [
        {
          "output_type": "execute_result",
          "data": {
            "text/plain": [
              "0.874376731301939"
            ]
          },
          "metadata": {},
          "execution_count": 66
        }
      ]
    },
    {
      "cell_type": "code",
      "source": [
        "f1_score(y_true, y_pred, average='macro')"
      ],
      "metadata": {
        "colab": {
          "base_uri": "https://localhost:8080/"
        },
        "id": "MW2K2hHvWc0i",
        "outputId": "b4e54522-1d84-49be-a851-56a538be3ce3"
      },
      "execution_count": null,
      "outputs": [
        {
          "output_type": "execute_result",
          "data": {
            "text/plain": [
              "0.6513560349045435"
            ]
          },
          "metadata": {},
          "execution_count": 67
        }
      ]
    },
    {
      "cell_type": "code",
      "source": [
        "df_cm1 = pd.DataFrame(cf1, index = [\"normal\",\"hate\",\"harassment\"],\n",
        "                  columns = [\"normal\",\"hate\",\"harassment\"])\n",
        "plt.clf()\n",
        "sn.heatmap(df_cm1, annot=True, cmap=\"Greys\",fmt='g', cbar=True, annot_kws={\"size\": 30})"
      ],
      "metadata": {
        "colab": {
          "base_uri": "https://localhost:8080/",
          "height": 447
        },
        "id": "8mymdaU2Whei",
        "outputId": "deaec4ce-b4ab-4bb8-fb89-3d1dbb5b396d"
      },
      "execution_count": null,
      "outputs": [
        {
          "output_type": "execute_result",
          "data": {
            "text/plain": [
              "<Axes: >"
            ]
          },
          "metadata": {},
          "execution_count": 75
        },
        {
          "output_type": "display_data",
          "data": {
            "text/plain": [
              "<Figure size 640x480 with 2 Axes>"
            ],
            "image/png": "[encoded data removed]"
          },
          "metadata": {}
        }
      ]
    },
    {
      "cell_type": "code",
      "source": [
        "prediction_2k7 = trainer.predict(test_2k7)\n",
        "y_pred_2k7 = np.argmax(prediction_2k7.predictions, axis=-1)\n",
        "\n",
        "cf2k7 = confusion_matrix(test_y_2k7, y_pred_2k7)"
      ],
      "metadata": {
        "colab": {
          "base_uri": "https://localhost:8080/",
          "height": 17
        },
        "id": "bYtt4DeIaCel",
        "outputId": "98f52e62-9716-40f5-e576-afac6de6212c"
      },
      "execution_count": null,
      "outputs": [
        {
          "output_type": "display_data",
          "data": {
            "text/plain": [
              "<IPython.core.display.HTML object>"
            ],
            "text/html": []
          },
          "metadata": {}
        }
      ]
    },
    {
      "cell_type": "code",
      "source": [
        "accuracy_score(test_y_2k7, y_pred_2k7)"
      ],
      "metadata": {
        "colab": {
          "base_uri": "https://localhost:8080/"
        },
        "id": "o4mfqEqidbUx",
        "outputId": "82174996-0692-46a0-a1b4-69fbf5a2d6a5"
      },
      "execution_count": null,
      "outputs": [
        {
          "output_type": "execute_result",
          "data": {
            "text/plain": [
              "0.8648148148148148"
            ]
          },
          "metadata": {},
          "execution_count": 70
        }
      ]
    },
    {
      "cell_type": "code",
      "source": [
        "f1_score(test_y_2k7, y_pred_2k7, average='macro')"
      ],
      "metadata": {
        "colab": {
          "base_uri": "https://localhost:8080/"
        },
        "id": "CEbOCbg1dh2g",
        "outputId": "e1cf955b-ed1d-4ff8-c873-166b4d8860cb"
      },
      "execution_count": null,
      "outputs": [
        {
          "output_type": "execute_result",
          "data": {
            "text/plain": [
              "0.6791154424281035"
            ]
          },
          "metadata": {},
          "execution_count": 71
        }
      ]
    },
    {
      "cell_type": "code",
      "source": [
        "df_cm2k7 = pd.DataFrame(cf2k7, index = [\"normal\",\"hate\",\"harassment\"],\n",
        "                  columns = [\"normal\",\"hate\",\"harassment\"])\n",
        "plt.clf()\n",
        "sn.heatmap(df_cm2k7, annot=True, cmap=\"Greys\",fmt='g', cbar=True, annot_kws={\"size\": 30})"
      ],
      "metadata": {
        "id": "5FZXm2YXdms9",
        "outputId": "7c36f010-ccda-4c72-c400-519f3c91c26b",
        "colab": {
          "base_uri": "https://localhost:8080/",
          "height": 450
        }
      },
      "execution_count": null,
      "outputs": [
        {
          "output_type": "execute_result",
          "data": {
            "text/plain": [
              "<Axes: >"
            ]
          },
          "metadata": {},
          "execution_count": 72
        },
        {
          "output_type": "display_data",
          "data": {
            "text/plain": [
              "<Figure size 640x480 with 2 Axes>"
            ],
            "image/png": "[encoded data removed]"
          },
          "metadata": {}
        }
      ]
    },
    {
      "cell_type": "code",
      "source": [
        "misclassified_indices = np.where((np.array(y_true) != 0) & (y_pred == 0))[0]"
      ],
      "metadata": {
        "id": "KtBaiJHGcA9t"
      },
      "execution_count": null,
      "outputs": []
    },
    {
      "cell_type": "code",
      "source": [
        "len(misclassified_indices)"
      ],
      "metadata": {
        "colab": {
          "base_uri": "https://localhost:8080/"
        },
        "id": "btgK0JcgcDix",
        "outputId": "214c01f5-80d1-4d96-f042-029dd30a28ad"
      },
      "execution_count": null,
      "outputs": [
        {
          "output_type": "execute_result",
          "data": {
            "text/plain": [
              "474"
            ]
          },
          "metadata": {},
          "execution_count": 26
        }
      ]
    },
    {
      "cell_type": "code",
      "source": [
        "combined_test.iloc[misclassified_indices].head(20)"
      ],
      "metadata": {
        "colab": {
          "base_uri": "https://localhost:8080/",
          "height": 676
        },
        "id": "vErSTD-_cXp1",
        "outputId": "86f146ea-9201-4a09-cb60-acc9d36a9003"
      },
      "execution_count": null,
      "outputs": [
        {
          "output_type": "execute_result",
          "data": {
            "text/plain": [
              "                                                  text  label_id\n",
              "0    từ dịch này thấy ý thức người nhật xăng đổ nửa...         2\n",
              "14                 K có nghìn nào giúp dân thì nín đi!         2\n",
              "16    Yenie Cao riết mặp như heo r mà cho ăn quài 😭😭😭😭         2\n",
              "18                Nguyễn Đức Ánh khôn hơn cả họ nhà m.         2\n",
              "21                        Tây nó lại bảo mới trốn viện         1\n",
              "25                            Trùm cuối cmn hú vía :))         1\n",
              "82   Súc vật từ nhan sắc đến nhân cách súc phạm loà...         2\n",
              "111                                  Xem bực mình thêm         1\n",
              "121  Cuốn dell nhặt đc mồm, toàn danh hài đất Việt :))         1\n",
              "138          Chỗ này đit phải chỗ gạ địt nhé hahhahah.         1\n",
              "166  Phải,VN vô số tham nhũng,lại vụ nữa đây,sắp đạ...         1\n",
              "192  Bất hạnh nhất cuộc đời là ra trường rồi mà bạn...         1\n",
              "208  bị tâm thần vẫn có thể có học vị TS nh...         2\n",
              "214  A đừng có giống chị Tịp đấy nhé, thông báo các...         2\n",
              "263                                           loạn cực         1\n",
              "269                                   thầy chơi bẩn vl         2\n",
              "284                            Bú l ngọc Trinh sẽ tinh         2\n",
              "290  Mua sắt vụn về làm phương tiện chiến đấu! Đắng...         1\n",
              "299  Tao gõ chớt mẹ mày chứ ở đó mà múa . Abe said :))         2\n",
              "302  có tiền cứ làm,chỉ có bọn không có tiền làm mớ...         2"
            ],
            "text/html": [
              "\n",
              "  <div id=\"df-04e9cc3c-fdb5-45bd-bfa5-764bfb377289\" class=\"colab-df-container\">\n",
              "    <div>\n",
              "<style scoped>\n",
              "    .dataframe tbody tr th:only-of-type {\n",
              "        vertical-align: middle;\n",
              "    }\n",
              "\n",
              "    .dataframe tbody tr th {\n",
              "        vertical-align: top;\n",
              "    }\n",
              "\n",
              "    .dataframe thead th {\n",
              "        text-align: right;\n",
              "    }\n",
              "</style>\n",
              "<table border=\"1\" class=\"dataframe\">\n",
              "  <thead>\n",
              "    <tr style=\"text-align: right;\">\n",
              "      <th></th>\n",
              "      <th>text</th>\n",
              "      <th>label_id</th>\n",
              "    </tr>\n",
              "  </thead>\n",
              "  <tbody>\n",
              "    <tr>\n",
              "      <th>0</th>\n",
              "      <td>từ dịch này thấy ý thức người nhật xăng đổ nửa...</td>\n",
              "      <td>2</td>\n",
              "    </tr>\n",
              "    <tr>\n",
              "      <th>14</th>\n",
              "      <td>K có nghìn nào giúp dân thì nín đi!</td>\n",
              "      <td>2</td>\n",
              "    </tr>\n",
              "    <tr>\n",
              "      <th>16</th>\n",
              "      <td>Yenie Cao riết mặp như heo r mà cho ăn quài 😭😭😭😭</td>\n",
              "      <td>2</td>\n",
              "    </tr>\n",
              "    <tr>\n",
              "      <th>18</th>\n",
              "      <td>Nguyễn Đức Ánh khôn hơn cả họ nhà m.</td>\n",
              "      <td>2</td>\n",
              "    </tr>\n",
              "    <tr>\n",
              "      <th>21</th>\n",
              "      <td>Tây nó lại bảo mới trốn viện</td>\n",
              "      <td>1</td>\n",
              "    </tr>\n",
              "    <tr>\n",
              "      <th>25</th>\n",
              "      <td>Trùm cuối cmn hú vía :))</td>\n",
              "      <td>1</td>\n",
              "    </tr>\n",
              "    <tr>\n",
              "      <th>82</th>\n",
              "      <td>Súc vật từ nhan sắc đến nhân cách súc phạm loà...</td>\n",
              "      <td>2</td>\n",
              "    </tr>\n",
              "    <tr>\n",
              "      <th>111</th>\n",
              "      <td>Xem bực mình thêm</td>\n",
              "      <td>1</td>\n",
              "    </tr>\n",
              "    <tr>\n",
              "      <th>121</th>\n",
              "      <td>Cuốn dell nhặt đc mồm, toàn danh hài đất Việt :))</td>\n",
              "      <td>1</td>\n",
              "    </tr>\n",
              "    <tr>\n",
              "      <th>138</th>\n",
              "      <td>Chỗ này đit phải chỗ gạ địt nhé hahhahah.</td>\n",
              "      <td>1</td>\n",
              "    </tr>\n",
              "    <tr>\n",
              "      <th>166</th>\n",
              "      <td>Phải,VN vô số tham nhũng,lại vụ nữa đây,sắp đạ...</td>\n",
              "      <td>1</td>\n",
              "    </tr>\n",
              "    <tr>\n",
              "      <th>192</th>\n",
              "      <td>Bất hạnh nhất cuộc đời là ra trường rồi mà bạn...</td>\n",
              "      <td>1</td>\n",
              "    </tr>\n",
              "    <tr>\n",
              "      <th>208</th>\n",
              "      <td>bị tâm thần vẫn có thể có học vị TS nh...</td>\n",
              "      <td>2</td>\n",
              "    </tr>\n",
              "    <tr>\n",
              "      <th>214</th>\n",
              "      <td>A đừng có giống chị Tịp đấy nhé, thông báo các...</td>\n",
              "      <td>2</td>\n",
              "    </tr>\n",
              "    <tr>\n",
              "      <th>263</th>\n",
              "      <td>loạn cực</td>\n",
              "      <td>1</td>\n",
              "    </tr>\n",
              "    <tr>\n",
              "      <th>269</th>\n",
              "      <td>thầy chơi bẩn vl</td>\n",
              "      <td>2</td>\n",
              "    </tr>\n",
              "    <tr>\n",
              "      <th>284</th>\n",
              "      <td>Bú l ngọc Trinh sẽ tinh</td>\n",
              "      <td>2</td>\n",
              "    </tr>\n",
              "    <tr>\n",
              "      <th>290</th>\n",
              "      <td>Mua sắt vụn về làm phương tiện chiến đấu! Đắng...</td>\n",
              "      <td>1</td>\n",
              "    </tr>\n",
              "    <tr>\n",
              "      <th>299</th>\n",
              "      <td>Tao gõ chớt mẹ mày chứ ở đó mà múa . Abe said :))</td>\n",
              "      <td>2</td>\n",
              "    </tr>\n",
              "    <tr>\n",
              "      <th>302</th>\n",
              "      <td>có tiền cứ làm,chỉ có bọn không có tiền làm mớ...</td>\n",
              "      <td>2</td>\n",
              "    </tr>\n",
              "  </tbody>\n",
              "</table>\n",
              "</div>\n",
              "    <div class=\"colab-df-buttons\">\n",
              "\n",
              "  <div class=\"colab-df-container\">\n",
              "    <button class=\"colab-df-convert\" onclick=\"convertToInteractive('df-04e9cc3c-fdb5-45bd-bfa5-764bfb377289')\"\n",
              "            title=\"Convert this dataframe to an interactive table.\"\n",
              "            style=\"display:none;\">\n",
              "\n",
              "  <svg xmlns=\"http://www.w3.org/2000/svg\" height=\"24px\" viewBox=\"0 -960 960 960\">\n",
              "    <path d=\"M120-120v-720h720v720H120Zm60-500h600v-160H180v160Zm220 220h160v-160H400v160Zm0 220h160v-160H400v160ZM180-400h160v-160H180v160Zm440 0h160v-160H620v160ZM180-180h160v-160H180v160Zm440 0h160v-160H620v160Z\"/>\n",
              "  </svg>\n",
              "    </button>\n",
              "\n",
              "  <style>\n",
              "    .colab-df-container {\n",
              "      display:flex;\n",
              "      gap: 12px;\n",
              "    }\n",
              "\n",
              "    .colab-df-convert {\n",
              "      background-color: #E8F0FE;\n",
              "      border: none;\n",
              "      border-radius: 50%;\n",
              "      cursor: pointer;\n",
              "      display: none;\n",
              "      fill: #1967D2;\n",
              "      height: 32px;\n",
              "      padding: 0 0 0 0;\n",
              "      width: 32px;\n",
              "    }\n",
              "\n",
              "    .colab-df-convert:hover {\n",
              "      background-color: #E2EBFA;\n",
              "      box-shadow: 0px 1px 2px rgba(60, 64, 67, 0.3), 0px 1px 3px 1px rgba(60, 64, 67, 0.15);\n",
              "      fill: #174EA6;\n",
              "    }\n",
              "\n",
              "    .colab-df-buttons div {\n",
              "      margin-bottom: 4px;\n",
              "    }\n",
              "\n",
              "    [theme=dark] .colab-df-convert {\n",
              "      background-color: #3B4455;\n",
              "      fill: #D2E3FC;\n",
              "    }\n",
              "\n",
              "    [theme=dark] .colab-df-convert:hover {\n",
              "      background-color: #434B5C;\n",
              "      box-shadow: 0px 1px 3px 1px rgba(0, 0, 0, 0.15);\n",
              "      filter: drop-shadow(0px 1px 2px rgba(0, 0, 0, 0.3));\n",
              "      fill: #FFFFFF;\n",
              "    }\n",
              "  </style>\n",
              "\n",
              "    <script>\n",
              "      const buttonEl =\n",
              "        document.querySelector('#df-04e9cc3c-fdb5-45bd-bfa5-764bfb377289 button.colab-df-convert');\n",
              "      buttonEl.style.display =\n",
              "        google.colab.kernel.accessAllowed ? 'block' : 'none';\n",
              "\n",
              "      async function convertToInteractive(key) {\n",
              "        const element = document.querySelector('#df-04e9cc3c-fdb5-45bd-bfa5-764bfb377289');\n",
              "        const dataTable =\n",
              "          await google.colab.kernel.invokeFunction('convertToInteractive',\n",
              "                                                    [key], {});\n",
              "        if (!dataTable) return;\n",
              "\n",
              "        const docLinkHtml = 'Like what you see? Visit the ' +\n",
              "          '<a target=\"_blank\" href=https://colab.research.google.com/notebooks/data_table.ipynb>data table notebook</a>'\n",
              "          + ' to learn more about interactive tables.';\n",
              "        element.innerHTML = '';\n",
              "        dataTable['output_type'] = 'display_data';\n",
              "        await google.colab.output.renderOutput(dataTable, element);\n",
              "        const docLink = document.createElement('div');\n",
              "        docLink.innerHTML = docLinkHtml;\n",
              "        element.appendChild(docLink);\n",
              "      }\n",
              "    </script>\n",
              "  </div>\n",
              "\n",
              "\n",
              "<div id=\"df-7918245a-2def-49b0-b5b7-675059633406\">\n",
              "  <button class=\"colab-df-quickchart\" onclick=\"quickchart('df-7918245a-2def-49b0-b5b7-675059633406')\"\n",
              "            title=\"Suggest charts\"\n",
              "            style=\"display:none;\">\n",
              "\n",
              "<svg xmlns=\"http://www.w3.org/2000/svg\" height=\"24px\"viewBox=\"0 0 24 24\"\n",
              "     width=\"24px\">\n",
              "    <g>\n",
              "        <path d=\"M19 3H5c-1.1 0-2 .9-2 2v14c0 1.1.9 2 2 2h14c1.1 0 2-.9 2-2V5c0-1.1-.9-2-2-2zM9 17H7v-7h2v7zm4 0h-2V7h2v10zm4 0h-2v-4h2v4z\"/>\n",
              "    </g>\n",
              "</svg>\n",
              "  </button>\n",
              "\n",
              "<style>\n",
              "  .colab-df-quickchart {\n",
              "      --bg-color: #E8F0FE;\n",
              "      --fill-color: #1967D2;\n",
              "      --hover-bg-color: #E2EBFA;\n",
              "      --hover-fill-color: #174EA6;\n",
              "      --disabled-fill-color: #AAA;\n",
              "      --disabled-bg-color: #DDD;\n",
              "  }\n",
              "\n",
              "  [theme=dark] .colab-df-quickchart {\n",
              "      --bg-color: #3B4455;\n",
              "      --fill-color: #D2E3FC;\n",
              "      --hover-bg-color: #434B5C;\n",
              "      --hover-fill-color: #FFFFFF;\n",
              "      --disabled-bg-color: #3B4455;\n",
              "      --disabled-fill-color: #666;\n",
              "  }\n",
              "\n",
              "  .colab-df-quickchart {\n",
              "    background-color: var(--bg-color);\n",
              "    border: none;\n",
              "    border-radius: 50%;\n",
              "    cursor: pointer;\n",
              "    display: none;\n",
              "    fill: var(--fill-color);\n",
              "    height: 32px;\n",
              "    padding: 0;\n",
              "    width: 32px;\n",
              "  }\n",
              "\n",
              "  .colab-df-quickchart:hover {\n",
              "    background-color: var(--hover-bg-color);\n",
              "    box-shadow: 0 1px 2px rgba(60, 64, 67, 0.3), 0 1px 3px 1px rgba(60, 64, 67, 0.15);\n",
              "    fill: var(--button-hover-fill-color);\n",
              "  }\n",
              "\n",
              "  .colab-df-quickchart-complete:disabled,\n",
              "  .colab-df-quickchart-complete:disabled:hover {\n",
              "    background-color: var(--disabled-bg-color);\n",
              "    fill: var(--disabled-fill-color);\n",
              "    box-shadow: none;\n",
              "  }\n",
              "\n",
              "  .colab-df-spinner {\n",
              "    border: 2px solid var(--fill-color);\n",
              "    border-color: transparent;\n",
              "    border-bottom-color: var(--fill-color);\n",
              "    animation:\n",
              "      spin 1s steps(1) infinite;\n",
              "  }\n",
              "\n",
              "  @keyframes spin {\n",
              "    0% {\n",
              "      border-color: transparent;\n",
              "      border-bottom-color: var(--fill-color);\n",
              "      border-left-color: var(--fill-color);\n",
              "    }\n",
              "    20% {\n",
              "      border-color: transparent;\n",
              "      border-left-color: var(--fill-color);\n",
              "      border-top-color: var(--fill-color);\n",
              "    }\n",
              "    30% {\n",
              "      border-color: transparent;\n",
              "      border-left-color: var(--fill-color);\n",
              "      border-top-color: var(--fill-color);\n",
              "      border-right-color: var(--fill-color);\n",
              "    }\n",
              "    40% {\n",
              "      border-color: transparent;\n",
              "      border-right-color: var(--fill-color);\n",
              "      border-top-color: var(--fill-color);\n",
              "    }\n",
              "    60% {\n",
              "      border-color: transparent;\n",
              "      border-right-color: var(--fill-color);\n",
              "    }\n",
              "    80% {\n",
              "      border-color: transparent;\n",
              "      border-right-color: var(--fill-color);\n",
              "      border-bottom-color: var(--fill-color);\n",
              "    }\n",
              "    90% {\n",
              "      border-color: transparent;\n",
              "      border-bottom-color: var(--fill-color);\n",
              "    }\n",
              "  }\n",
              "</style>\n",
              "\n",
              "  <script>\n",
              "    async function quickchart(key) {\n",
              "      const quickchartButtonEl =\n",
              "        document.querySelector('#' + key + ' button');\n",
              "      quickchartButtonEl.disabled = true;  // To prevent multiple clicks.\n",
              "      quickchartButtonEl.classList.add('colab-df-spinner');\n",
              "      try {\n",
              "        const charts = await google.colab.kernel.invokeFunction(\n",
              "            'suggestCharts', [key], {});\n",
              "      } catch (error) {\n",
              "        console.error('Error during call to suggestCharts:', error);\n",
              "      }\n",
              "      quickchartButtonEl.classList.remove('colab-df-spinner');\n",
              "      quickchartButtonEl.classList.add('colab-df-quickchart-complete');\n",
              "    }\n",
              "    (() => {\n",
              "      let quickchartButtonEl =\n",
              "        document.querySelector('#df-7918245a-2def-49b0-b5b7-675059633406 button');\n",
              "      quickchartButtonEl.style.display =\n",
              "        google.colab.kernel.accessAllowed ? 'block' : 'none';\n",
              "    })();\n",
              "  </script>\n",
              "</div>\n",
              "\n",
              "    </div>\n",
              "  </div>\n"
            ],
            "application/vnd.google.colaboratory.intrinsic+json": {
              "type": "dataframe",
              "summary": "{\n  \"name\": \"combined_test\",\n  \"rows\": 20,\n  \"fields\": [\n    {\n      \"column\": \"text\",\n      \"properties\": {\n        \"dtype\": \"string\",\n        \"num_unique_values\": 20,\n        \"samples\": [\n          \"t\\u1eeb d\\u1ecbch n\\u00e0y th\\u1ea5y \\u00fd th\\u1ee9c ng\\u01b0\\u1eddi nh\\u1eadt x\\u0103ng \\u0111\\u1ed5 n\\u1eeda b\\u00ecnh, nh\\u01b0ng gi\\u1ea5y v\\u1ec7 sinh kh\\u00f4ng th\\u1ec3 thi\\u1ebfu. kh\\u00f4ng hy sinh b\\u1ea3n th\\u00e2n \\u0111\\u1ec3 c\\u1ee9u ng\\u01b0\\u1eddi kh\\u00e1c, nh\\u01b0ng d\\u00ednh d\\u1ecbch th\\u00ec k\\u00e9o nhi\\u1ec1u ng\\u01b0\\u1eddi d\\u00ednh theo.\",\n          \"Mua s\\u1eaft v\\u1ee5n v\\u1ec1 l\\u00e0m ph\\u01b0\\u01a1ng ti\\u1ec7n chi\\u1ebfn \\u0111\\u1ea5u! \\u0110\\u1eafng l\\u00f2ng\",\n          \"th\\u1ea7y ch\\u01a1i b\\u1ea9n vl\"\n        ],\n        \"semantic_type\": \"\",\n        \"description\": \"\"\n      }\n    },\n    {\n      \"column\": \"label_id\",\n      \"properties\": {\n        \"dtype\": \"number\",\n        \"std\": 0,\n        \"min\": 1,\n        \"max\": 2,\n        \"num_unique_values\": 2,\n        \"samples\": [\n          1,\n          2\n        ],\n        \"semantic_type\": \"\",\n        \"description\": \"\"\n      }\n    }\n  ]\n}"
            }
          },
          "metadata": {},
          "execution_count": 28
        }
      ]
    },
    {
      "cell_type": "code",
      "source": [
        "misclassified_indices = np.where((np.array(test_y_2k7) ==1) & (y_pred_2k7 == 2))[0]"
      ],
      "metadata": {
        "id": "kb-pbzzYyMPQ"
      },
      "execution_count": null,
      "outputs": []
    },
    {
      "cell_type": "code",
      "source": [
        "len(misclassified_indices)"
      ],
      "metadata": {
        "colab": {
          "base_uri": "https://localhost:8080/"
        },
        "id": "_G4FYOb4yban",
        "outputId": "17c1165e-c163-456b-ddde-99c96a7bd20a"
      },
      "execution_count": null,
      "outputs": [
        {
          "output_type": "execute_result",
          "data": {
            "text/plain": [
              "32"
            ]
          },
          "metadata": {},
          "execution_count": 36
        }
      ]
    },
    {
      "cell_type": "code",
      "source": [
        "pd.set_option('max_colwidth', 800)"
      ],
      "metadata": {
        "id": "3ZhyzTFF0L9n"
      },
      "execution_count": null,
      "outputs": []
    },
    {
      "cell_type": "code",
      "source": [
        "test.iloc[misclassified_indices]"
      ],
      "metadata": {
        "colab": {
          "base_uri": "https://localhost:8080/",
          "height": 1000
        },
        "id": "3aFEImRDy41P",
        "outputId": "78983cbc-f234-444c-a423-c30507c40fed"
      },
      "execution_count": null,
      "outputs": [
        {
          "output_type": "execute_result",
          "data": {
            "text/plain": [
              "                                                                                                                                                                                                                                                                                   text  label\n",
              "1162                                                                                                                                                                                                         Phạm Thái Hoàng Long ồ loại m đ cãi dc là lại địt mẹ mày à, loạn luân vcl       1\n",
              "161                                                                                                                                                                                                                                          Joseph Tuấn Anh T mà ăn hiếp m à thằng lồn      1\n",
              "1507                                                                                                                                                                                                            Anh Duy lại chó nữa🐶\\nCái dm chó cắn chó ăn cứt đi đừng có đi cắn người      1\n",
              "1920                                                                                                                                                                                                                       Khanh Pham Van mày đi hỏi nó đi! Đm ngu lồn tỏ vẻ hiểu biết.      1\n",
              "1395                                                                                                                                                                                                                         Má sử cho đẹp con đĩ đó nha má nghe nó ns mà tức thiệt chứ      1\n",
              "1211                                                                                                                                                                                                                               Hiền Hén thông cảm cho con mụ điên đấy tý đi chị êii      1\n",
              "2106                                                                                                                Tui xin hỏi tụi con gái thử mày bị đánh trc mặt biết bao người v có biết nhục ko may cho mày là kiếm đc thằng ck bt nhịn mày gặp máy đứa khác đánh cho mày tung lôl      1\n",
              "2229                                                                                                                                    Dcm may thang lon chung may ngu vay. Bon cho cong an ko đánh nhung no goi nguòi khac toi đánh. Chúng may song ma éo biet gi chet het đi bon ngu      1\n",
              "2161  Hùng Sơn thằng đéo bò chữa hoang này.mày biết tao vùng nào không mà vào sủa  vậy? Dòng họ tao điều có 1 số người làm việc và theo 2 chế độ.tôn giáo cũng có thiên chúa nghen thằng đầu bò.nhưng khi hòa bình 2 phía vẫn nhìn nhau và giúp đỡ lẫn nhau      1\n",
              "567                                           Hồng Thơm  hết chia sẻ rồi lại bình luận xàm lồn để lzi để chúng nó thấy rồi cười vào mặt cho à bớt bớt đi địt mẹ k có tiền ms buồn đi buồn vì 3 cái thằng vác buồi đi khắp thế gian lm lồn gì ns mãi vẫn thế đm ngu nó ít thôi cho t nhờ      1\n",
              "602                                                                                                                                                                                                        Hồ như dit tổ mày.rôi gia đinh may cug vay thoi.đeo co ti tinh nguoi.con cho      1\n",
              "2438                                                                                                                                                                                                                    2 th kia là 2 th sạo lồn , chỉ có tui là muốn bên bạn thật lòng      1\n",
              "1583                                                                                                                                                                                                            Bong Ma cái lồn mẹ mày thằng óc chó. Không cần là bác sĩ mới biết được.      1\n",
              "830                                                                                                                                                                                                                                Nguyen Cherry nao may co oc kg ? Ngu con noi Nhieu !      1\n",
              "2402                                                                                                                                                                                                                           Ngọc Ánh Bb như cc ck tôi rồi riêng cha này k nhường nhé      1\n",
              "769                                                                                                                                                                                                             Loại con gái như con này có chó nó mới ưng , xấu mà còn đóng vai ác nửa      1\n",
              "166                                                                                                          huyhy nguyễn thôi bạn ơi. Đừng có lên mạng xl về trải sự đời với thất bại và thành công với người khác.\\nKhông lại thành người hay nói đạo lý thì thường sống như l*n đấy.      1\n",
              "739                                                                                                                                      Nguyen Kenny .bắc kỳ chó. Bắc kỳ chúng mày đi theo CS. Nghèo nàn lạc hậu đói khổ chết mẹ. Đi ăn cướp miền nam rồi xạo lồn nói là đi giải phóng      1\n",
              "531                                                                                                                                                                                                       Yêu cc ty xạo lol \\nXấu ai theo \\nNghèo ai ngó \\nĐang iu cái lol ty bãi rác 🙂      1\n",
              "485                                                                                                                                                                                           Tou Prong Sép khá bảnh là bố của mày hả, cái địt cụ thằng óc chó này, cho mày ăn bả bây h      1\n",
              "1173                                                                                                                                      Nghiên Ngan ....mấy thằng bình luận ngu vl. Nó hỏi thích xoạc con gái ở đâu. Cứ trả lời lung tung. Thích xoạc ngã ba chứ chả lẽ xoạc sau lưng      1\n",
              "2148                                                      Đắng Cay Cuộc Đời bạn ns thế chịu bạn gặp trực tiếp ngta mà lm vc ngu cứ tỏ ra khôn lz. Ai ns nợ xấu ko vay đc bạn ko quen biết ai trong ngân hàng vào vay ai chả ko hỗ trợ. Quan hệ ko có, có những ng quan hệ tốt họ lo đc       1\n",
              "2699                                                                                                                                                                                               Trọng's Oppa's bố trẻ m còn dzai hơn th bố ông nội nhà m địt mẹ th quê , CÂM và CÚT       1\n",
              "988                                                                                                                   Hà S Ùng dm tau thấy hay mà.mày làm dk như vậy ko.mấy cái thể loại bà 62 tuổi lái phi công .hay thầy giáo hiếp hs.hotgirl lộ clip sao bọn mày ko bảo chất độc đi.      1\n",
              "1537                                                                                                                                                                                                                                  Dm~~ đồ ranh con dám hun ng thg của ta huhu 😭😂😂😂😍      1\n",
              "2255                                                                                                                                                                                                                                   con đĩ trung đứng píc pót :))) con meo đang nhảy      1\n",
              "975                                                                                                                                                                                                             Bong Ma cái lồn mẹ mày thằng óc chó. Không cần là bác sĩ mới biết được.      1\n",
              "632                                                                                                                                                 Đỡ hơn mấy ông chơi cứ văng tục, chửi người ta ngu này nọ, đằng này FL nháy đèn khịa đối thủ làm tăng độ hấp dẫn cho game thôi :))       1\n",
              "2540                                                                                                                                         Lủ trẻ trâu bây bớt sủa đi thằng Kẻ Gác Bình Minh nó nói đúng ròi .nhìn như lủ điên dm lủ trẩu con zô ẳng hả sủa như đúng rồi đúng não chó      1\n",
              "1119                                                                                                                                                                                                                        Tù đầu buồi. Nói như mày thanh niên việt nam đi tù gần hết.      1\n",
              "1755                                                                                                                                                                                            Bọn chó này nếu vào tay tôi thì tôi tử hình hết ko để một kẻ nào để hại Dân việt nam cả      1\n",
              "2309                                                                                                                                                                                                                      ngu vl.m cóc J t cóc Q cơ.xem m danh gì.ngu còn tỏ ra ngu hẳn      1"
            ],
            "text/html": [
              "\n",
              "  <div id=\"df-7c3eda97-ba9f-4cf8-a3a1-f42cc63b333e\" class=\"colab-df-container\">\n",
              "    <div>\n",
              "<style scoped>\n",
              "    .dataframe tbody tr th:only-of-type {\n",
              "        vertical-align: middle;\n",
              "    }\n",
              "\n",
              "    .dataframe tbody tr th {\n",
              "        vertical-align: top;\n",
              "    }\n",
              "\n",
              "    .dataframe thead th {\n",
              "        text-align: right;\n",
              "    }\n",
              "</style>\n",
              "<table border=\"1\" class=\"dataframe\">\n",
              "  <thead>\n",
              "    <tr style=\"text-align: right;\">\n",
              "      <th></th>\n",
              "      <th>text</th>\n",
              "      <th>label</th>\n",
              "    </tr>\n",
              "  </thead>\n",
              "  <tbody>\n",
              "    <tr>\n",
              "      <th>1162</th>\n",
              "      <td>Phạm Thái Hoàng Long ồ loại m đ cãi dc là lại địt mẹ mày à, loạn luân vcl</td>\n",
              "      <td>1</td>\n",
              "    </tr>\n",
              "    <tr>\n",
              "      <th>161</th>\n",
              "      <td>Joseph Tuấn Anh T mà ăn hiếp m à thằng lồn</td>\n",
              "      <td>1</td>\n",
              "    </tr>\n",
              "    <tr>\n",
              "      <th>1507</th>\n",
              "      <td>Anh Duy lại chó nữa🐶\\nCái dm chó cắn chó ăn cứt đi đừng có đi cắn người</td>\n",
              "      <td>1</td>\n",
              "    </tr>\n",
              "    <tr>\n",
              "      <th>1920</th>\n",
              "      <td>Khanh Pham Van mày đi hỏi nó đi! Đm ngu lồn tỏ vẻ hiểu biết.</td>\n",
              "      <td>1</td>\n",
              "    </tr>\n",
              "    <tr>\n",
              "      <th>1395</th>\n",
              "      <td>Má sử cho đẹp con đĩ đó nha má nghe nó ns mà tức thiệt chứ</td>\n",
              "      <td>1</td>\n",
              "    </tr>\n",
              "    <tr>\n",
              "      <th>1211</th>\n",
              "      <td>Hiền Hén thông cảm cho con mụ điên đấy tý đi chị êii</td>\n",
              "      <td>1</td>\n",
              "    </tr>\n",
              "    <tr>\n",
              "      <th>2106</th>\n",
              "      <td>Tui xin hỏi tụi con gái thử mày bị đánh trc mặt biết bao người v có biết nhục ko may cho mày là kiếm đc thằng ck bt nhịn mày gặp máy đứa khác đánh cho mày tung lôl</td>\n",
              "      <td>1</td>\n",
              "    </tr>\n",
              "    <tr>\n",
              "      <th>2229</th>\n",
              "      <td>Dcm may thang lon chung may ngu vay. Bon cho cong an ko đánh nhung no goi nguòi khac toi đánh. Chúng may song ma éo biet gi chet het đi bon ngu</td>\n",
              "      <td>1</td>\n",
              "    </tr>\n",
              "    <tr>\n",
              "      <th>2161</th>\n",
              "      <td>Hùng Sơn thằng đéo bò chữa hoang này.mày biết tao vùng nào không mà vào sủa  vậy? Dòng họ tao điều có 1 số người làm việc và theo 2 chế độ.tôn giáo cũng có thiên chúa nghen thằng đầu bò.nhưng khi hòa bình 2 phía vẫn nhìn nhau và giúp đỡ lẫn nhau</td>\n",
              "      <td>1</td>\n",
              "    </tr>\n",
              "    <tr>\n",
              "      <th>567</th>\n",
              "      <td>Hồng Thơm  hết chia sẻ rồi lại bình luận xàm lồn để lzi để chúng nó thấy rồi cười vào mặt cho à bớt bớt đi địt mẹ k có tiền ms buồn đi buồn vì 3 cái thằng vác buồi đi khắp thế gian lm lồn gì ns mãi vẫn thế đm ngu nó ít thôi cho t nhờ</td>\n",
              "      <td>1</td>\n",
              "    </tr>\n",
              "    <tr>\n",
              "      <th>602</th>\n",
              "      <td>Hồ như dit tổ mày.rôi gia đinh may cug vay thoi.đeo co ti tinh nguoi.con cho</td>\n",
              "      <td>1</td>\n",
              "    </tr>\n",
              "    <tr>\n",
              "      <th>2438</th>\n",
              "      <td>2 th kia là 2 th sạo lồn , chỉ có tui là muốn bên bạn thật lòng</td>\n",
              "      <td>1</td>\n",
              "    </tr>\n",
              "    <tr>\n",
              "      <th>1583</th>\n",
              "      <td>Bong Ma cái lồn mẹ mày thằng óc chó. Không cần là bác sĩ mới biết được.</td>\n",
              "      <td>1</td>\n",
              "    </tr>\n",
              "    <tr>\n",
              "      <th>830</th>\n",
              "      <td>Nguyen Cherry nao may co oc kg ? Ngu con noi Nhieu !</td>\n",
              "      <td>1</td>\n",
              "    </tr>\n",
              "    <tr>\n",
              "      <th>2402</th>\n",
              "      <td>Ngọc Ánh Bb như cc ck tôi rồi riêng cha này k nhường nhé</td>\n",
              "      <td>1</td>\n",
              "    </tr>\n",
              "    <tr>\n",
              "      <th>769</th>\n",
              "      <td>Loại con gái như con này có chó nó mới ưng , xấu mà còn đóng vai ác nửa</td>\n",
              "      <td>1</td>\n",
              "    </tr>\n",
              "    <tr>\n",
              "      <th>166</th>\n",
              "      <td>huyhy nguyễn thôi bạn ơi. Đừng có lên mạng xl về trải sự đời với thất bại và thành công với người khác.\\nKhông lại thành người hay nói đạo lý thì thường sống như l*n đấy.</td>\n",
              "      <td>1</td>\n",
              "    </tr>\n",
              "    <tr>\n",
              "      <th>739</th>\n",
              "      <td>Nguyen Kenny .bắc kỳ chó. Bắc kỳ chúng mày đi theo CS. Nghèo nàn lạc hậu đói khổ chết mẹ. Đi ăn cướp miền nam rồi xạo lồn nói là đi giải phóng</td>\n",
              "      <td>1</td>\n",
              "    </tr>\n",
              "    <tr>\n",
              "      <th>531</th>\n",
              "      <td>Yêu cc ty xạo lol \\nXấu ai theo \\nNghèo ai ngó \\nĐang iu cái lol ty bãi rác 🙂</td>\n",
              "      <td>1</td>\n",
              "    </tr>\n",
              "    <tr>\n",
              "      <th>485</th>\n",
              "      <td>Tou Prong Sép khá bảnh là bố của mày hả, cái địt cụ thằng óc chó này, cho mày ăn bả bây h</td>\n",
              "      <td>1</td>\n",
              "    </tr>\n",
              "    <tr>\n",
              "      <th>1173</th>\n",
              "      <td>Nghiên Ngan ....mấy thằng bình luận ngu vl. Nó hỏi thích xoạc con gái ở đâu. Cứ trả lời lung tung. Thích xoạc ngã ba chứ chả lẽ xoạc sau lưng</td>\n",
              "      <td>1</td>\n",
              "    </tr>\n",
              "    <tr>\n",
              "      <th>2148</th>\n",
              "      <td>Đắng Cay Cuộc Đời bạn ns thế chịu bạn gặp trực tiếp ngta mà lm vc ngu cứ tỏ ra khôn lz. Ai ns nợ xấu ko vay đc bạn ko quen biết ai trong ngân hàng vào vay ai chả ko hỗ trợ. Quan hệ ko có, có những ng quan hệ tốt họ lo đc</td>\n",
              "      <td>1</td>\n",
              "    </tr>\n",
              "    <tr>\n",
              "      <th>2699</th>\n",
              "      <td>Trọng's Oppa's bố trẻ m còn dzai hơn th bố ông nội nhà m địt mẹ th quê , CÂM và CÚT</td>\n",
              "      <td>1</td>\n",
              "    </tr>\n",
              "    <tr>\n",
              "      <th>988</th>\n",
              "      <td>Hà S Ùng dm tau thấy hay mà.mày làm dk như vậy ko.mấy cái thể loại bà 62 tuổi lái phi công .hay thầy giáo hiếp hs.hotgirl lộ clip sao bọn mày ko bảo chất độc đi.</td>\n",
              "      <td>1</td>\n",
              "    </tr>\n",
              "    <tr>\n",
              "      <th>1537</th>\n",
              "      <td>Dm~~ đồ ranh con dám hun ng thg của ta huhu 😭😂😂😂😍</td>\n",
              "      <td>1</td>\n",
              "    </tr>\n",
              "    <tr>\n",
              "      <th>2255</th>\n",
              "      <td>con đĩ trung đứng píc pót :))) con meo đang nhảy</td>\n",
              "      <td>1</td>\n",
              "    </tr>\n",
              "    <tr>\n",
              "      <th>975</th>\n",
              "      <td>Bong Ma cái lồn mẹ mày thằng óc chó. Không cần là bác sĩ mới biết được.</td>\n",
              "      <td>1</td>\n",
              "    </tr>\n",
              "    <tr>\n",
              "      <th>632</th>\n",
              "      <td>Đỡ hơn mấy ông chơi cứ văng tục, chửi người ta ngu này nọ, đằng này FL nháy đèn khịa đối thủ làm tăng độ hấp dẫn cho game thôi :))</td>\n",
              "      <td>1</td>\n",
              "    </tr>\n",
              "    <tr>\n",
              "      <th>2540</th>\n",
              "      <td>Lủ trẻ trâu bây bớt sủa đi thằng Kẻ Gác Bình Minh nó nói đúng ròi .nhìn như lủ điên dm lủ trẩu con zô ẳng hả sủa như đúng rồi đúng não chó</td>\n",
              "      <td>1</td>\n",
              "    </tr>\n",
              "    <tr>\n",
              "      <th>1119</th>\n",
              "      <td>Tù đầu buồi. Nói như mày thanh niên việt nam đi tù gần hết.</td>\n",
              "      <td>1</td>\n",
              "    </tr>\n",
              "    <tr>\n",
              "      <th>1755</th>\n",
              "      <td>Bọn chó này nếu vào tay tôi thì tôi tử hình hết ko để một kẻ nào để hại Dân việt nam cả</td>\n",
              "      <td>1</td>\n",
              "    </tr>\n",
              "    <tr>\n",
              "      <th>2309</th>\n",
              "      <td>ngu vl.m cóc J t cóc Q cơ.xem m danh gì.ngu còn tỏ ra ngu hẳn</td>\n",
              "      <td>1</td>\n",
              "    </tr>\n",
              "  </tbody>\n",
              "</table>\n",
              "</div>\n",
              "    <div class=\"colab-df-buttons\">\n",
              "\n",
              "  <div class=\"colab-df-container\">\n",
              "    <button class=\"colab-df-convert\" onclick=\"convertToInteractive('df-7c3eda97-ba9f-4cf8-a3a1-f42cc63b333e')\"\n",
              "            title=\"Convert this dataframe to an interactive table.\"\n",
              "            style=\"display:none;\">\n",
              "\n",
              "  <svg xmlns=\"http://www.w3.org/2000/svg\" height=\"24px\" viewBox=\"0 -960 960 960\">\n",
              "    <path d=\"M120-120v-720h720v720H120Zm60-500h600v-160H180v160Zm220 220h160v-160H400v160Zm0 220h160v-160H400v160ZM180-400h160v-160H180v160Zm440 0h160v-160H620v160ZM180-180h160v-160H180v160Zm440 0h160v-160H620v160Z\"/>\n",
              "  </svg>\n",
              "    </button>\n",
              "\n",
              "  <style>\n",
              "    .colab-df-container {\n",
              "      display:flex;\n",
              "      gap: 12px;\n",
              "    }\n",
              "\n",
              "    .colab-df-convert {\n",
              "      background-color: #E8F0FE;\n",
              "      border: none;\n",
              "      border-radius: 50%;\n",
              "      cursor: pointer;\n",
              "      display: none;\n",
              "      fill: #1967D2;\n",
              "      height: 32px;\n",
              "      padding: 0 0 0 0;\n",
              "      width: 32px;\n",
              "    }\n",
              "\n",
              "    .colab-df-convert:hover {\n",
              "      background-color: #E2EBFA;\n",
              "      box-shadow: 0px 1px 2px rgba(60, 64, 67, 0.3), 0px 1px 3px 1px rgba(60, 64, 67, 0.15);\n",
              "      fill: #174EA6;\n",
              "    }\n",
              "\n",
              "    .colab-df-buttons div {\n",
              "      margin-bottom: 4px;\n",
              "    }\n",
              "\n",
              "    [theme=dark] .colab-df-convert {\n",
              "      background-color: #3B4455;\n",
              "      fill: #D2E3FC;\n",
              "    }\n",
              "\n",
              "    [theme=dark] .colab-df-convert:hover {\n",
              "      background-color: #434B5C;\n",
              "      box-shadow: 0px 1px 3px 1px rgba(0, 0, 0, 0.15);\n",
              "      filter: drop-shadow(0px 1px 2px rgba(0, 0, 0, 0.3));\n",
              "      fill: #FFFFFF;\n",
              "    }\n",
              "  </style>\n",
              "\n",
              "    <script>\n",
              "      const buttonEl =\n",
              "        document.querySelector('#df-7c3eda97-ba9f-4cf8-a3a1-f42cc63b333e button.colab-df-convert');\n",
              "      buttonEl.style.display =\n",
              "        google.colab.kernel.accessAllowed ? 'block' : 'none';\n",
              "\n",
              "      async function convertToInteractive(key) {\n",
              "        const element = document.querySelector('#df-7c3eda97-ba9f-4cf8-a3a1-f42cc63b333e');\n",
              "        const dataTable =\n",
              "          await google.colab.kernel.invokeFunction('convertToInteractive',\n",
              "                                                    [key], {});\n",
              "        if (!dataTable) return;\n",
              "\n",
              "        const docLinkHtml = 'Like what you see? Visit the ' +\n",
              "          '<a target=\"_blank\" href=https://colab.research.google.com/notebooks/data_table.ipynb>data table notebook</a>'\n",
              "          + ' to learn more about interactive tables.';\n",
              "        element.innerHTML = '';\n",
              "        dataTable['output_type'] = 'display_data';\n",
              "        await google.colab.output.renderOutput(dataTable, element);\n",
              "        const docLink = document.createElement('div');\n",
              "        docLink.innerHTML = docLinkHtml;\n",
              "        element.appendChild(docLink);\n",
              "      }\n",
              "    </script>\n",
              "  </div>\n",
              "\n",
              "\n",
              "<div id=\"df-01b615c3-3184-4ff0-8445-418eb857dcff\">\n",
              "  <button class=\"colab-df-quickchart\" onclick=\"quickchart('df-01b615c3-3184-4ff0-8445-418eb857dcff')\"\n",
              "            title=\"Suggest charts\"\n",
              "            style=\"display:none;\">\n",
              "\n",
              "<svg xmlns=\"http://www.w3.org/2000/svg\" height=\"24px\"viewBox=\"0 0 24 24\"\n",
              "     width=\"24px\">\n",
              "    <g>\n",
              "        <path d=\"M19 3H5c-1.1 0-2 .9-2 2v14c0 1.1.9 2 2 2h14c1.1 0 2-.9 2-2V5c0-1.1-.9-2-2-2zM9 17H7v-7h2v7zm4 0h-2V7h2v10zm4 0h-2v-4h2v4z\"/>\n",
              "    </g>\n",
              "</svg>\n",
              "  </button>\n",
              "\n",
              "<style>\n",
              "  .colab-df-quickchart {\n",
              "      --bg-color: #E8F0FE;\n",
              "      --fill-color: #1967D2;\n",
              "      --hover-bg-color: #E2EBFA;\n",
              "      --hover-fill-color: #174EA6;\n",
              "      --disabled-fill-color: #AAA;\n",
              "      --disabled-bg-color: #DDD;\n",
              "  }\n",
              "\n",
              "  [theme=dark] .colab-df-quickchart {\n",
              "      --bg-color: #3B4455;\n",
              "      --fill-color: #D2E3FC;\n",
              "      --hover-bg-color: #434B5C;\n",
              "      --hover-fill-color: #FFFFFF;\n",
              "      --disabled-bg-color: #3B4455;\n",
              "      --disabled-fill-color: #666;\n",
              "  }\n",
              "\n",
              "  .colab-df-quickchart {\n",
              "    background-color: var(--bg-color);\n",
              "    border: none;\n",
              "    border-radius: 50%;\n",
              "    cursor: pointer;\n",
              "    display: none;\n",
              "    fill: var(--fill-color);\n",
              "    height: 32px;\n",
              "    padding: 0;\n",
              "    width: 32px;\n",
              "  }\n",
              "\n",
              "  .colab-df-quickchart:hover {\n",
              "    background-color: var(--hover-bg-color);\n",
              "    box-shadow: 0 1px 2px rgba(60, 64, 67, 0.3), 0 1px 3px 1px rgba(60, 64, 67, 0.15);\n",
              "    fill: var(--button-hover-fill-color);\n",
              "  }\n",
              "\n",
              "  .colab-df-quickchart-complete:disabled,\n",
              "  .colab-df-quickchart-complete:disabled:hover {\n",
              "    background-color: var(--disabled-bg-color);\n",
              "    fill: var(--disabled-fill-color);\n",
              "    box-shadow: none;\n",
              "  }\n",
              "\n",
              "  .colab-df-spinner {\n",
              "    border: 2px solid var(--fill-color);\n",
              "    border-color: transparent;\n",
              "    border-bottom-color: var(--fill-color);\n",
              "    animation:\n",
              "      spin 1s steps(1) infinite;\n",
              "  }\n",
              "\n",
              "  @keyframes spin {\n",
              "    0% {\n",
              "      border-color: transparent;\n",
              "      border-bottom-color: var(--fill-color);\n",
              "      border-left-color: var(--fill-color);\n",
              "    }\n",
              "    20% {\n",
              "      border-color: transparent;\n",
              "      border-left-color: var(--fill-color);\n",
              "      border-top-color: var(--fill-color);\n",
              "    }\n",
              "    30% {\n",
              "      border-color: transparent;\n",
              "      border-left-color: var(--fill-color);\n",
              "      border-top-color: var(--fill-color);\n",
              "      border-right-color: var(--fill-color);\n",
              "    }\n",
              "    40% {\n",
              "      border-color: transparent;\n",
              "      border-right-color: var(--fill-color);\n",
              "      border-top-color: var(--fill-color);\n",
              "    }\n",
              "    60% {\n",
              "      border-color: transparent;\n",
              "      border-right-color: var(--fill-color);\n",
              "    }\n",
              "    80% {\n",
              "      border-color: transparent;\n",
              "      border-right-color: var(--fill-color);\n",
              "      border-bottom-color: var(--fill-color);\n",
              "    }\n",
              "    90% {\n",
              "      border-color: transparent;\n",
              "      border-bottom-color: var(--fill-color);\n",
              "    }\n",
              "  }\n",
              "</style>\n",
              "\n",
              "  <script>\n",
              "    async function quickchart(key) {\n",
              "      const quickchartButtonEl =\n",
              "        document.querySelector('#' + key + ' button');\n",
              "      quickchartButtonEl.disabled = true;  // To prevent multiple clicks.\n",
              "      quickchartButtonEl.classList.add('colab-df-spinner');\n",
              "      try {\n",
              "        const charts = await google.colab.kernel.invokeFunction(\n",
              "            'suggestCharts', [key], {});\n",
              "      } catch (error) {\n",
              "        console.error('Error during call to suggestCharts:', error);\n",
              "      }\n",
              "      quickchartButtonEl.classList.remove('colab-df-spinner');\n",
              "      quickchartButtonEl.classList.add('colab-df-quickchart-complete');\n",
              "    }\n",
              "    (() => {\n",
              "      let quickchartButtonEl =\n",
              "        document.querySelector('#df-01b615c3-3184-4ff0-8445-418eb857dcff button');\n",
              "      quickchartButtonEl.style.display =\n",
              "        google.colab.kernel.accessAllowed ? 'block' : 'none';\n",
              "    })();\n",
              "  </script>\n",
              "</div>\n",
              "\n",
              "    </div>\n",
              "  </div>\n"
            ],
            "application/vnd.google.colaboratory.intrinsic+json": {
              "type": "dataframe",
              "summary": "{\n  \"name\": \"test\",\n  \"rows\": 32,\n  \"fields\": [\n    {\n      \"column\": \"text\",\n      \"properties\": {\n        \"dtype\": \"string\",\n        \"num_unique_values\": 31,\n        \"samples\": [\n          \"L\\u1ee7 tr\\u1ebb tr\\u00e2u b\\u00e2y b\\u1edbt s\\u1ee7a \\u0111i th\\u1eb1ng K\\u1ebb G\\u00e1c B\\u00ecnh Minh n\\u00f3 n\\u00f3i \\u0111\\u00fang r\\u00f2i .nh\\u00ecn nh\\u01b0 l\\u1ee7 \\u0111i\\u00ean dm l\\u1ee7 tr\\u1ea9u con z\\u00f4 \\u1eb3ng h\\u1ea3 s\\u1ee7a nh\\u01b0 \\u0111\\u00fang r\\u1ed3i \\u0111\\u00fang n\\u00e3o ch\\u00f3\",\n          \"Lo\\u1ea1i con g\\u00e1i nh\\u01b0 con n\\u00e0y c\\u00f3 ch\\u00f3 n\\u00f3 m\\u1edbi \\u01b0ng , x\\u1ea5u m\\u00e0 c\\u00f2n \\u0111\\u00f3ng vai \\u00e1c n\\u1eeda\",\n          \"H\\u00e0 S \\u00d9ng dm tau th\\u1ea5y hay m\\u00e0.m\\u00e0y l\\u00e0m dk nh\\u01b0 v\\u1eady ko.m\\u1ea5y c\\u00e1i th\\u1ec3 lo\\u1ea1i b\\u00e0 62 tu\\u1ed5i l\\u00e1i phi c\\u00f4ng .hay th\\u1ea7y gi\\u00e1o hi\\u1ebfp hs.hotgirl l\\u1ed9 clip sao b\\u1ecdn m\\u00e0y ko b\\u1ea3o ch\\u1ea5t \\u0111\\u1ed9c \\u0111i.\"\n        ],\n        \"semantic_type\": \"\",\n        \"description\": \"\"\n      }\n    },\n    {\n      \"column\": \"label\",\n      \"properties\": {\n        \"dtype\": \"number\",\n        \"std\": 0,\n        \"min\": 1,\n        \"max\": 1,\n        \"num_unique_values\": 1,\n        \"samples\": [\n          1\n        ],\n        \"semantic_type\": \"\",\n        \"description\": \"\"\n      }\n    }\n  ]\n}"
            }
          },
          "metadata": {},
          "execution_count": 42
        }
      ]
    }
  ]
}